{
 "cells": [
  {
   "cell_type": "markdown",
   "metadata": {
    "toc": "true"
   },
   "source": [
    "# Table of Contents\n",
    " <p><div class=\"lev1 toc-item\"><a href=\"#Optical-properties-of-responsive-hybrid-Au@polymer-nanoparticles\" data-toc-modified-id=\"Optical-properties-of-responsive-hybrid-Au@polymer-nanoparticles-1\"><span class=\"toc-item-num\">1&nbsp;&nbsp;</span>Optical properties of responsive hybrid Au@polymer nanoparticles</a></div><div class=\"lev2 toc-item\"><a href=\"#Supporting-information---data-analysis:-peak-analysis\" data-toc-modified-id=\"Supporting-information---data-analysis:-peak-analysis-11\"><span class=\"toc-item-num\">1.1&nbsp;&nbsp;</span>Supporting information - data analysis: peak analysis</a></div><div class=\"lev2 toc-item\"><a href=\"#Abstract\" data-toc-modified-id=\"Abstract-12\"><span class=\"toc-item-num\">1.2&nbsp;&nbsp;</span>Abstract</a></div><div class=\"lev1 toc-item\"><a href=\"#Initialize-analysis\" data-toc-modified-id=\"Initialize-analysis-2\"><span class=\"toc-item-num\">2&nbsp;&nbsp;</span>Initialize analysis</a></div><div class=\"lev2 toc-item\"><a href=\"#Initialize-computational/python-framework\" data-toc-modified-id=\"Initialize-computational/python-framework-21\"><span class=\"toc-item-num\">2.1&nbsp;&nbsp;</span>Initialize computational/python framework</a></div><div class=\"lev2 toc-item\"><a href=\"#Import-data\" data-toc-modified-id=\"Import-data-22\"><span class=\"toc-item-num\">2.2&nbsp;&nbsp;</span>Import data</a></div><div class=\"lev3 toc-item\"><a href=\"#Raw-data\" data-toc-modified-id=\"Raw-data-221\"><span class=\"toc-item-num\">2.2.1&nbsp;&nbsp;</span>Raw data</a></div><div class=\"lev1 toc-item\"><a href=\"#Peak-analysis:-No-scattering-baseline-correction\" data-toc-modified-id=\"Peak-analysis:-No-scattering-baseline-correction-3\"><span class=\"toc-item-num\">3&nbsp;&nbsp;</span>Peak analysis: No scattering baseline correction</a></div><div class=\"lev2 toc-item\"><a href=\"#Peak-analysis\" data-toc-modified-id=\"Peak-analysis-31\"><span class=\"toc-item-num\">3.1&nbsp;&nbsp;</span>Peak analysis</a></div><div class=\"lev3 toc-item\"><a href=\"#Core-only\" data-toc-modified-id=\"Core-only-311\"><span class=\"toc-item-num\">3.1.1&nbsp;&nbsp;</span>Core only</a></div><div class=\"lev3 toc-item\"><a href=\"#Core-shell\" data-toc-modified-id=\"Core-shell-312\"><span class=\"toc-item-num\">3.1.2&nbsp;&nbsp;</span>Core-shell</a></div><div class=\"lev1 toc-item\"><a href=\"#Peak-Analysis:-Power-law-baseline-for-scattering-correction\" data-toc-modified-id=\"Peak-Analysis:-Power-law-baseline-for-scattering-correction-4\"><span class=\"toc-item-num\">4&nbsp;&nbsp;</span>Peak Analysis: Power law baseline for scattering correction</a></div><div class=\"lev2 toc-item\"><a href=\"#Peak-analysis\" data-toc-modified-id=\"Peak-analysis-41\"><span class=\"toc-item-num\">4.1&nbsp;&nbsp;</span>Peak analysis</a></div><div class=\"lev3 toc-item\"><a href=\"#Core-only\" data-toc-modified-id=\"Core-only-411\"><span class=\"toc-item-num\">4.1.1&nbsp;&nbsp;</span>Core only</a></div><div class=\"lev3 toc-item\"><a href=\"#Core-shell\" data-toc-modified-id=\"Core-shell-412\"><span class=\"toc-item-num\">4.1.2&nbsp;&nbsp;</span>Core-shell</a></div><div class=\"lev2 toc-item\"><a href=\"#Hydrodynamic-radius-vs-scattering-parameter-$\\gamma$-plots\" data-toc-modified-id=\"Hydrodynamic-radius-vs-scattering-parameter-$\\gamma$-plots-42\"><span class=\"toc-item-num\">4.2&nbsp;&nbsp;</span>Hydrodynamic radius vs scattering parameter <span class=\"MathJax_Preview\" style=\"color: inherit;\"><span class=\"MJXp-math\" id=\"MJXp-Span-193\"><span class=\"MJXp-mi MJXp-italic\" id=\"MJXp-Span-194\">γ</span></span></span><span class=\"MathJax MathJax_Processing\" id=\"MathJax-Element-17-Frame\" tabindex=\"0\"></span><script type=\"math/tex\" id=\"MathJax-Element-17\">\\gamma</script> plots</a></div><div class=\"lev3 toc-item\"><a href=\"#Estimates-of-scattering-limits\" data-toc-modified-id=\"Estimates-of-scattering-limits-421\"><span class=\"toc-item-num\">4.2.1&nbsp;&nbsp;</span>Estimates of scattering limits</a></div><div class=\"lev3 toc-item\"><a href=\"#individually\" data-toc-modified-id=\"individually-422\"><span class=\"toc-item-num\">4.2.2&nbsp;&nbsp;</span>individually</a></div><div class=\"lev3 toc-item\"><a href=\"#Together\" data-toc-modified-id=\"Together-423\"><span class=\"toc-item-num\">4.2.3&nbsp;&nbsp;</span>Together</a></div><div class=\"lev2 toc-item\"><a href=\"#Shell-to-core-ratio-vs-scattering-parameter-$\\gamma$-plots\" data-toc-modified-id=\"Shell-to-core-ratio-vs-scattering-parameter-$\\gamma$-plots-43\"><span class=\"toc-item-num\">4.3&nbsp;&nbsp;</span>Shell-to-core ratio vs scattering parameter <span class=\"MathJax_Preview\" style=\"color: inherit;\"><span class=\"MJXp-math\" id=\"MJXp-Span-195\"><span class=\"MJXp-mi MJXp-italic\" id=\"MJXp-Span-196\">γ</span></span></span><span class=\"MathJax MathJax_Processing\" id=\"MathJax-Element-18-Frame\" tabindex=\"0\"></span><script type=\"math/tex\" id=\"MathJax-Element-18\">\\gamma</script> plots</a></div><div class=\"lev3 toc-item\"><a href=\"#Estimates-of-scattering-limits\" data-toc-modified-id=\"Estimates-of-scattering-limits-431\"><span class=\"toc-item-num\">4.3.1&nbsp;&nbsp;</span>Estimates of scattering limits</a></div><div class=\"lev3 toc-item\"><a href=\"#individually\" data-toc-modified-id=\"individually-432\"><span class=\"toc-item-num\">4.3.2&nbsp;&nbsp;</span>individually</a></div><div class=\"lev3 toc-item\"><a href=\"#Together\" data-toc-modified-id=\"Together-433\"><span class=\"toc-item-num\">4.3.3&nbsp;&nbsp;</span>Together</a></div>"
   ]
  },
  {
   "cell_type": "markdown",
   "metadata": {},
   "source": [
    "Optical properties of responsive hybrid Au@polymer nanoparticles\n",
    "========"
   ]
  },
  {
   "cell_type": "markdown",
   "metadata": {},
   "source": [
    "Must change title eventually"
   ]
  },
  {
   "cell_type": "markdown",
   "metadata": {},
   "source": [
    "Supporting information - data analysis: peak analysis\n",
    "--------"
   ]
  },
  {
   "cell_type": "markdown",
   "metadata": {},
   "source": [
    "Abstract\n",
    "--------"
   ]
  },
  {
   "cell_type": "markdown",
   "metadata": {},
   "source": [
    "We take a close look at the physical and optical properties of Au@PNIPAM core-shell nanoparticles.  \n",
    "- Small cores $\\sim$8 nm\n",
    "- Large range of shell thickness: $[16, 193]$ nm\n",
    "- PNIPAM is thermally responsive\n",
    "  - Swells with decreasing temperature\n",
    "    - $\\downarrow T \\equiv \\uparrow R_{\\mathrm{shell}}$ \n",
    "  - Decrease in refractive index with decreasing temperature: \n",
    "    - $\\downarrow T \\equiv \\downarrow n_{\\mathrm{shell}}$  \n",
    "\n",
    "The LSPR peak wavelength shifts with decreasing temperature\n",
    "  - Small shells show a blue-shift\n",
    "    - due to $\\downarrow n_{\\mathrm{shell}}$\n",
    "  - Large shells show almost no shift\n",
    "    - Scattering counteracts blue-shift\n",
    "    - Background subtraction reveals blue-shift\n",
    "      - similar magnitude shift to thin shells  \n",
    "\n",
    "Scattering follows a power law relationship $C_{\\mathrm{ext}} = \\kappa \\lambda^{\\eta}$\n",
    "  - LSPR peak wavelength difficult to identify for large scattering\n",
    "    - Scattering background must be accounted\n",
    "    - Simple polynomial not sufficient\n",
    "  - Exponent $\\eta$ changes with wavelength $\\lambda$ and shell size\n",
    "    - Thick/high-RI shells are not Mie scatterers ($\\sim\\lambda^{-4}$)\n",
    "    - Exponent nearly constant over a small wavelength range\n",
    "      - Here we use the range $[450, 650]$ nm centered on the Au LSPR peak wavelength $\\sim$ 525 nm\n",
    "      - LSPR also shows increased extinction with shorter wavelengths\n",
    "        - 'False' power law background has exponent $\\eta_{\\mathrm{LSPR}} \\sim 5$\n",
    "        - Add (scaled) LSPR background to account for false subtraction \n",
    "  - Power law exponent varies between $\\sim$0 and $\\sim$3\n",
    "    - Scattering from thin shells overwhelmed by LSPR\n",
    "    - Largest shells fit power law exponent $\\eta_{\\mathrm{shell}} \\sim 3$\n",
    "    "
   ]
  },
  {
   "cell_type": "markdown",
   "metadata": {},
   "source": [
    "$$\\gamma_{\\mathrm{scat}} = \\frac{C_{\\mathrm{ext}}(\\lambda_{\\mathrm{peak}})/C_{\\mathrm{ext}}(400{\\mathrm{ nm}}) }{\\left[C_{\\mathrm{ext}}(\\lambda_{\\mathrm{peak}})/C_{\\mathrm{ext}}(400{\\mathrm{ nm}}) \\right]_{\\mathrm{core}}}$$"
   ]
  },
  {
   "cell_type": "markdown",
   "metadata": {},
   "source": [
    "# Initialize analysis"
   ]
  },
  {
   "cell_type": "markdown",
   "metadata": {
    "heading_collapsed": true
   },
   "source": [
    "## Initialize computational/python framework"
   ]
  },
  {
   "cell_type": "code",
   "execution_count": 1,
   "metadata": {
    "ExecuteTime": {
     "end_time": "2017-02-22T15:33:19.217922",
     "start_time": "2017-02-22T15:33:13.617055"
    },
    "collapsed": false,
    "format": "tab",
    "hidden": true,
    "scrolled": true
   },
   "outputs": [
    {
     "name": "stdout",
     "output_type": "stream",
     "text": [
      "Loading import modules ...\n",
      "  ... math, cmath (local)\n",
      "  ... os, sys, types, importlib\n",
      "  ... time, datetime\n",
      "  ... ipyparallel as ipp\n",
      "  ... numpy as np\n",
      "  ... scipy as sp\n",
      "      scipy.special (local, for Bessel functions)\n",
      "      scipy.interpolate as interpolate\n",
      "      scipy.signal as signal\n",
      "  ... matplotlib\n",
      "      matplotlib.pyplot as plt\n",
      "      matplotlib.cm as cm\n",
      "      matplotlib.pylab as pylab\n",
      "  ... peakutils\n",
      "Defining fundamental constants ...\n",
      "  ... Avogadro's number: 'AvogadroN'\n",
      "  ... speed of light: 'cumfs','cnmfs'\n",
      "  ... Planck's constant: 'heVfs','hbareVfs'\n",
      "  ... electron rest mass: 'eMass0eVnmfs'\n",
      "  ... permittivity of free space: 'eps0enmV'\n",
      "Loading analysis codes ... \n",
      "  ... refractive index functions loaded:\n",
      "       Au, Ag, SiO2, ITO, ZnO, H2O, \n",
      "       ethanol, CS2, benzene, toluene, \n",
      "       chloroform, methanol, butanol, \n",
      "       propanol\n",
      "  ... Mie functions loaded\n",
      "Ready player one.\n"
     ]
    }
   ],
   "source": [
    "%run \"header.py\""
   ]
  },
  {
   "cell_type": "markdown",
   "metadata": {
    "heading_collapsed": true
   },
   "source": [
    "## Import data"
   ]
  },
  {
   "cell_type": "markdown",
   "metadata": {
    "heading_collapsed": true,
    "hidden": true
   },
   "source": [
    "### Raw data"
   ]
  },
  {
   "cell_type": "code",
   "execution_count": 2,
   "metadata": {
    "ExecuteTime": {
     "end_time": "2017-02-22T15:33:19.709205",
     "start_time": "2017-02-22T15:33:19.218925"
    },
    "collapsed": false,
    "format": "tab",
    "hidden": true,
    "scrolled": true
   },
   "outputs": [
    {
     "name": "stdout",
     "output_type": "stream",
     "text": [
      "Loading import modules ...\n",
      "  ... math, cmath (local)\n",
      "  ... os, sys, types, importlib\n",
      "  ... time, datetime\n",
      "  ... ipyparallel as ipp\n",
      "  ... numpy as np\n",
      "  ... scipy as sp\n",
      "      scipy.special (local, for Bessel functions)\n",
      "      scipy.interpolate as interpolate\n",
      "      scipy.signal as signal\n",
      "  ... matplotlib\n",
      "      matplotlib.pyplot as plt\n",
      "      matplotlib.cm as cm\n",
      "      matplotlib.pylab as pylab\n",
      "  ... peakutils\n",
      "Defining fundamental constants ...\n",
      "  ... Avogadro's number: 'AvogadroN'\n",
      "  ... speed of light: 'cumfs','cnmfs'\n",
      "  ... Planck's constant: 'heVfs','hbareVfs'\n",
      "  ... electron rest mass: 'eMass0eVnmfs'\n",
      "  ... permittivity of free space: 'eps0enmV'\n",
      "Loading analysis codes ... \n",
      "  ... refractive index functions loaded:\n",
      "       Au, Ag, SiO2, ITO, ZnO, H2O, \n",
      "       ethanol, CS2, benzene, toluene, \n",
      "       chloroform, methanol, butanol, \n",
      "       propanol\n",
      "  ... Mie functions loaded\n",
      "Ready player one.\n",
      "Import and organize data\n",
      "========================\n",
      "Linear PNIPAM: \n",
      "Importing data in folder data_20160905 ...\n",
      "  * Au-linPNIPAM-long-hydr-radius.dat\n",
      "  * Au-linPNIPAM-long.dat\n",
      "  * Au-linPNIPAM-medium-hydr-radius.dat\n",
      "  * Au-linPNIPAM-medium.dat\n",
      "  * Au-linPNIPAM-short-hydr-radius.dat\n",
      "  * Au-linPNIPAM-short.dat\n",
      "  * core-spectrum-AW5.txt\n",
      "Oganizing data ...\n",
      "  * extrapolate hydrodynamic radius from DLS to UV-Vis temps\n",
      "  * organized as [ wl-nm, abs, temp, Rh, sample-# ]\n",
      "  * sample 2 = thick shell, 1 = medium, 0 = thin\n",
      "  * core alone sorted separately\n",
      "Done.\n",
      "\n",
      "Import and organize data\n",
      "========================\n",
      "X-linked PNIPAM: \n",
      "Importing data in folder data_20160906 ...\n",
      "  * Au-core-only-for-xPNIPAM.dat\n",
      "  * Au-xPNIPAM-long-hydr-radius.dat\n",
      "  * Au-xPNIPAM-long.dat\n",
      "  * Au-xPNIPAM-medium-hydr-radius.dat\n",
      "  * Au-xPNIPAM-medium.dat\n",
      "  * Au-xPNIPAM-short-hydr-radius.dat\n",
      "  * Au-xPNIPAM-short.dat\n",
      "  * temperature-calibration.dat\n",
      "Oganizing data ...\n",
      "  * extrapolate hydrodynamic radius from DLS to UV-Vis temps\n",
      "  * organized as [ wl-nm, abs, temp, Rh, sample-# ]\n",
      "  * sample 5 = thick shell, 4 = medium, 3 = thin\n",
      "  * core alone sorted separately\n",
      "Done.\n",
      "\n",
      "Combining data sets...\n",
      "0 :\t 13 temperatures\n",
      "1 :\t 13 temperatures\n",
      "2 :\t 12 temperatures\n",
      "3 :\t 21 temperatures\n",
      "4 :\t 21 temperatures\n",
      "5 :\t 21 temperatures\n",
      "Variables:\n",
      "  * indexes:\n",
      "    - \"coreNum\" (2): \n",
      "      (0=Lin),\t(1=X-L)\n",
      "    - \"sampleNum\" (6): \n",
      "      (0=L-Thn),\t(1=L-Med),\t(2=L-Thk),\n",
      "      (3=X-Thn),\t(4=X-Med),\t5=(X-Thk)\n",
      "  * \"spectraCores\" = core spectra\n",
      "    - type:\t <class 'numpy.ndarray'>\n",
      "    - size:\t (2, 911, 2)\n",
      "    - [coreNum]  x  [wl-index]  x  [ wl-nm, ext-au ]\n",
      "  * \"coreRnms\" = core radiuses\n",
      "    - type:\t <class 'list'>\n",
      "    - size:\t (2,)\n",
      "    - [coreNum] x [core-radius-TEM-nm]\n",
      "  * \"dataArray\" = core-shell spectra\n",
      "    - type:\t <class 'numpy.ndarray'>\n",
      "    - size:\t (92011, 5)\n",
      "    - [data-index]  x  [ wl-nm, ext-au, temp-C, Rh-nm, sampleNum ]\n",
      "  * \"spectraTemps\" = core-shell temperatures\n",
      "    - type:\t <class 'numpy.ndarray'>\n",
      "    - size:\t (6,)\n",
      "    - [sampleNum]  x  [ temp-C ]\n",
      "  * \"spectraRhnms\" = core-shell hydrodynamic radiuses\n",
      "    - type:\t <class 'numpy.ndarray'>\n",
      "    - size:\t (6,)\n",
      "    - [sampleNum]  x  [ Rh-nm ]\n",
      "Done.\n",
      "\n"
     ]
    }
   ],
   "source": [
    "%run header_import-data"
   ]
  },
  {
   "cell_type": "markdown",
   "metadata": {},
   "source": [
    "# Peak analysis: No scattering baseline correction"
   ]
  },
  {
   "cell_type": "markdown",
   "metadata": {},
   "source": [
    "## Peak analysis"
   ]
  },
  {
   "cell_type": "markdown",
   "metadata": {},
   "source": [
    "### Core only"
   ]
  },
  {
   "cell_type": "code",
   "execution_count": 3,
   "metadata": {
    "ExecuteTime": {
     "end_time": "2017-02-22T15:34:10.442002",
     "start_time": "2017-02-22T15:34:10.397750"
    },
    "collapsed": false,
    "format": "tab",
    "scrolled": true
   },
   "outputs": [
    {
     "name": "stdout",
     "output_type": "stream",
     "text": [
      "LSPR peak wavelengths\n",
      "=====================\n",
      "Bare cores only\n",
      "  * looking for one peak at 525 nm \n",
      "    - in the range [ 490 , 560 ] nm\n",
      "  * peaks detected: \n",
      "    wl-nm (interp),\t [wl-nm,  ext]\n",
      "   - Core # 0 ( L-Core_D=17-nm )\n",
      "    519.72 ,\t\t [519.0, 1.1]\n",
      "   - Core # 1 ( X-Core_D=13-nm )\n",
      "    517.55 ,\t\t [518.0, 1.44]\n",
      "  * output array format: \n",
      "    [ peak-wl-nm, Rcore-nm]\n"
     ]
    }
   ],
   "source": [
    "threshold = 0.25\n",
    "wlExpectednm = 525\n",
    "dwlExpectednm = 35\n",
    "nPeaks = 1\n",
    "wlMin0nm, wlMax0nm = wlExpectednm-2*dwlExpectednm, wlExpectednm+2*dwlExpectednm\n",
    "wlMinnm, wlMaxnm = wlExpectednm-dwlExpectednm, wlExpectednm+dwlExpectednm\n",
    "\n",
    "timestamp = ('{:%Y%m%d}'.format(datetime.datetime.now()))\n",
    "exportFormat = '.dat'\n",
    "identifier = \"_lspr-core-peaks\"\n",
    "folder = 'graphics/'\n",
    "datHeader = ('\\t').join(('wl-nm', 'Rcore-nm'))\n",
    "\n",
    "print('LSPR peak wavelengths')\n",
    "print('=====================')\n",
    "print('Bare cores only')\n",
    "print('  * looking for one peak at', wlExpectednm, \n",
    "      'nm \\n    - in the range [', wlMinnm, ',', wlMaxnm, '] nm')\n",
    "print('  * peaks detected: \\n    wl-nm (interp),\\t [wl-nm,  ext]')\n",
    "\n",
    "lsprPeakWLnmCoreList = []\n",
    "for sampleNum in range(2):\n",
    "    sampleType = (['L-Core_D=','X-Core_D='][sampleNum]) + str(int(round(2*coreRnms[sampleNum]))) + '-nm'\n",
    "    print('   - Core #',sampleNum,'(',\n",
    "          sampleType,\n",
    "          ')')\n",
    "    subdataArray = spectraCores[sampleNum]\n",
    "    selection = ((subdataArray[:,0] >= wlMin0nm) \n",
    "                 & (subdataArray[:,0] <= wlMax0nm)\n",
    "                 )\n",
    "    subdataArray = subdataArray[selection]\n",
    "    minDist = int(subdataArray.size/(nPeaks+1))\n",
    "    x, y = subdataArray[:,0], subdataArray[:,1]\n",
    "    indexes = peakutils.indexes(y, thres=threshold, min_dist=minDist)\n",
    "    xPeaks = x[indexes]\n",
    "    anArray = (np.array([xPeaks, indexes])).T\n",
    "    selection = (anArray[:,0] > wlMinnm) & (anArray[:,0] < wlMaxnm)\n",
    "    indexes = (anArray[selection][:,1]).tolist()\n",
    "    xPeaks = x[indexes]\n",
    "    if (len(indexes) > 0): \n",
    "        result = subdataArray[indexes[0]]\n",
    "        xPeaks = peakutils.interpolate(x, y, indexes)\n",
    "        print('   ', round(100*xPeaks[0])/100,',\\t\\t',  \n",
    "              (np.round(100*result)/100).tolist())\n",
    "        result = [xPeaks[0], coreRnms[sampleNum]]\n",
    "        lsprPeakWLnmCoreList.append(result)\n",
    "\n",
    "#filename = folder + timestamp + identifier + exportFormat\n",
    "#np.savetxt(filename, lsprPeakWLnmCoreList, delimiter='\\t', header=datHeader, fmt='%.2f')\n",
    "#print('     + saved to', filename) \n",
    "\n",
    "print(\"  * output array format: \\n    [ peak-wl-nm, Rcore-nm]\")\n"
   ]
  },
  {
   "cell_type": "markdown",
   "metadata": {},
   "source": [
    "### Core-shell"
   ]
  },
  {
   "cell_type": "code",
   "execution_count": 4,
   "metadata": {
    "ExecuteTime": {
     "end_time": "2017-02-22T15:34:11.652755",
     "start_time": "2017-02-22T15:34:11.434174"
    },
    "collapsed": false,
    "format": "tab",
    "scrolled": true
   },
   "outputs": [
    {
     "name": "stdout",
     "output_type": "stream",
     "text": [
      "LSPR peak wavelengths\n",
      "=====================\n",
      "  * looking for one peak at 520 nm \n",
      "    - in the range [ 495 , 545 ] nm\n",
      "  * peaks detected: \n",
      "    wl-nm (interp),\t [wl-nm,  ext,  temp-C,  Rh-nm]\n",
      "   - Sample # 0 ( L1-Thn )\n",
      "    523.45 ,\t\t [525.0, 0.69, 15.0, 24.77]\n",
      "    523.68 ,\t\t [524.0, 0.69, 20.0, 23.19]\n",
      "    523.97 ,\t\t [526.0, 0.69, 25.0, 23.8]\n",
      "    524.12 ,\t\t [527.0, 0.7, 27.0, 23.82]\n",
      "    524.17 ,\t\t [524.0, 0.7, 29.0, 23.4]\n",
      "    524.52 ,\t\t [524.0, 0.7, 31.0, 21.81]\n",
      "    524.54 ,\t\t [525.0, 0.7, 33.0, 20.67]\n",
      "    524.61 ,\t\t [524.0, 0.7, 35.0, 20.93]\n",
      "    524.91 ,\t\t [524.0, 0.7, 40.0, 18.58]\n",
      "    525.13 ,\t\t [527.0, 0.7, 45.0, 18.12]\n",
      "    525.06 ,\t\t [526.0, 0.69, 50.0, 17.66]\n",
      "    524.95 ,\t\t [527.0, 0.69, 55.0, 18.62]\n",
      "    525.07 ,\t\t [526.0, 0.68, 60.0, 17.88]\n",
      "   - Sample # 1 ( L2-Med )\n",
      "    523.4 ,\t\t [525.0, 0.49, 15.0, 43.2]\n",
      "    523.71 ,\t\t [525.0, 0.49, 20.0, 41.89]\n",
      "    523.9 ,\t\t [524.0, 0.5, 25.0, 39.28]\n",
      "    524.08 ,\t\t [525.0, 0.5, 27.0, 37.99]\n",
      "    524.4 ,\t\t [526.0, 0.5, 29.0, 36.91]\n",
      "    524.79 ,\t\t [524.0, 0.5, 31.0, 33.89]\n",
      "    525.26 ,\t\t [524.0, 0.51, 33.0, 29.56]\n",
      "    525.55 ,\t\t [525.0, 0.52, 35.0, 28.06]\n",
      "    525.95 ,\t\t [528.0, 0.52, 40.0, 27.23]\n",
      "    525.88 ,\t\t [524.0, 0.52, 45.0, 26.78]\n",
      "    525.95 ,\t\t [526.0, 0.51, 50.0, 26.76]\n",
      "    526.0 ,\t\t [528.0, 0.5, 55.0, 26.01]\n",
      "    525.92 ,\t\t [525.0, 0.5, 60.0, 26.48]\n",
      "   - Sample # 2 ( L3-Thk )\n",
      "    524.36 ,\t\t [524.0, 0.83, 15.0, 65.02]\n",
      "    524.7 ,\t\t [525.0, 0.84, 20.0, 64.16]\n",
      "    524.99 ,\t\t [525.0, 0.84, 25.0, 61.74]\n",
      "    525.4 ,\t\t [525.0, 0.84, 27.0, 59.06]\n",
      "    525.64 ,\t\t [528.0, 0.84, 29.0, 56.42]\n",
      "    526.06 ,\t\t [526.0, 0.85, 31.0, 53.11]\n",
      "    526.26 ,\t\t [528.0, 0.92, 33.0, 45.83]\n",
      "    525.73 ,\t\t [526.0, 1.0, 35.0, 42.61]\n",
      "    525.95 ,\t\t [525.0, 0.99, 40.0, 38.02]\n",
      "    526.03 ,\t\t [525.0, 0.99, 45.0, 39.43]\n",
      "    526.23 ,\t\t [526.0, 0.98, 50.0, 39.13]\n",
      "    526.03 ,\t\t [525.0, 0.97, 55.0, 39.29]\n",
      "   - Sample # 3 ( X1-Thn )\n",
      "    522.51 ,\t\t [522.0, 0.63, 7.65, 82.15]\n",
      "    522.5 ,\t\t [522.0, 0.64, 9.96, 81.52]\n",
      "    522.6 ,\t\t [523.0, 0.63, 13.81, 79.79]\n",
      "    522.73 ,\t\t [523.0, 0.63, 17.66, 78.12]\n",
      "    522.83 ,\t\t [523.0, 0.63, 21.51, 75.96]\n",
      "    523.18 ,\t\t [523.0, 0.63, 25.36, 71.31]\n",
      "    523.28 ,\t\t [523.0, 0.63, 27.67, 70.38]\n",
      "    523.3 ,\t\t [524.0, 0.63, 28.44, 70.38]\n",
      "    523.38 ,\t\t [523.0, 0.63, 29.21, 70.38]\n",
      "    523.43 ,\t\t [523.0, 0.63, 29.98, 68.96]\n",
      "    523.45 ,\t\t [524.0, 0.64, 30.75, 68.96]\n",
      "    523.53 ,\t\t [523.0, 0.64, 31.52, 67.86]\n",
      "    523.55 ,\t\t [524.0, 0.64, 32.29, 66.96]\n",
      "    523.63 ,\t\t [523.0, 0.64, 33.06, 66.67]\n",
      "    523.66 ,\t\t [524.0, 0.64, 33.83, 65.59]\n",
      "    523.94 ,\t\t [524.0, 0.65, 36.91, 61.3]\n",
      "    524.26 ,\t\t [524.0, 0.66, 40.76, 58.07]\n",
      "    524.57 ,\t\t [525.0, 0.66, 44.61, 55.41]\n",
      "    524.79 ,\t\t [525.0, 0.67, 48.46, 52.53]\n",
      "    525.01 ,\t\t [526.0, 0.67, 52.31, 50.99]\n",
      "    525.15 ,\t\t [526.0, 0.68, 56.16, 50.99]\n",
      "   - Sample # 4 ( X2-Med )\n",
      "    526.17 *,\t\t [526.0, 0.26, 7.65, 144.22] \t*(using deriv. estimate)\n",
      "    528.67 *,\t\t [529.0, 0.26, 9.96, 143.8] \t*(using deriv. estimate)\n",
      "    528.17 *,\t\t [528.0, 0.26, 13.81, 142.45] \t*(using deriv. estimate)\n",
      "    530.0 *,\t\t [530.0, 0.26, 17.66, 137.13] \t*(using deriv. estimate)\n",
      "    529.5 *,\t\t [529.0, 0.27, 21.51, 133.86] \t*(using deriv. estimate)\n",
      "    527.0 *,\t\t [527.0, 0.27, 25.36, 129.83] \t*(using deriv. estimate)\n",
      "    526.17 *,\t\t [526.0, 0.27, 27.67, 125.59] \t*(using deriv. estimate)\n",
      "    528.33 *,\t\t [528.0, 0.28, 28.44, 123.41] \t*(using deriv. estimate)\n",
      "    524.83 *,\t\t [525.0, 0.28, 29.21, 121.04] \t*(using deriv. estimate)\n",
      "    528.5 *,\t\t [528.0, 0.28, 29.98, 118.82] \t*(using deriv. estimate)\n",
      "    528.67 *,\t\t [529.0, 0.29, 30.75, 117.11] \t*(using deriv. estimate)\n",
      "    529.33 *,\t\t [529.0, 0.29, 31.52, 117.11] \t*(using deriv. estimate)\n",
      "    529.0 *,\t\t [529.0, 0.29, 32.29, 114.44] \t*(using deriv. estimate)\n",
      "    527.5 *,\t\t [527.0, 0.3, 33.06, 112.09] \t*(using deriv. estimate)\n",
      "    528.0 *,\t\t [528.0, 0.31, 33.83, 108.5] \t*(using deriv. estimate)\n",
      "    529.0 *,\t\t [529.0, 0.33, 36.91, 98.95] \t*(using deriv. estimate)\n",
      "    530.67 *,\t\t [531.0, 0.35, 40.76, 90.86] \t*(using deriv. estimate)\n",
      "    530.33 *,\t\t [530.0, 0.37, 44.61, 85.36] \t*(using deriv. estimate)\n",
      "    529.83 *,\t\t [530.0, 0.38, 48.46, 82.75] \t*(using deriv. estimate)\n",
      "    532.0 *,\t\t [532.0, 0.38, 52.31, 78.78] \t*(using deriv. estimate)\n",
      "    530.33 *,\t\t [530.0, 0.38, 56.16, 78.78] \t*(using deriv. estimate)\n",
      "   - Sample # 5 ( X3-Thk )\n",
      "    528.67 *,\t\t [529.0, 0.26, 7.65, 191.37] \t*(using deriv. estimate)\n",
      "    528.67 *,\t\t [529.0, 0.26, 9.96, 189.35] \t*(using deriv. estimate)\n",
      "    526.83 *,\t\t [527.0, 0.26, 13.81, 184.22] \t*(using deriv. estimate)\n",
      "    529.5 *,\t\t [529.0, 0.26, 17.66, 181.62] \t*(using deriv. estimate)\n",
      "    527.5 *,\t\t [527.0, 0.27, 21.51, 176.84] \t*(using deriv. estimate)\n",
      "    529.83 *,\t\t [530.0, 0.28, 25.36, 169.52] \t*(using deriv. estimate)\n",
      "    530.17 *,\t\t [530.0, 0.28, 27.67, 162.81] \t*(using deriv. estimate)\n",
      "    532.17 *,\t\t [532.0, 0.29, 28.44, 162.81] \t*(using deriv. estimate)\n",
      "    529.5 *,\t\t [529.0, 0.3, 29.21, 160.21] \t*(using deriv. estimate)\n",
      "    529.0 *,\t\t [529.0, 0.3, 29.98, 156.22] \t*(using deriv. estimate)\n",
      "    530.5 *,\t\t [530.0, 0.3, 30.75, 151.35] \t*(using deriv. estimate)\n",
      "    529.83 *,\t\t [530.0, 0.31, 31.52, 151.35] \t*(using deriv. estimate)\n",
      "    530.0 *,\t\t [530.0, 0.32, 32.29, 147.11] \t*(using deriv. estimate)\n",
      "    533.67 *,\t\t [534.0, 0.32, 33.06, 142.64] \t*(using deriv. estimate)\n",
      "    530.83 *,\t\t [531.0, 0.33, 33.83, 138.34] \t*(using deriv. estimate)\n",
      "    531.33 *,\t\t [531.0, 0.38, 36.91, 128.38] \t*(using deriv. estimate)\n",
      "    532.67 *,\t\t [533.0, 0.41, 40.76, 121.41] \t*(using deriv. estimate)\n",
      "    533.5 *,\t\t [533.0, 0.43, 44.61, 114.77] \t*(using deriv. estimate)\n",
      "    535.67 *,\t\t [536.0, 0.43, 48.46, 111.88] \t*(using deriv. estimate)\n",
      "    534.67 *,\t\t [535.0, 0.44, 52.31, 110.35] \t*(using deriv. estimate)\n",
      "    533.83 *,\t\t [534.0, 0.44, 56.16, 109.47] \t*(using deriv. estimate)\n",
      "  * output array format: \n",
      "    [ peak-wl-nm, temp-C, Rh-nm, sample-# ]\n",
      "    - sample-# = [0,...,5] \n",
      "      for [lin-Thin, lin-Med., lin-Long, X-Thin, X-Med., X-Long]\n"
     ]
    }
   ],
   "source": [
    "threshold = 0.05\n",
    "wlExpectednm = 520\n",
    "dwlExpectednm = 25\n",
    "nPeaks = 1\n",
    "wlMin0nm, wlMax0nm = wlExpectednm-2*dwlExpectednm, wlExpectednm+2*dwlExpectednm\n",
    "wlMinnm, wlMaxnm = wlExpectednm-dwlExpectednm, wlExpectednm+dwlExpectednm\n",
    "\n",
    "timestamp = ('{:%Y%m%d}'.format(datetime.datetime.now()))\n",
    "exportFormat = '.dat'\n",
    "identifier0 = \"lspr-peaks\"\n",
    "folder = 'graphics/'\n",
    "datHeader = ('\\t').join(('wl-nm', 'temp-C', 'Rh-nm'))\n",
    "\n",
    "print('LSPR peak wavelengths')\n",
    "print('=====================')\n",
    "print('  * looking for one peak at', wlExpectednm, \n",
    "      'nm \\n    - in the range [', wlMinnm, ',', wlMaxnm, '] nm')\n",
    "print('  * peaks detected: \\n    wl-nm (interp),\\t [wl-nm,  ext,  temp-C,  Rh-nm]')\n",
    "\n",
    "lsprPeakWLnmList = []\n",
    "for sampleNum in range(6):\n",
    "    sampleType = (['L1-Thn','L2-Med','L3-Thk','X1-Thn','X2-Med','X3-Thk'][sampleNum])\n",
    "    print('   - Sample #',sampleNum,'(',\n",
    "          sampleType,\n",
    "          ')')\n",
    "    lsprPeakWLnmSubList = []\n",
    "    for T in spectraTemps[sampleNum]:\n",
    "        selection = ((dataArray[:,-1] == sampleNum) \n",
    "                     & (dataArray[:,-3] == T)\n",
    "                     & (dataArray[:,0] >= wlMin0nm) \n",
    "                     & (dataArray[:,0] <= wlMax0nm)\n",
    "                     )\n",
    "        subdataArray = dataArray[selection]\n",
    "        minDist = int(subdataArray.size/(nPeaks+1))\n",
    "        x, y = subdataArray[:,0], subdataArray[:,1]\n",
    "        indexes = peakutils.indexes(y, thres=threshold, min_dist=minDist)\n",
    "        xPeaks = x[indexes]\n",
    "        anArray = (np.array([xPeaks, indexes])).T\n",
    "        selection = (anArray[:,0] > wlMinnm) & (anArray[:,0] < wlMaxnm)\n",
    "        indexes = (anArray[selection][:,1]).tolist()\n",
    "        xPeaks = x[indexes]\n",
    "        if (len(indexes) > 0): \n",
    "            result = subdataArray[indexes[0]]\n",
    "            xPeaks = peakutils.interpolate(x, y, indexes)\n",
    "            print('   ', round(100*xPeaks[0])/100,',\\t\\t',  \n",
    "              (np.round(100*result[0:-1])/100).tolist())\n",
    "            result = [xPeaks[0], result[-3], result[-2], int(result[-1])]\n",
    "            lsprPeakWLnmList.append(result)\n",
    "            result = [xPeaks[0], result[-3], result[-2]]\n",
    "            lsprPeakWLnmSubList.append(result)\n",
    "        else:\n",
    "            xm = 0.5*(x[:-1] + x[1:])\n",
    "            ym = 0.5*(y[:-1] + y[1:])\n",
    "            dys = np.gradient(ym, 2)\n",
    "            dxs = np.gradient(xm, 2)\n",
    "            dydx = dys/dxs\n",
    "            xm = 0.5*(xm[:-1] + xm[1:])\n",
    "            ym = 0.5*(ym[:-1] + ym[1:])\n",
    "            dydx = 0.5*(dydx[:-1] + dydx[1:])\n",
    "            xAtdydxMax = 0\n",
    "            for yp in np.sort(dydx)[-3:]:\n",
    "                select = (dydx == yp)\n",
    "                xAtdydxMax += xm[select][0]/3\n",
    "            xAtdydxMax = np.round(xAtdydxMax)\n",
    "            select = (xm == xAtdydxMax)\n",
    "            dydxMax = dydx[select][0]\n",
    "            xAtMax = xAtdydxMax\n",
    "            select = (xm > xAtdydxMax)\n",
    "            xAtdydxMin = 0\n",
    "            for yp in np.sort(dydx[select])[:3]:\n",
    "                select = (dydx == yp)\n",
    "                xAtdydxMin += xm[select][0]/3\n",
    "            xAtMax = 0.5*(xAtdydxMax + xAtdydxMin)\n",
    "            xPeaks = np.array([xAtMax])\n",
    "            select = (np.abs(x-xAtMax) < 0.55)\n",
    "            result = subdataArray[select][0]\n",
    "            print('   ', round(100*xPeaks[0])/100,'*,\\t\\t',  \n",
    "              (np.round(100*result[0:-1])/100).tolist(),'\\t*(using deriv. estimate)')\n",
    "            result = [xPeaks[0], result[-3], result[-2], int(result[-1])]\n",
    "            lsprPeakWLnmList.append(result)\n",
    "            result = [xPeaks[0], result[-3], result[-2]]\n",
    "            lsprPeakWLnmSubList.append(result)\n",
    "            \n",
    "    if len(lsprPeakWLnmSubList) == 0: lsprPeakWLnmSubList.append( [0,0,0] )\n",
    "    lsprPeakWLnmSubList = np.asarray(lsprPeakWLnmSubList)\n",
    "    identifier = '_' + identifier0 + '_' + str(sampleNum) + '-' + sampleType\n",
    "    #filename = folder + timestamp + identifier + exportFormat\n",
    "    #np.savetxt(filename, lsprPeakWLnmSubList, delimiter='\\t', header=datHeader, fmt='%.2f')\n",
    "    #print('      + saved to', filename) \n",
    "\n",
    "lsprPeakWLnmArray = np.asarray(lsprPeakWLnmList)\n",
    "print(\"  * output array format: \\n    [ peak-wl-nm, temp-C, Rh-nm, sample-# ]\")\n",
    "print(\"    - sample-# = [0,...,5] \\n      for [lin-Thin, lin-Med., lin-Long, X-Thin, X-Med., X-Long]\")\n"
   ]
  },
  {
   "cell_type": "markdown",
   "metadata": {},
   "source": [
    "# Peak Analysis: Power law baseline for scattering correction"
   ]
  },
  {
   "cell_type": "markdown",
   "metadata": {},
   "source": [
    "## Peak analysis"
   ]
  },
  {
   "cell_type": "markdown",
   "metadata": {
    "heading_collapsed": true
   },
   "source": [
    "### Core only"
   ]
  },
  {
   "cell_type": "code",
   "execution_count": 26,
   "metadata": {
    "ExecuteTime": {
     "end_time": "2017-02-22T15:53:38.523832",
     "start_time": "2017-02-22T15:53:38.399076"
    },
    "collapsed": false,
    "format": "tab",
    "hidden": true,
    "scrolled": false
   },
   "outputs": [
    {
     "name": "stdout",
     "output_type": "stream",
     "text": [
      "LSPR peak wavelengths\n",
      "=====================\n",
      "Bare cores only\n",
      "  * power law baseline fit\n",
      "    - of the form ybase = k*(x/x0)^n\n",
      "    - using log-log/linear fitting with x0 = 525\n",
      "  * looking for one peak at 525 nm \n",
      "    - in the range [ 500 , 550 ] nm\n",
      "    - baseline correction range [ 400 , 800 ] nm\n",
      "Peaks detected: \n",
      "    wl-nm (interp),\t [wl-nm, ext], \t (orig wl-nm),\t gamma Ref\n",
      "  * Core # 0 ( L-Core_D=17-nm )\t{baseline n = -4.74 , k = 0.2 }\n",
      "    521.21 ,\t [521.0, 1.1] \t ( 519.72 ) \t [400.0, 0.67] \t 1.634 \n",
      "  * Core # 1 ( X-Core_D=13-nm )\t{baseline n = -4.40 , k = 0.3 }\n",
      "    519.74 ,\t [520.0, 1.44] \t ( 517.55 ) \t [400.0, 0.95] \t 1.509 \n",
      "variable: \t lsprPowrPeakWLnmCoreList\n",
      "  * output array format: \n",
      "    [ peak-wl-nm, orig-peak-wl-nm, Rcore-nm ]\n",
      "variable: \t lsprPowrBaselineCoreList\n",
      "  * output array format: \n",
      "    [ wl-nm-data, ext-data, peak-corr-ext ext-corrected-data, baseline-correction-data]\n",
      "  * wavelength range: [ 400.0 , 800.0 ] x ( 401 values)\n",
      "variable: \t lsprPowrBaselineCorenkList\n",
      "  * output array format: \n",
      "    [ x0, n, k ]\n",
      "variable: \t lsprPowrGammaCoreRefList\n",
      "  * output array format: \n",
      "    [ peak-wl-nm, ext-peak, ext-400-nm, gamma-core-Ref, Rcore-nm ]\n"
     ]
    }
   ],
   "source": [
    "threshold = 0.25\n",
    "wlScatnm = 400\n",
    "wlExpectednm = 525\n",
    "dwlExpectednm = 25\n",
    "x0base = wlExpectednm\n",
    "nPeaks = 1\n",
    "wlMin0nm, wlMax0nm = 400, 800\n",
    "wlMinnm, wlMaxnm = wlExpectednm-dwlExpectednm, wlExpectednm+dwlExpectednm\n",
    "\n",
    "timestamp = ('{:%Y%m%d}'.format(datetime.datetime.now()))\n",
    "exportFormat = '.dat'\n",
    "identifier = \"_lspr-core-peaks_baseline-powr\"\n",
    "folder = 'graphics/'\n",
    "datHeader = ('\\t').join(('wl-nm', 'wl-orig-nm', 'Rcore-nm'))\n",
    "\n",
    "print('LSPR peak wavelengths')\n",
    "print('=====================')\n",
    "print('Bare cores only')\n",
    "print('  * power law baseline fit')\n",
    "print('    - of the form ybase = k*(x/x0)^n')\n",
    "print('    - using log-log/linear fitting with x0 =',x0base)\n",
    "print('  * looking for one peak at', wlExpectednm, \n",
    "      'nm \\n    - in the range [', wlMinnm, ',', wlMaxnm, '] nm')\n",
    "print('    - baseline correction range [', wlMin0nm, ',', wlMax0nm, '] nm')\n",
    "print('Peaks detected: \\n    wl-nm (interp),\\t [wl-nm, ext], \\t (orig wl-nm),\\t gamma Ref')\n",
    "\n",
    "lsprPowrPeakWLnmCoreList = []\n",
    "lsprPowrBaselineCoreList = []\n",
    "lsprPowrBaselineCorenkList = []\n",
    "lsprPowrGammaCoreRefList = []\n",
    "\n",
    "for sampleNum in range(2):\n",
    "    sampleType = (['L-Core_D=','X-Core_D='][sampleNum]) + str(int(round(2*coreRnms[sampleNum]))) + '-nm'\n",
    "    print('  * Core #',sampleNum,'(', sampleType, ')', end=\"\")\n",
    "    \n",
    "    subdataArray = spectraCores[sampleNum]\n",
    "    selection = ((subdataArray[:,0] >= wlMin0nm) \n",
    "                 & (subdataArray[:,0] <= wlMax0nm)\n",
    "                 )\n",
    "    subdataArray = subdataArray[selection]\n",
    "    minDist = int(subdataArray.size/(nPeaks+1))\n",
    "    \n",
    "    x, y = subdataArray[:,0], subdataArray[:,1]\n",
    "    yOrig = y\n",
    "    logx, logy = np.log(x/x0base), np.log(y)\n",
    "    dlogx = min(np.diff(logx))\n",
    "    loglogx = np.arange(min(logx), max(logx) + dlogx, dlogx)\n",
    "    loglogy = np.interp(loglogx, logx, logy)\n",
    "    \n",
    "    loglogyLinBase = peakutils.baseline(loglogy, 1)\n",
    "    logyLinBase = np.interp(logx, loglogx, loglogyLinBase)\n",
    "    loglogfit = np.polyfit(logx, logyLinBase, 1)\n",
    "    basePowrn, baseCoeffk = loglogfit[0], np.exp(loglogfit[1])\n",
    "    print('\\t{baseline n =', '{0:.2f}'.format(basePowrn),', k =', '{0:.1f}'.format(baseCoeffk),'}')\n",
    "    \n",
    "    yPowrBase = (np.exp(logyLinBase))\n",
    "    y = y - yPowrBase\n",
    "    \n",
    "    indexes = peakutils.indexes(y, thres=threshold, min_dist=minDist)\n",
    "    xPeaks = x[indexes]\n",
    "    anArray = (np.array([xPeaks, indexes])).T\n",
    "    selection = (anArray[:,0] > wlMinnm) & (anArray[:,0] < wlMaxnm)\n",
    "    indexes = (anArray[selection][:,1]).tolist()\n",
    "    xPeaks = x[indexes]\n",
    "    if (len(indexes) > 0): \n",
    "        result = subdataArray[indexes[0]]\n",
    "        xPeaks = peakutils.interpolate(x, y, indexes)\n",
    "\n",
    "        xPeak = xPeaks[0]\n",
    "        xPeakOrig = lsprPeakWLnmCoreList[sampleNum][0]\n",
    "        select = (np.abs(x-xPeak) < 0.55)\n",
    "        subdataArrayPeak = subdataArray[select][0]\n",
    "        select = (np.abs(x-wlScatnm) < 0.55)\n",
    "        subdataArrayScat = subdataArray[select][0]\n",
    "        gammaCoreRef = subdataArrayPeak[1]/subdataArrayScat[1]\n",
    "\n",
    "        print('   ', round(100*xPeaks[0])/100,',\\t',  \n",
    "              (np.round(100*subdataArrayPeak[:])/100).tolist(),\n",
    "              '\\t (',round(100*xPeakOrig)/100,')',\n",
    "              '\\t',(np.round(100*subdataArrayScat[:])/100).tolist(),\n",
    "              '\\t {0:.3f} '.format(gammaCoreRef))\n",
    "        \n",
    "        \n",
    "        result = [xPeaks[0], lsprPeakWLnmCoreList[sampleNum][0], coreRnms[sampleNum]]\n",
    "        lsprPowrPeakWLnmCoreList.append(result)\n",
    "\n",
    "        resultGamma = [result[0], subdataArrayPeak[1], subdataArrayScat[1], \n",
    "                       gammaCoreRef, result[-1]]\n",
    "        lsprPowrGammaCoreRefList.append(resultGamma)\n",
    "\n",
    "        lsprPowrBaselineCoreList.append([x, yOrig, y[indexes][0], y, yPowrBase])\n",
    "        lsprPowrBaselineCorenkList.append([x0base, basePowrn, baseCoeffk])\n",
    "\n",
    "filename = folder + timestamp + identifier + exportFormat\n",
    "#np.savetxt(filename, lsprPowrPeakWLnmCoreList, delimiter='\\t', header=datHeader, fmt='%.2f')\n",
    "#print('     + saved to', filename) \n",
    "print('variable: \\t lsprPowrPeakWLnmCoreList')\n",
    "print(\"  * output array format: \\n    [ peak-wl-nm, orig-peak-wl-nm, Rcore-nm ]\")\n",
    "print('variable: \\t lsprPowrBaselineCoreList')\n",
    "print(\"  * output array format: \\n    [ wl-nm-data, ext-data, peak-corr-ext\",\n",
    "      \"ext-corrected-data, baseline-correction-data]\")\n",
    "print('  * wavelength range: [',lsprPowrBaselineCoreList[0][0][0],',', \n",
    "      lsprPowrBaselineCoreList[0][0][-1],'] x (',len(lsprPowrBaselineCoreList[0][0]), 'values)')\n",
    "print('variable: \\t lsprPowrBaselineCorenkList')\n",
    "print(\"  * output array format: \\n    [ x0, n, k ]\")\n",
    "print('variable: \\t lsprPowrGammaCoreRefList')\n",
    "print(\"  * output array format: \\n    [ peak-wl-nm, ext-peak, ext-\"+str(wlScatnm)+\"-nm, gamma-core-Ref, Rcore-nm ]\")\n"
   ]
  },
  {
   "cell_type": "markdown",
   "metadata": {
    "heading_collapsed": true
   },
   "source": [
    "### Core-shell"
   ]
  },
  {
   "cell_type": "code",
   "execution_count": 28,
   "metadata": {
    "ExecuteTime": {
     "end_time": "2017-02-22T15:54:03.874139",
     "start_time": "2017-02-22T15:54:03.233700"
    },
    "collapsed": false,
    "format": "tab",
    "hidden": true,
    "scrolled": false
   },
   "outputs": [
    {
     "name": "stdout",
     "output_type": "stream",
     "text": [
      "LSPR peak wavelengths\n",
      "=====================\n",
      "Core-shell nanoparticles\n",
      "  * power law baseline fit\n",
      "    - of the form ybase = k*(x/x0)^n\n",
      "    - using log-log/linear fitting with x0 = 525\n",
      "  * looking for one peak at 525 nm \n",
      "    - in the range [ 500 , 550 ] nm\n",
      "    - baseline correction range [ 400 , 800 ] nm\n",
      "Peaks detected: \n",
      "    wl-nm,\t [wl-nm, ext, T-C, Rh-nm], \t (orig wl-nm) \t [wl-nm, ext, T-C, Rh-nm] \t gamma\n",
      " * Sample # 0 ( L-Thn )\n",
      "    523.33 ,\t [523.0, 0.69, 15.0, 24.77] \t ( 523.45 ) \t [400.0, 0.41, 15.0, 24.77] \t 1.034 \n",
      "    523.62 ,\t [524.0, 0.69, 20.0, 23.19] \t ( 523.68 ) \t [400.0, 0.41, 20.0, 23.19] \t 1.032 \n",
      "    523.91 ,\t [524.0, 0.69, 25.0, 23.8] \t ( 523.97 ) \t [400.0, 0.41, 25.0, 23.8] \t 1.032 \n",
      "    524.18 ,\t [524.0, 0.69, 27.0, 23.82] \t ( 524.12 ) \t [400.0, 0.41, 27.0, 23.82] \t 1.034 \n",
      "    524.1 ,\t [524.0, 0.7, 29.0, 23.4] \t ( 524.17 ) \t [400.0, 0.41, 29.0, 23.4] \t 1.035 \n",
      "    524.46 ,\t [524.0, 0.7, 31.0, 21.81] \t ( 524.52 ) \t [400.0, 0.41, 31.0, 21.81] \t 1.037 \n",
      "    524.47 ,\t [524.0, 0.7, 33.0, 20.67] \t ( 524.54 ) \t [400.0, 0.41, 33.0, 20.67] \t 1.037 \n",
      "    524.57 ,\t [525.0, 0.7, 35.0, 20.93] \t ( 524.61 ) \t [400.0, 0.41, 35.0, 20.93] \t 1.038 \n",
      "    524.86 ,\t [525.0, 0.7, 40.0, 18.58] \t ( 524.91 ) \t [400.0, 0.41, 40.0, 18.58] \t 1.035 \n",
      "    525.07 ,\t [525.0, 0.7, 45.0, 18.12] \t ( 525.13 ) \t [400.0, 0.41, 45.0, 18.12] \t 1.031 \n",
      "    524.99 ,\t [525.0, 0.69, 50.0, 17.66] \t ( 525.06 ) \t [400.0, 0.41, 50.0, 17.66] \t 1.029 \n",
      "    524.88 ,\t [525.0, 0.69, 55.0, 18.62] \t ( 524.95 ) \t [400.0, 0.41, 55.0, 18.62] \t 1.022 \n",
      "    524.93 ,\t [525.0, 0.68, 60.0, 17.88] \t ( 525.07 ) \t [400.0, 0.41, 60.0, 17.88] \t 1.016 \n",
      " * Sample # 1 ( L-Med )\n",
      "    523.43 ,\t [523.0, 0.49, 15.0, 43.2] \t ( 523.4 ) \t [400.0, 0.29, 15.0, 43.2] \t 1.025 \n",
      "    523.74 ,\t [524.0, 0.49, 20.0, 41.89] \t ( 523.71 ) \t [400.0, 0.29, 20.0, 41.89] \t 1.030 \n",
      "    523.93 ,\t [524.0, 0.5, 25.0, 39.28] \t ( 523.9 ) \t [400.0, 0.29, 25.0, 39.28] \t 1.033 \n",
      "    524.11 ,\t [524.0, 0.5, 27.0, 37.99] \t ( 524.08 ) \t [400.0, 0.3, 27.0, 37.99] \t 1.028 \n",
      "    524.43 ,\t [524.0, 0.5, 29.0, 36.91] \t ( 524.4 ) \t [400.0, 0.3, 29.0, 36.91] \t 1.027 \n",
      "    524.81 ,\t [525.0, 0.5, 31.0, 33.89] \t ( 524.79 ) \t [400.0, 0.3, 31.0, 33.89] \t 1.031 \n",
      "    525.31 ,\t [525.0, 0.51, 33.0, 29.56] \t ( 525.26 ) \t [400.0, 0.3, 33.0, 29.56] \t 1.036 \n",
      "    525.58 ,\t [526.0, 0.52, 35.0, 28.06] \t ( 525.55 ) \t [400.0, 0.3, 35.0, 28.06] \t 1.040 \n",
      "    525.97 ,\t [526.0, 0.51, 40.0, 27.23] \t ( 525.95 ) \t [400.0, 0.3, 40.0, 27.23] \t 1.034 \n",
      "    526.01 ,\t [526.0, 0.51, 45.0, 26.78] \t ( 525.88 ) \t [400.0, 0.3, 45.0, 26.78] \t 1.037 \n",
      "    525.98 ,\t [526.0, 0.51, 50.0, 26.76] \t ( 525.95 ) \t [400.0, 0.3, 50.0, 26.76] \t 1.030 \n",
      "    526.0 ,\t [526.0, 0.5, 55.0, 26.01] \t ( 526.0 ) \t [400.0, 0.3, 55.0, 26.01] \t 1.022 \n",
      "    525.9 ,\t [526.0, 0.5, 60.0, 26.48] \t ( 525.92 ) \t [400.0, 0.3, 60.0, 26.48] \t 1.019 \n",
      " * Sample # 2 ( L-Thk )\n",
      "    524.44 ,\t [524.0, 0.83, 15.0, 65.02] \t ( 524.36 ) \t [400.0, 0.49, 15.0, 65.02] \t 1.036 \n",
      "    524.78 ,\t [525.0, 0.84, 20.0, 64.16] \t ( 524.7 ) \t [400.0, 0.49, 20.0, 64.16] \t 1.039 \n",
      "    525.07 ,\t [525.0, 0.84, 25.0, 61.74] \t ( 524.99 ) \t [400.0, 0.49, 25.0, 61.74] \t 1.034 \n",
      "    525.5 ,\t [525.0, 0.84, 27.0, 59.06] \t ( 525.4 ) \t [400.0, 0.5, 27.0, 59.06] \t 1.034 \n",
      "    525.71 ,\t [526.0, 0.84, 29.0, 56.42] \t ( 525.64 ) \t [400.0, 0.5, 29.0, 56.42] \t 1.034 \n",
      "    526.15 ,\t [526.0, 0.85, 31.0, 53.11] \t ( 526.06 ) \t [400.0, 0.5, 31.0, 53.11] \t 1.036 \n",
      "    526.77 ,\t [527.0, 0.92, 33.0, 45.83] \t ( 526.26 ) \t [400.0, 0.63, 33.0, 45.83] \t 0.894 \n",
      "    526.64 ,\t [527.0, 0.99, 35.0, 42.61] \t ( 525.73 ) \t [400.0, 0.77, 35.0, 42.61] \t 0.791 \n",
      "    526.93 ,\t [527.0, 0.99, 40.0, 38.02] \t ( 525.95 ) \t [400.0, 0.77, 40.0, 38.02] \t 0.785 \n",
      "    527.05 ,\t [527.0, 0.98, 45.0, 39.43] \t ( 526.03 ) \t [400.0, 0.77, 45.0, 39.43] \t 0.782 \n",
      "    527.17 ,\t [527.0, 0.98, 50.0, 39.13] \t ( 526.23 ) \t [400.0, 0.76, 50.0, 39.13] \t 0.785 \n",
      "    527.01 ,\t [527.0, 0.97, 55.0, 39.29] \t ( 526.03 ) \t [400.0, 0.76, 55.0, 39.29] \t 0.779 \n",
      " * Sample # 3 ( X-Thn )\n",
      "    523.61 ,\t [524.0, 0.63, 7.65, 82.15] \t ( 522.51 ) \t [400.0, 0.54, 7.65, 82.15] \t 0.772 \n",
      "    523.67 ,\t [524.0, 0.64, 9.96, 81.52] \t ( 522.5 ) \t [400.0, 0.55, 9.96, 81.52] \t 0.767 \n",
      "    523.7 ,\t [524.0, 0.63, 13.81, 79.79] \t ( 522.6 ) \t [400.0, 0.54, 13.81, 79.79] \t 0.770 \n",
      "    523.86 ,\t [524.0, 0.63, 17.66, 78.12] \t ( 522.73 ) \t [400.0, 0.55, 17.66, 78.12] \t 0.766 \n",
      "    524.0 ,\t [524.0, 0.63, 21.51, 75.96] \t ( 522.83 ) \t [400.0, 0.55, 21.51, 75.96] \t 0.762 \n",
      "    524.25 ,\t [524.0, 0.63, 25.36, 71.31] \t ( 523.18 ) \t [400.0, 0.54, 25.36, 71.31] \t 0.767 \n",
      "    524.39 ,\t [524.0, 0.63, 27.67, 70.38] \t ( 523.28 ) \t [400.0, 0.55, 27.67, 70.38] \t 0.761 \n",
      "    524.41 ,\t [524.0, 0.63, 28.44, 70.38] \t ( 523.3 ) \t [400.0, 0.55, 28.44, 70.38] \t 0.759 \n",
      "    524.53 ,\t [525.0, 0.63, 29.21, 70.38] \t ( 523.38 ) \t [400.0, 0.55, 29.21, 70.38] \t 0.754 \n",
      "    524.58 ,\t [525.0, 0.63, 29.98, 68.96] \t ( 523.43 ) \t [400.0, 0.56, 29.98, 68.96] \t 0.752 \n",
      "    524.63 ,\t [525.0, 0.63, 30.75, 68.96] \t ( 523.45 ) \t [400.0, 0.56, 30.75, 68.96] \t 0.750 \n",
      "    524.71 ,\t [525.0, 0.64, 31.52, 67.86] \t ( 523.53 ) \t [400.0, 0.56, 31.52, 67.86] \t 0.748 \n",
      "    524.76 ,\t [525.0, 0.64, 32.29, 66.96] \t ( 523.55 ) \t [400.0, 0.57, 32.29, 66.96] \t 0.745 \n",
      "    524.84 ,\t [525.0, 0.64, 33.06, 66.67] \t ( 523.63 ) \t [400.0, 0.57, 33.06, 66.67] \t 0.743 \n",
      "    524.91 ,\t [525.0, 0.64, 33.83, 65.59] \t ( 523.66 ) \t [400.0, 0.57, 33.83, 65.59] \t 0.740 \n",
      "    525.22 ,\t [525.0, 0.65, 36.91, 61.3] \t ( 523.94 ) \t [400.0, 0.59, 36.91, 61.3] \t 0.729 \n",
      "    525.61 ,\t [526.0, 0.66, 40.76, 58.07] \t ( 524.26 ) \t [400.0, 0.61, 40.76, 58.07] \t 0.718 \n",
      "    525.98 ,\t [526.0, 0.66, 44.61, 55.41] \t ( 524.57 ) \t [400.0, 0.62, 44.61, 55.41] \t 0.711 \n",
      "    526.31 ,\t [526.0, 0.67, 48.46, 52.53] \t ( 524.79 ) \t [400.0, 0.63, 48.46, 52.53] \t 0.702 \n",
      "    526.55 ,\t [527.0, 0.67, 52.31, 50.99] \t ( 525.01 ) \t [400.0, 0.64, 52.31, 50.99] \t 0.700 \n",
      "    526.72 ,\t [527.0, 0.67, 56.16, 50.99] \t ( 525.15 ) \t [400.0, 0.64, 56.16, 50.99] \t 0.698 \n",
      " * Sample # 4 ( X-Med )\n",
      "    525.43 ,\t [525.0, 0.26, 7.65, 144.22] \t ( 526.17 ) \t [400.0, 0.4, 7.65, 144.22] \t 0.432 \n",
      "    525.46 ,\t [525.0, 0.27, 9.96, 143.8] \t ( 528.67 ) \t [400.0, 0.41, 9.96, 143.8] \t 0.431 \n",
      "    525.51 ,\t [526.0, 0.26, 13.81, 142.45] \t ( 528.17 ) \t [400.0, 0.41, 13.81, 142.45] \t 0.430 \n",
      "    525.63 ,\t [526.0, 0.27, 17.66, 137.13] \t ( 530.0 ) \t [400.0, 0.41, 17.66, 137.13] \t 0.428 \n",
      "    525.77 ,\t [526.0, 0.27, 21.51, 133.86] \t ( 529.5 ) \t [400.0, 0.42, 21.51, 133.86] \t 0.426 \n",
      "    526.01 ,\t [526.0, 0.27, 25.36, 129.83] \t ( 527.0 ) \t [400.0, 0.42, 25.36, 129.83] \t 0.420 \n",
      "    526.12 ,\t [526.0, 0.27, 27.67, 125.59] \t ( 526.17 ) \t [400.0, 0.44, 27.67, 125.59] \t 0.417 \n",
      "    526.2 ,\t [526.0, 0.28, 28.44, 123.41] \t ( 528.33 ) \t [400.0, 0.44, 28.44, 123.41] \t 0.416 \n",
      "    526.22 ,\t [526.0, 0.28, 29.21, 121.04] \t ( 524.83 ) \t [400.0, 0.45, 29.21, 121.04] \t 0.414 \n",
      "    526.32 ,\t [526.0, 0.29, 29.98, 118.82] \t ( 528.5 ) \t [400.0, 0.46, 29.98, 118.82] \t 0.412 \n",
      "    526.43 ,\t [526.0, 0.29, 30.75, 117.11] \t ( 528.67 ) \t [400.0, 0.47, 30.75, 117.11] \t 0.410 \n",
      "    526.47 ,\t [526.0, 0.29, 31.52, 117.11] \t ( 529.33 ) \t [400.0, 0.48, 31.52, 117.11] \t 0.409 \n",
      "    526.53 ,\t [527.0, 0.3, 32.29, 114.44] \t ( 529.0 ) \t [400.0, 0.49, 32.29, 114.44] \t 0.405 \n",
      "    526.58 ,\t [527.0, 0.3, 33.06, 112.09] \t ( 527.5 ) \t [400.0, 0.5, 33.06, 112.09] \t 0.403 \n",
      "    526.63 ,\t [527.0, 0.31, 33.83, 108.5] \t ( 528.0 ) \t [400.0, 0.51, 33.83, 108.5] \t 0.401 \n"
     ]
    },
    {
     "name": "stderr",
     "output_type": "stream",
     "text": [
      "C:\\Users\\fit\\Anaconda3\\lib\\site-packages\\ipykernel\\__main__.py:90: RuntimeWarning: invalid value encountered in log\n"
     ]
    },
    {
     "name": "stdout",
     "output_type": "stream",
     "text": [
      "    526.88 ,\t [527.0, 0.34, 36.91, 98.95] \t ( 529.0 ) \t [400.0, 0.57, 36.91, 98.95] \t 0.388 \n",
      "    527.09 ,\t [527.0, 0.36, 40.76, 90.86] \t ( 530.67 ) \t [400.0, 0.63, 40.76, 90.86] \t 0.376 \n",
      "    527.5 ,\t [527.0, 0.37, 44.61, 85.36] \t ( 530.33 ) \t [400.0, 0.67, 44.61, 85.36] \t 0.369 \n",
      "    527.76 ,\t [528.0, 0.38, 48.46, 82.75] \t ( 529.83 ) \t [400.0, 0.69, 48.46, 82.75] \t 0.366 \n",
      "    528.11 ,\t [528.0, 0.39, 52.31, 78.78] \t ( 532.0 ) \t [400.0, 0.7, 52.31, 78.78] \t 0.363 \n",
      "    528.19 ,\t [528.0, 0.39, 56.16, 78.78] \t ( 530.33 ) \t [400.0, 0.71, 56.16, 78.78] \t 0.362 \n",
      " * Sample # 5 ( X-Thk )\n",
      "    526.69 ,\t [527.0, 0.26, 7.65, 191.37] \t ( 528.67 ) \t [400.0, 0.48, 7.65, 191.37] \t 0.359 \n",
      "    526.33 ,\t [526.0, 0.26, 9.96, 189.35] \t ( 528.67 ) \t [400.0, 0.49, 9.96, 189.35] \t 0.360 \n",
      "    526.67 ,\t [527.0, 0.26, 13.81, 184.22] \t ( 526.83 ) \t [400.0, 0.48, 13.81, 184.22] \t 0.354 \n",
      "    527.15 ,\t [527.0, 0.26, 17.66, 181.62] \t ( 529.5 ) \t [400.0, 0.49, 17.66, 181.62] \t 0.353 \n",
      "    527.35 ,\t [527.0, 0.27, 21.51, 176.84] \t ( 527.5 ) \t [400.0, 0.51, 21.51, 176.84] \t 0.351 \n",
      "    528.14 ,\t [528.0, 0.28, 25.36, 169.52] \t ( 529.83 ) \t [400.0, 0.53, 25.36, 169.52] \t 0.347 \n",
      "    528.69 ,\t [529.0, 0.29, 27.67, 162.81] \t ( 530.17 ) \t [400.0, 0.55, 27.67, 162.81] \t 0.343 \n",
      "    528.92 ,\t [529.0, 0.29, 28.44, 162.81] \t ( 532.17 ) \t [400.0, 0.56, 28.44, 162.81] \t 0.343 \n",
      "    529.15 ,\t [529.0, 0.3, 29.21, 160.21] \t ( 529.5 ) \t [400.0, 0.57, 29.21, 160.21] \t 0.341 \n",
      "    529.28 ,\t [529.0, 0.3, 29.98, 156.22] \t ( 529.0 ) \t [400.0, 0.58, 29.98, 156.22] \t 0.340 \n",
      "    529.49 ,\t [529.0, 0.31, 30.75, 151.35] \t ( 530.5 ) \t [400.0, 0.6, 30.75, 151.35] \t 0.339 \n",
      "    530.01 ,\t [530.0, 0.31, 31.52, 151.35] \t ( 529.83 ) \t [400.0, 0.61, 31.52, 151.35] \t 0.337 \n",
      "    530.24 ,\t [530.0, 0.32, 32.29, 147.11] \t ( 530.0 ) \t [400.0, 0.62, 32.29, 147.11] \t 0.336 \n",
      "    530.27 ,\t [530.0, 0.33, 33.06, 142.64] \t ( 533.67 ) \t [400.0, 0.65, 33.06, 142.64] \t 0.334 \n",
      "    530.89 ,\t [531.0, 0.33, 33.83, 138.34] \t ( 530.83 ) \t [400.0, 0.66, 33.83, 138.34] \t 0.331 \n",
      "    532.17 ,\t [532.0, 0.38, 36.91, 128.38] \t ( 531.33 ) \t [400.0, 0.77, 36.91, 128.38] \t 0.326 \n",
      "    532.84 ,\t [533.0, 0.41, 40.76, 121.41] \t ( 532.67 ) \t [400.0, 0.85, 40.76, 121.41] \t 0.323 \n",
      "    533.07 ,\t [533.0, 0.43, 44.61, 114.77] \t ( 533.5 ) \t [400.0, 0.88, 44.61, 114.77] \t 0.322 \n",
      "    533.54 ,\t [534.0, 0.44, 48.46, 111.88] \t ( 535.67 ) \t [400.0, 0.9, 48.46, 111.88] \t 0.320 \n",
      "    533.47 ,\t [533.0, 0.44, 52.31, 110.35] \t ( 534.67 ) \t [400.0, 0.91, 52.31, 110.35] \t 0.321 \n",
      "    533.45 ,\t [533.0, 0.45, 56.16, 109.47] \t ( 533.83 ) \t [400.0, 0.92, 56.16, 109.47] \t 0.321 \n",
      "variable: \t lsprPowrPeakWLnmArray\n",
      "  * output array format: \n",
      "    [ peak-wl-nm, orig-peak-wl-nm, temp-C, Rh-nm, sample-# ]\n",
      "    - sample-# = [0,...,5] \n",
      "      for [lin-Thin, lin-Med., lin-Long, X-Thin, X-Med., X-Long]\n",
      "variable: \t lsprPowrBaselineList\n",
      "  * output array format: \n",
      "    [ wl-nm-data, ext-orig-data, ext-scaling-factor, ext-corrected-data, baseline-correction-no-core-data, baseline-correction-data]\n",
      "  * wavelength range: [ 400.0 , 800.0 ] x ( 401 values)\n",
      "variable: \t lsprPowrBaselinenkList\n",
      "  * output array format: \n",
      "    [ x0, n0, k0 ]\n",
      "variable: \t lsprPowrBaselineExpvsScaPrmList\n",
      "  * output array format: \n",
      "    [ ScatParam, n-exponent ]\n",
      "variable: \t lsprPowrScatGammaArray\n",
      "  * output array format: \n",
      "    [ peak-wl-nm, ext-peak, ext-400-nm, gamma, temp-C, Rh-nm, sample-# ]\n",
      "    - sample-# = [0,...,5] \n",
      "      for [lin-Thin, lin-Med., lin-Long, X-Thin, X-Med., X-Long]\n"
     ]
    }
   ],
   "source": [
    "threshold = 0.25\n",
    "wlExpectednm = 525\n",
    "dwlExpectednm = 25\n",
    "wlScatnm = 400\n",
    "x0base = wlExpectednm\n",
    "nPeaks = 1\n",
    "wlMin0nm, wlMax0nm = 400, 800\n",
    "wlMinnm, wlMaxnm = wlExpectednm-dwlExpectednm, wlExpectednm+dwlExpectednm\n",
    "\n",
    "timestamp = ('{:%Y%m%d}'.format(datetime.datetime.now()))\n",
    "exportFormat = '.dat'\n",
    "identifier0 = \"lspr-peaks_baseline-powr\"\n",
    "folder = 'graphics/'\n",
    "datHeader = ('\\t').join(('wl-nm', 'orig-wl-nm', 'temp-C', 'Rh-nm'))\n",
    "\n",
    "print('LSPR peak wavelengths')\n",
    "print('=====================')\n",
    "print('Core-shell nanoparticles')\n",
    "print('  * power law baseline fit')\n",
    "print('    - of the form ybase = k*(x/x0)^n')\n",
    "print('    - using log-log/linear fitting with x0 =',x0base)\n",
    "print('  * looking for one peak at', wlExpectednm, \n",
    "      'nm \\n    - in the range [', wlMinnm, ',', wlMaxnm, '] nm')\n",
    "print('    - baseline correction range [', wlMin0nm, ',', wlMax0nm, '] nm')\n",
    "print('Peaks detected: \\n    wl-nm,\\t [wl-nm, ext, T-C, Rh-nm], \\t (orig wl-nm)',\n",
    "     '\\t [wl-nm, ext, T-C, Rh-nm]', '\\t gamma')\n",
    "\n",
    "lsprPowrPeakWLnmList = []\n",
    "lsprPowrBaselineList = []\n",
    "lsprPowrBaselinenkList = []\n",
    "lsprPowrBaselineExpvsScaPrmList = []\n",
    "lsprPowrGammaList = []\n",
    "x = []\n",
    "\n",
    "for sampleNum in range(6):\n",
    "    sampleType = (['L-Thn','L-Med','L-Thk','X-Thn','X-Med','X-Thk'][sampleNum])\n",
    "    print(' * Sample #',sampleNum,'(', sampleType, ')')\n",
    "    lsprPeakWLnmSubList = []\n",
    "    indexT = 0\n",
    "    coreNum = 0\n",
    "    if sampleNum >= 3: coreNum = 1\n",
    "    gammaCoreRef = lsprPowrGammaCoreRefList[coreNum][-2]\n",
    "    \n",
    "    for T in spectraTemps[sampleNum]:\n",
    "        selection = ((dataArray[:,-1] == sampleNum) \n",
    "                     & (dataArray[:,-3] == T)\n",
    "                     & (dataArray[:,0] >= wlMin0nm) \n",
    "                     & (dataArray[:,0] <= wlMax0nm)\n",
    "                     )\n",
    "        subdataArray = dataArray[selection]\n",
    "        minDist = int(subdataArray.size/(nPeaks+1))\n",
    "        \n",
    "        x, y = subdataArray[:,0], subdataArray[:,1]\n",
    "        yOrig = y\n",
    "        logx, logy = np.log(x/x0base), np.log(y)\n",
    "        dlogx = min(np.diff(logx))\n",
    "        loglogx = np.arange(min(logx), max(logx) + dlogx, dlogx)\n",
    "        loglogy = np.interp(loglogx, logx, logy - min(logy))\n",
    "\n",
    "        loglogyLinBase = peakutils.baseline(loglogy, 1)\n",
    "        logyLinBase = np.interp(logx, loglogx, loglogyLinBase) + min(logy)\n",
    "        loglogfit = np.polyfit(logx, logyLinBase, 1)\n",
    "        basePowrn0, baseCoeffk0 = loglogfit[0], np.exp(loglogfit[1])\n",
    "    \n",
    "        yPowrBase = (np.exp(logyLinBase))\n",
    "        y = y - yPowrBase\n",
    "        indexes = peakutils.indexes(y, thres=threshold, min_dist=minDist)\n",
    "        xPeaks = x[indexes]\n",
    "        anArray = (np.array([xPeaks, indexes])).T\n",
    "        selection = (anArray[:,0] > wlMinnm) & (anArray[:,0] < wlMaxnm)\n",
    "        indexes = (anArray[selection][:,1]).tolist()\n",
    "        # if no peaks:\n",
    "        if (len(indexes) == 0): \n",
    "            selection = (x >= wlMinnm) & (x <= wlMaxnm)\n",
    "            xzoom, yzoom = x[selection], y[selection]\n",
    "            indexeszoom = peakutils.indexes(yzoom, thres=threshold, min_dist=minDist)\n",
    "            indexes = indexeszoom + (wlMinnm - wlMin0nm)\n",
    "        xPeaks = x[indexes]\n",
    "                \n",
    "        selection = ( (lsprPowrBaselineCoreList[coreNum][0] >= wlMin0nm)\n",
    "                     & (lsprPowrBaselineCoreList[coreNum][0] <= wlMax0nm)\n",
    "                     )\n",
    "        yCorePowrBase = np.asarray(lsprPowrBaselineCoreList[coreNum][-1])[selection]\n",
    "        yCorePeak = lsprPowrBaselineCoreList[coreNum][2]\n",
    "        scaling = 1*y[indexes][0]/yCorePeak\n",
    "        y = y + yCorePowrBase*scaling\n",
    "        \n",
    "        # fit [(base) - (core base)] to power law\n",
    "        yPowrBaseTotal = yPowrBase - yCorePowrBase*scaling\n",
    "        logy = np.log(yPowrBaseTotal)\n",
    "        if min(yPowrBaseTotal) > 0: \n",
    "            logy = np.log(yPowrBaseTotal)\n",
    "            loglogfit = np.polyfit(logx, logy, 1)\n",
    "        else: loglogfit = [0, 0]\n",
    "        basePowrn, baseCoeffk = loglogfit[0], np.exp(loglogfit[1])\n",
    "        \n",
    "        indexes = peakutils.indexes(y, thres=threshold, min_dist=minDist)\n",
    "        xPeaks = x[indexes]\n",
    "        anArray = (np.array([xPeaks, indexes])).T\n",
    "        selection = (anArray[:,0] > wlMinnm) & (anArray[:,0] < wlMaxnm)\n",
    "        indexes = (anArray[selection][:,1]).tolist()\n",
    "        # if no peaks:\n",
    "        if (len(indexes) == 0): \n",
    "            selection = (x >= wlMinnm) & (x <= wlMaxnm)\n",
    "            xzoom, yzoom = x[selection], y[selection]\n",
    "            indexeszoom = peakutils.indexes(yzoom, thres=threshold, min_dist=minDist)\n",
    "            indexes = indexeszoom + (wlMinnm - wlMin0nm)\n",
    "        xPeaks = x[indexes]\n",
    "\n",
    "        # iterate \n",
    "        for i in range(20):\n",
    "            oldScaling = scaling\n",
    "            scaling = 1*(y[indexes[0]] - yCorePowrBase[indexes[0]]*scaling)/yCorePeak\n",
    "            if ( abs(1-oldScaling/scaling) < 0.000001 ): break\n",
    "            \n",
    "            y = yOrig - yPowrBase + yCorePowrBase*scaling\n",
    "            indexes = peakutils.indexes(y, thres=threshold, min_dist=minDist)\n",
    "            xPeaks = x[indexes]\n",
    "            anArray = (np.array([xPeaks, indexes])).T\n",
    "            selection = (anArray[:,0] > wlMinnm) & (anArray[:,0] < wlMaxnm)\n",
    "            indexes = (anArray[selection][:,1]).tolist()\n",
    "            # if no peaks:\n",
    "            if (len(indexes) == 0): \n",
    "                selection = (x >= wlMinnm) & (x <= wlMaxnm)\n",
    "                xzoom, yzoom = x[selection], y[selection]\n",
    "                indexeszoom = peakutils.indexes(yzoom, thres=threshold, min_dist=minDist)\n",
    "                indexes = indexeszoom + (wlMinnm - wlMin0nm)\n",
    "\n",
    "        if (len(indexes) > 0): \n",
    "            result = subdataArray[indexes[0]]\n",
    "            Rhnm = result[-2]\n",
    "            xPeaks = peakutils.interpolate(x, y, indexes)\n",
    "            selection = (lsprPeakWLnmArray[:,-1] == sampleNum) & (lsprPeakWLnmArray[:,-3] == T)\n",
    "            xPeaksOrig = lsprPeakWLnmArray[selection]\n",
    "            if len(xPeaksOrig) > 0: xPeaksOrig = xPeaksOrig[0, 0]\n",
    "            else: xPeaksOrig = 0\n",
    "            indexT = indexT + 1\n",
    "            \n",
    "            xPeak = xPeaks[0]\n",
    "            \n",
    "            select = (np.abs(x-xPeak) < 0.51)\n",
    "            subdataArrayPeak = subdataArray[select][0]\n",
    "            select = (np.abs(x-wlScatnm) < 0.51)\n",
    "            subdataArrayScat = subdataArray[select][0]\n",
    "            gamma = subdataArrayPeak[1]/subdataArrayScat[1]\n",
    "            gamma = gamma/gammaCoreRef\n",
    "            \n",
    "            print('   ', round(100*xPeaks[0])/100,',\\t',  \n",
    "                  (np.round(100*subdataArrayPeak[0:-1])/100).tolist(),\n",
    "                  '\\t (',round(100*xPeaksOrig)/100,')',\n",
    "                  '\\t',(np.round(100*subdataArrayScat[0:-1])/100).tolist(),\n",
    "                  '\\t {0:.3f} '.format(gamma))\n",
    "            \n",
    "            result = [xPeaks[0], xPeaksOrig, result[-3], result[-2], int(result[-1])]\n",
    "            lsprPowrPeakWLnmList.append(result)\n",
    "\n",
    "            resultGamma = [result[0], subdataArrayPeak[1], subdataArrayScat[1], \n",
    "                           gamma, result[-3], result[-2], int(result[-1])]\n",
    "            lsprPowrGammaList.append(resultGamma)\n",
    "\n",
    "            lsprPowrBaselineList.append([x, yOrig, scaling, y, yPowrBase, \n",
    "                                         yPowrBase-yCorePowrBase*scaling])\n",
    "            lsprPowrBaselinenkList.append([x0base, basePowrn0, baseCoeffk0])\n",
    "            result = [xPeaks[0], xPeaksOrig, result[-3], result[-2]]\n",
    "            lsprPeakWLnmSubList.append(result)\n",
    "            \n",
    "            scatParam = 2*pi*Rhnm/(xPeaks[0]/1.35)\n",
    "            lsprPowrBaselineExpvsScaPrmList.append([scatParam, basePowrn])\n",
    "            \n",
    "    if len(lsprPeakWLnmSubList) == 0: lsprPeakWLnmSubList.append( [0,0,0] )\n",
    "    lsprPeakWLnmSubList = np.asarray(lsprPeakWLnmSubList)\n",
    "    identifier = '_' + identifier0 + '_' + str(sampleNum) + '-' + sampleType\n",
    "    #filename = folder + timestamp + identifier + exportFormat\n",
    "    #np.savetxt(filename, lsprPeakWLnmSubList, delimiter='\\t', header=datHeader, fmt='%.2f')\n",
    "    #print('      + saved to', filename) \n",
    "\n",
    "lsprPowrPeakWLnmArray = np.asarray(lsprPowrPeakWLnmList)\n",
    "lsprPowrScatGammaArray = np.asarray(lsprPowrGammaList)\n",
    "\n",
    "print('variable: \\t lsprPowrPeakWLnmArray')\n",
    "print(\"  * output array format: \\n    [ peak-wl-nm, orig-peak-wl-nm, temp-C, Rh-nm, sample-# ]\")\n",
    "print(\"    - sample-# = [0,...,5] \\n      for [lin-Thin, lin-Med., lin-Long, X-Thin, X-Med., X-Long]\")\n",
    "print('variable: \\t lsprPowrBaselineList')\n",
    "print(\"  * output array format: \\n\",\n",
    "      \"   [ wl-nm-data, ext-orig-data, ext-scaling-factor, ext-corrected-data,\",\n",
    "      \"baseline-correction-no-core-data, baseline-correction-data]\")\n",
    "print('  * wavelength range: [',x[0],',',x[-1],'] x (',len(x), 'values)')\n",
    "print('variable: \\t lsprPowrBaselinenkList')\n",
    "print(\"  * output array format: \\n    [ x0, n0, k0 ]\")\n",
    "print('variable: \\t lsprPowrBaselineExpvsScaPrmList')\n",
    "print(\"  * output array format: \\n    [ ScatParam, n-exponent ]\")\n",
    "print('variable: \\t lsprPowrScatGammaArray')\n",
    "print(\"  * output array format: \\n    [ peak-wl-nm, ext-peak, ext-\"+str(wlScatnm)+\"-nm, gamma, temp-C, Rh-nm, sample-# ]\")\n",
    "print(\"    - sample-# = [0,...,5] \\n      for [lin-Thin, lin-Med., lin-Long, X-Thin, X-Med., X-Long]\")\n"
   ]
  },
  {
   "cell_type": "markdown",
   "metadata": {},
   "source": [
    "## Hydrodynamic radius vs scattering parameter $\\gamma$ plots"
   ]
  },
  {
   "cell_type": "markdown",
   "metadata": {},
   "source": [
    "### Estimates of scattering limits"
   ]
  },
  {
   "cell_type": "code",
   "execution_count": 39,
   "metadata": {
    "ExecuteTime": {
     "end_time": "2017-02-22T16:25:06.491071",
     "start_time": "2017-02-22T16:25:06.475416"
    },
    "collapsed": false
   },
   "outputs": [
    {
     "name": "stdout",
     "output_type": "stream",
     "text": [
      "(1.634159270087036, 0.49483487961617023, 0.3501277966457758)\n",
      "(1, 0.30280700827270962, 0.2142556133020791)\n"
     ]
    }
   ],
   "source": [
    "ref = 0.5*(lsprPowrGammaCoreRefList[0][-2] + lsprPowrGammaCoreRefList[0][-2])\n",
    "print((ref, (400/530)**2.5, (400/520)**4))\n",
    "print((1, (400/530)**2.5/ref, (400/520)**4/ref))"
   ]
  },
  {
   "cell_type": "markdown",
   "metadata": {
    "heading_collapsed": true
   },
   "source": [
    "### individually"
   ]
  },
  {
   "cell_type": "code",
   "execution_count": 31,
   "metadata": {
    "ExecuteTime": {
     "end_time": "2017-02-22T16:03:27.129022",
     "start_time": "2017-02-22T16:03:25.097852"
    },
    "collapsed": false,
    "format": "tab",
    "hidden": true,
    "scrolled": false
   },
   "outputs": [
    {
     "name": "stdout",
     "output_type": "stream",
     "text": [
      "Exported to:\n",
      " graphics/20170222_Rh-vs-gamma_powr-corr_L1-Thn.svg\n"
     ]
    },
    {
     "data": {
      "image/png": "[encoded data removed]",
      "text/plain": [
       "<matplotlib.figure.Figure at 0x21cceca5160>"
      ]
     },
     "metadata": {},
     "output_type": "display_data"
    },
    {
     "name": "stdout",
     "output_type": "stream",
     "text": [
      "Exported to:\n",
      " graphics/20170222_Rh-vs-gamma_powr-corr_L2-Med.svg\n"
     ]
    },
    {
     "data": {
      "image/png": "[encoded data removed]",
      "text/plain": [
       "<matplotlib.figure.Figure at 0x21ccd7bd2e8>"
      ]
     },
     "metadata": {},
     "output_type": "display_data"
    },
    {
     "name": "stdout",
     "output_type": "stream",
     "text": [
      "Exported to:\n",
      " graphics/20170222_Rh-vs-gamma_powr-corr_L3-Thk.svg\n"
     ]
    },
    {
     "data": {
      "image/png": "[encoded data removed]",
      "text/plain": [
       "<matplotlib.figure.Figure at 0x21ccd9b6eb8>"
      ]
     },
     "metadata": {},
     "output_type": "display_data"
    },
    {
     "name": "stdout",
     "output_type": "stream",
     "text": [
      "Exported to:\n",
      " graphics/20170222_Rh-vs-gamma_powr-corr_X1-Thn.svg\n"
     ]
    },
    {
     "data": {
      "image/png": "[encoded data removed]",
      "text/plain": [
       "<matplotlib.figure.Figure at 0x21ccb793c88>"
      ]
     },
     "metadata": {},
     "output_type": "display_data"
    },
    {
     "name": "stdout",
     "output_type": "stream",
     "text": [
      "Exported to:\n",
      " graphics/20170222_Rh-vs-gamma_powr-corr_X2-Med.svg\n"
     ]
    },
    {
     "data": {
      "image/png": "[encoded data removed]",
      "text/plain": [
       "<matplotlib.figure.Figure at 0x21cc4c33a58>"
      ]
     },
     "metadata": {},
     "output_type": "display_data"
    },
    {
     "name": "stdout",
     "output_type": "stream",
     "text": [
      "Exported to:\n",
      " graphics/20170222_Rh-vs-gamma_powr-corr_X3-Thk.svg\n"
     ]
    },
    {
     "data": {
      "image/png": "[encoded data removed]",
      "text/plain": [
       "<matplotlib.figure.Figure at 0x21ccdcaacf8>"
      ]
     },
     "metadata": {},
     "output_type": "display_data"
    }
   ],
   "source": [
    "def plotAndSave (sampleNum):   \n",
    "    sampleLabel = ['L1-Thn','L2-Med','L3-Thk','X1-Thn','X2-Med','X3-Thk'][sampleNum]\n",
    "    xs, ys, labels, colors, markers, lines = [], [], [], [], [], []\n",
    "    \n",
    "    rCorenm = coreRnms[0]\n",
    "    if sampleNum > 2: rCorenm = coreRnms[1]\n",
    "    selection = (np.abs(lsprPowrScatGammaArray[:,-1] - sampleNum) < 0.5)\n",
    "    plotArray = lsprPowrScatGammaArray[selection]\n",
    "\n",
    "    # data set 1\n",
    "    label = sampleLabel\n",
    "    color = 'black'\n",
    "    marker = ''\n",
    "    line = '-'\n",
    "    x, y = plotArray[:,3], plotArray[:,-2]\n",
    "    xs.append(x), ys.append(y), labels.append(label)\n",
    "    colors.append(color), markers.append(marker), lines.append(line)\n",
    "        \n",
    "    ## Plot lines & set limits\n",
    "    nSets = len(xs)\n",
    "    for setNum in range(nSets):\n",
    "        pylab.semilogy(xs[setNum], ys[setNum], label=labels[setNum], \n",
    "                   color=colors[setNum], linestyle=lines[setNum], marker=markers[setNum], \n",
    "                   linewidth=2)\n",
    "    x, y = [], []\n",
    "    for setNum in range(nSets):\n",
    "        for i in range(len(xs[setNum])): \n",
    "            x.append(xs[setNum][i]); y.append(ys[setNum][i])\n",
    "    y.append(np.min(spectraRhnms[0]))\n",
    "    y.append(np.max(spectraRhnms[-1]))\n",
    "    x.append(np.min(lsprPowrScatGammaArray[:,3]))\n",
    "    x.append(np.max(lsprPowrScatGammaArray[:,3]))\n",
    "    xLimits = [np.amin(x), np.amax(x)]\n",
    "    yLimits = [np.amin(y), np.amax(y)]\n",
    "    dx, dy = abs(xLimits[1]-xLimits[0]), abs(yLimits[1]-yLimits[0])\n",
    "    xLimits = [np.amin(x)- 0.05*dx, np.amax(x)+ 0.05*dx]\n",
    "    yLimits = [np.amin(y)*0.9, np.amax(y)*1.1]\n",
    "    dx, dy = abs(xLimits[1]-xLimits[0]), abs(yLimits[1]-yLimits[0])\n",
    "    \n",
    "    ## Specific format options\n",
    "    pylab.ylabel('Hydrodynamic radius $R_h$ (nm)')\n",
    "    pylab.xlabel(\"$\\gamma_{\\mathrm{scat}}$\")\n",
    "    figText = sampleLabel\n",
    "    pylab.text(xLimits[0]+0.025*dx, yLimits[1]-0.025*dy, figText, verticalalignment='top', horizontalalignment='left')\n",
    "    pylab.legend(loc='upper left', bbox_to_anchor=(1.05,1), fontsize=12)\n",
    "    \n",
    "    ## More general format options\n",
    "    pylab.xlim(xLimits[0], xLimits[1])\n",
    "    pylab.ylim(yLimits[0], yLimits[1])\n",
    "    \n",
    "    ## Save and display\n",
    "    timestamp = ('{:%Y%m%d}'.format(datetime.datetime.now()))\n",
    "    exportFormat = '.svg'\n",
    "    identifier = ( \"_Rh-vs-gamma_powr-corr_\" + sampleLabel )\n",
    "    filename = \"graphics/\" + timestamp + identifier + exportFormat\n",
    "    pylab.savefig(filename); print(\"Exported to:\\n\", filename)\n",
    "    pylab.show()\n",
    "    \n",
    "for sampleNum in range(6):\n",
    "    plotAndSave(sampleNum) \n"
   ]
  },
  {
   "cell_type": "markdown",
   "metadata": {},
   "source": [
    "### Together"
   ]
  },
  {
   "cell_type": "code",
   "execution_count": 32,
   "metadata": {
    "ExecuteTime": {
     "end_time": "2017-02-22T16:04:52.084849",
     "start_time": "2017-02-22T16:04:51.553822"
    },
    "collapsed": false,
    "format": "tab",
    "scrolled": false
   },
   "outputs": [
    {
     "name": "stdout",
     "output_type": "stream",
     "text": [
      "Exported to:\n",
      " graphics/20170222_Rh-vs-gamma_powr-corr_all.svg\n"
     ]
    },
    {
     "data": {
      "image/png": "[encoded data removed]",
      "text/plain": [
       "<matplotlib.figure.Figure at 0x21ccdae22b0>"
      ]
     },
     "metadata": {},
     "output_type": "display_data"
    }
   ],
   "source": [
    "def plotAndSave ():   \n",
    "    \n",
    "    # data sets\n",
    "    sampleLabels = []\n",
    "    xs, ys, labels, colors, markers, lines = [], [], [], [], [], []\n",
    "    for sampleNum in range(6):\n",
    "        label = (['L1-Thn','L2-Med','L3-Thk','X1-Thn','X2-Med','X3-Thk'][sampleNum])\n",
    "        color = (['#ff0000','#cc0035','#990066','#660099','#3300cc','#0000ff'][sampleNum])\n",
    "        marker = (['o','s','*','o','s','*'][sampleNum])\n",
    "        line = '-'\n",
    "        selection = (np.abs(lsprPowrScatGammaArray[:,-1] - sampleNum) < 0.5)\n",
    "        plotArray = lsprPowrScatGammaArray[selection]\n",
    "        x, y = plotArray[:,-2], plotArray[:,3]\n",
    "        if (x.size > 0) & (max(y) > 0):\n",
    "            xs.append(x), ys.append(y), labels.append(label), \n",
    "            colors.append(color), markers.append(marker), lines.append(line)\n",
    "            sampleLabels.append(label)\n",
    "        \n",
    "    ## Plot lines & set limits\n",
    "    nSets = len(xs)\n",
    "    for setNum in range(nSets):\n",
    "        pylab.semilogy(ys[setNum], xs[setNum], label=labels[setNum], \n",
    "                   color=colors[setNum], linestyle=lines[setNum], marker=markers[setNum], \n",
    "                   linewidth=2)\n",
    "    x, y = [], []\n",
    "    for setNum in range(nSets):\n",
    "        for i in range(len(xs[setNum])): \n",
    "            x.append(ys[setNum][i]); y.append(xs[setNum][i])\n",
    "    y.append(np.min(spectraRhnms[0]))\n",
    "    y.append(np.max(spectraRhnms[-1]))\n",
    "    xLimits = [np.amin(x), np.amax(x)]\n",
    "    yLimits = [np.amin(y), np.amax(y)]\n",
    "    dx, dy = abs(xLimits[1]-xLimits[0]), abs(yLimits[1]-yLimits[0])\n",
    "    xLimits = [np.amin(x)- 0.05*dx, np.amax(x)+ 0.05*dx]\n",
    "    yLimits = [np.amin(y)*.9, np.amax(y)*1.1]\n",
    "    dx, dy = abs(xLimits[1]-xLimits[0]), abs(yLimits[1]-yLimits[0])\n",
    "    \n",
    "    ## Specific format options\n",
    "    pylab.ylabel('Hydrodynamic radius $R_h$ (nm)')\n",
    "    pylab.xlabel(\"$\\gamma_{\\mathrm{scat}}$\")\n",
    "    pylab.legend(loc='upper left', bbox_to_anchor=(1.05,1), fontsize=12)\n",
    "    \n",
    "    ## More general format options\n",
    "    pylab.xlim(xLimits[0], xLimits[1])\n",
    "    pylab.ylim(yLimits[0], yLimits[1])\n",
    "    \n",
    "    ## Save and display\n",
    "    timestamp = ('{:%Y%m%d}'.format(datetime.datetime.now()))\n",
    "    exportFormat = '.svg'\n",
    "    identifier = (\"_Rh-vs-gamma_powr-corr_all\" )\n",
    "    filename = \"graphics/\" + timestamp + identifier + exportFormat\n",
    "    pylab.savefig(filename); print(\"Exported to:\\n\", filename)\n",
    "    pylab.show()\n",
    "    \n",
    "plotAndSave()"
   ]
  },
  {
   "cell_type": "code",
   "execution_count": 37,
   "metadata": {
    "ExecuteTime": {
     "end_time": "2017-02-22T16:06:58.042692",
     "start_time": "2017-02-22T16:06:57.496013"
    },
    "collapsed": false,
    "format": "tab",
    "scrolled": false
   },
   "outputs": [
    {
     "name": "stdout",
     "output_type": "stream",
     "text": [
      "Exported to:\n",
      " graphics/20170222_Rh-vs-gamma_powr-corr_all_log-log.svg\n"
     ]
    },
    {
     "data": {
      "image/png": "[encoded data removed]",
      "text/plain": [
       "<matplotlib.figure.Figure at 0x21ccd987198>"
      ]
     },
     "metadata": {},
     "output_type": "display_data"
    }
   ],
   "source": [
    "def plotAndSave ():   \n",
    "    \n",
    "    # data sets\n",
    "    sampleLabels = []\n",
    "    xs, ys, labels, colors, markers, lines = [], [], [], [], [], []\n",
    "    for sampleNum in range(6):\n",
    "        label = (['L1-Thn','L2-Med','L3-Thk','X1-Thn','X2-Med','X3-Thk'][sampleNum])\n",
    "        color = (['#ff0000','#cc0035','#990066','#660099','#3300cc','#0000ff'][sampleNum])\n",
    "        marker = (['o','s','*','o','s','*'][sampleNum])\n",
    "        line = '-'\n",
    "        selection = (np.abs(lsprPowrScatGammaArray[:,-1] - sampleNum) < 0.5)\n",
    "        plotArray = lsprPowrScatGammaArray[selection]\n",
    "        x, y = plotArray[:,-2], plotArray[:,3]\n",
    "        if (x.size > 0) & (max(y) > 0):\n",
    "            xs.append(x), ys.append(y), labels.append(label), \n",
    "            colors.append(color), markers.append(marker), lines.append(line)\n",
    "            sampleLabels.append(label)\n",
    "        \n",
    "    ## Plot lines & set limits\n",
    "    nSets = len(xs)\n",
    "    for setNum in range(nSets):\n",
    "        pylab.loglog(ys[setNum], xs[setNum], label=labels[setNum], \n",
    "                   color=colors[setNum], linestyle=lines[setNum], marker=markers[setNum], \n",
    "                   linewidth=2)\n",
    "    x, y = [], []\n",
    "    for setNum in range(nSets):\n",
    "        for i in range(len(xs[setNum])): \n",
    "            x.append(ys[setNum][i]); y.append(xs[setNum][i])\n",
    "    y.append(np.min(spectraRhnms[0]))\n",
    "    y.append(np.max(spectraRhnms[-1]))\n",
    "    xLimits = [np.amin(x), np.amax(x)]\n",
    "    yLimits = [np.amin(y), np.amax(y)]\n",
    "    dx, dy = abs(xLimits[1]-xLimits[0]), abs(yLimits[1]-yLimits[0])\n",
    "    xLimits = [np.amin(x)*.95, np.amax(x)*1.05]\n",
    "    yLimits = [np.amin(y)*.9, np.amax(y)*1.1]\n",
    "    dx, dy = abs(xLimits[1]-xLimits[0]), abs(yLimits[1]-yLimits[0])\n",
    "    \n",
    "    ## Specific format options\n",
    "    pylab.ylabel('Hydrodynamic radius $R_h$ (nm)')\n",
    "    pylab.xlabel(\"$\\gamma_{\\mathrm{scat}}$\")\n",
    "    pylab.legend(loc='upper left', bbox_to_anchor=(1.05,1), fontsize=12)\n",
    "    \n",
    "    pylab.xlim(xLimits[0], xLimits[1])\n",
    "    pylab.ylim(yLimits[0], yLimits[1])\n",
    "    \n",
    "    ## Save and display\n",
    "    timestamp = ('{:%Y%m%d}'.format(datetime.datetime.now()))\n",
    "    exportFormat = '.svg'\n",
    "    identifier = (\"_Rh-vs-gamma_powr-corr_all_log-log\" )\n",
    "    filename = \"graphics/\" + timestamp + identifier + exportFormat\n",
    "    pylab.savefig(filename); print(\"Exported to:\\n\", filename)\n",
    "    pylab.show()\n",
    "    \n",
    "plotAndSave()"
   ]
  },
  {
   "cell_type": "markdown",
   "metadata": {},
   "source": [
    "## Shell-to-core ratio vs scattering parameter $\\gamma$ plots"
   ]
  },
  {
   "cell_type": "markdown",
   "metadata": {},
   "source": [
    "### Estimates of scattering limits"
   ]
  },
  {
   "cell_type": "code",
   "execution_count": 39,
   "metadata": {
    "ExecuteTime": {
     "end_time": "2017-02-22T16:25:06.491071",
     "start_time": "2017-02-22T16:25:06.475416"
    },
    "collapsed": false
   },
   "outputs": [
    {
     "name": "stdout",
     "output_type": "stream",
     "text": [
      "(1.634159270087036, 0.49483487961617023, 0.3501277966457758)\n",
      "(1, 0.30280700827270962, 0.2142556133020791)\n"
     ]
    }
   ],
   "source": [
    "ref = 0.5*(lsprPowrGammaCoreRefList[0][-2] + lsprPowrGammaCoreRefList[0][-2])\n",
    "print((ref, (400/530)**2.5, (400/520)**4))\n",
    "print((1, (400/530)**2.5/ref, (400/520)**4/ref))"
   ]
  },
  {
   "cell_type": "markdown",
   "metadata": {
    "heading_collapsed": true
   },
   "source": [
    "### individually"
   ]
  },
  {
   "cell_type": "code",
   "execution_count": 42,
   "metadata": {
    "ExecuteTime": {
     "end_time": "2017-02-22T16:29:23.789709",
     "start_time": "2017-02-22T16:29:21.539467"
    },
    "collapsed": false,
    "format": "tab",
    "hidden": true,
    "scrolled": true
   },
   "outputs": [
    {
     "name": "stdout",
     "output_type": "stream",
     "text": [
      "Exported to:\n",
      " graphics/20170222_Rh-ratio-vs-gamma_powr-corr_L1-Thn.svg\n"
     ]
    },
    {
     "data": {
      "image/png": "[encoded data removed]",
      "text/plain": [
       "<matplotlib.figure.Figure at 0x21ccdbb51d0>"
      ]
     },
     "metadata": {},
     "output_type": "display_data"
    },
    {
     "name": "stdout",
     "output_type": "stream",
     "text": [
      "Exported to:\n",
      " graphics/20170222_Rh-ratio-vs-gamma_powr-corr_L2-Med.svg\n"
     ]
    },
    {
     "data": {
      "image/png": "[encoded data removed]",
      "text/plain": [
       "<matplotlib.figure.Figure at 0x21cc2d57518>"
      ]
     },
     "metadata": {},
     "output_type": "display_data"
    },
    {
     "name": "stdout",
     "output_type": "stream",
     "text": [
      "Exported to:\n",
      " graphics/20170222_Rh-ratio-vs-gamma_powr-corr_L3-Thk.svg\n"
     ]
    },
    {
     "data": {
      "image/png": "[encoded data removed]",
      "text/plain": [
       "<matplotlib.figure.Figure at 0x21ccd7ef908>"
      ]
     },
     "metadata": {},
     "output_type": "display_data"
    },
    {
     "name": "stdout",
     "output_type": "stream",
     "text": [
      "Exported to:\n",
      " graphics/20170222_Rh-ratio-vs-gamma_powr-corr_X1-Thn.svg\n"
     ]
    },
    {
     "data": {
      "image/png": "[encoded data removed]",
      "text/plain": [
       "<matplotlib.figure.Figure at 0x21ccd8dca90>"
      ]
     },
     "metadata": {},
     "output_type": "display_data"
    },
    {
     "name": "stdout",
     "output_type": "stream",
     "text": [
      "Exported to:\n",
      " graphics/20170222_Rh-ratio-vs-gamma_powr-corr_X2-Med.svg\n"
     ]
    },
    {
     "data": {
      "image/png": "[encoded data removed]",
      "text/plain": [
       "<matplotlib.figure.Figure at 0x21ccdc28400>"
      ]
     },
     "metadata": {},
     "output_type": "display_data"
    },
    {
     "name": "stdout",
     "output_type": "stream",
     "text": [
      "Exported to:\n",
      " graphics/20170222_Rh-ratio-vs-gamma_powr-corr_X3-Thk.svg\n"
     ]
    },
    {
     "data": {
      "image/png": "[encoded data removed]",
      "text/plain": [
       "<matplotlib.figure.Figure at 0x21ccdbc6cc0>"
      ]
     },
     "metadata": {},
     "output_type": "display_data"
    }
   ],
   "source": [
    "def plotAndSave (sampleNum):   \n",
    "    sampleLabel = ['L1-Thn','L2-Med','L3-Thk','X1-Thn','X2-Med','X3-Thk'][sampleNum]\n",
    "    xs, ys, labels, colors, markers, lines = [], [], [], [], [], []\n",
    "    \n",
    "    rCorenm = coreRnms[0]\n",
    "    if sampleNum > 2: rCorenm = coreRnms[1]\n",
    "    selection = (np.abs(lsprPowrScatGammaArray[:,-1] - sampleNum) < 0.5)\n",
    "    plotArray = lsprPowrScatGammaArray[selection]\n",
    "\n",
    "    # data set 1\n",
    "    label = sampleLabel\n",
    "    color = 'black'\n",
    "    marker = ''\n",
    "    line = '-'\n",
    "    x, y = plotArray[:,3], plotArray[:,-2]\n",
    "    y = y/rCorenm\n",
    "    xs.append(x), ys.append(y), labels.append(label)\n",
    "    colors.append(color), markers.append(marker), lines.append(line)\n",
    "        \n",
    "    ## Plot lines & set limits\n",
    "    nSets = len(xs)\n",
    "    for setNum in range(nSets):\n",
    "        pylab.semilogy(xs[setNum], ys[setNum], label=labels[setNum], \n",
    "                   color=colors[setNum], linestyle=lines[setNum], marker=markers[setNum], \n",
    "                   linewidth=2)\n",
    "    x, y = [], []\n",
    "    for setNum in range(nSets):\n",
    "        for i in range(len(xs[setNum])): \n",
    "            x.append(xs[setNum][i]); y.append(ys[setNum][i])\n",
    "    y.append(np.min(spectraRhnms[0]/rCorenm))\n",
    "    y.append(np.max(spectraRhnms[-1]/rCorenm))\n",
    "    x.append(np.min(lsprPowrScatGammaArray[:,3]))\n",
    "    x.append(np.max(lsprPowrScatGammaArray[:,3]))\n",
    "    xLimits = [np.amin(x), np.amax(x)]\n",
    "    yLimits = [np.amin(y), np.amax(y)]\n",
    "    dx, dy = abs(xLimits[1]-xLimits[0]), abs(yLimits[1]-yLimits[0])\n",
    "    xLimits = [np.amin(x)- 0.05*dx, np.amax(x)+ 0.05*dx]\n",
    "    yLimits = [np.amin(y)*0.9, np.amax(y)*1.1]\n",
    "    dx, dy = abs(xLimits[1]-xLimits[0]), abs(yLimits[1]-yLimits[0])\n",
    "    \n",
    "    ## Specific format options\n",
    "    pylab.ylabel('Shell-to-core ratio $R_h/R_{\\mathrm{core}}$')\n",
    "    pylab.xlabel(\"$\\gamma_{\\mathrm{scat}}$\")\n",
    "    figText = sampleLabel\n",
    "    pylab.text(xLimits[0]+0.025*dx, yLimits[1]-0.025*dy, figText, verticalalignment='top', horizontalalignment='left')\n",
    "    pylab.legend(loc='upper left', bbox_to_anchor=(1.05,1), fontsize=12)\n",
    "    \n",
    "    ## More general format options\n",
    "    pylab.xlim(xLimits[0], xLimits[1])\n",
    "    pylab.ylim(yLimits[0], yLimits[1])\n",
    "    \n",
    "    ## Save and display\n",
    "    timestamp = ('{:%Y%m%d}'.format(datetime.datetime.now()))\n",
    "    exportFormat = '.svg'\n",
    "    identifier = ( \"_Rh-ratio-vs-gamma_powr-corr_\" + sampleLabel )\n",
    "    filename = \"graphics/\" + timestamp + identifier + exportFormat\n",
    "    pylab.savefig(filename); print(\"Exported to:\\n\", filename)\n",
    "    pylab.show()\n",
    "    \n",
    "for sampleNum in range(6):\n",
    "    plotAndSave(sampleNum) \n"
   ]
  },
  {
   "cell_type": "markdown",
   "metadata": {
    "heading_collapsed": true
   },
   "source": [
    "### Together"
   ]
  },
  {
   "cell_type": "code",
   "execution_count": 45,
   "metadata": {
    "ExecuteTime": {
     "end_time": "2017-02-22T16:32:14.654643",
     "start_time": "2017-02-22T16:32:14.105789"
    },
    "collapsed": false,
    "format": "tab",
    "hidden": true,
    "scrolled": false
   },
   "outputs": [
    {
     "name": "stdout",
     "output_type": "stream",
     "text": [
      "Exported to:\n",
      " graphics/20170222_Rh-ratio-vs-gamma_powr-corr_all.svg\n"
     ]
    },
    {
     "data": {
      "image/png": "[encoded data removed]",
      "text/plain": [
       "<matplotlib.figure.Figure at 0x21ccd85ff60>"
      ]
     },
     "metadata": {},
     "output_type": "display_data"
    }
   ],
   "source": [
    "def plotAndSave ():   \n",
    "    \n",
    "    # data sets\n",
    "    sampleLabels = []\n",
    "    xs, ys, labels, colors, markers, lines = [], [], [], [], [], []\n",
    "    for sampleNum in range(6):\n",
    "        rCorenm = coreRnms[0]\n",
    "        if sampleNum > 2: rCorenm = coreRnms[1]\n",
    "        label = (['L1-Thn','L2-Med','L3-Thk','X1-Thn','X2-Med','X3-Thk'][sampleNum])\n",
    "        color = (['#ff0000','#cc0035','#990066','#660099','#3300cc','#0000ff'][sampleNum])\n",
    "        marker = (['o','s','*','o','s','*'][sampleNum])\n",
    "        line = '-'\n",
    "        selection = (np.abs(lsprPowrScatGammaArray[:,-1] - sampleNum) < 0.5)\n",
    "        plotArray = lsprPowrScatGammaArray[selection]\n",
    "        x, y = plotArray[:,-2], plotArray[:,3]\n",
    "        x = x/rCorenm\n",
    "        if (x.size > 0) & (max(y) > 0):\n",
    "            xs.append(x), ys.append(y), labels.append(label), \n",
    "            colors.append(color), markers.append(marker), lines.append(line)\n",
    "            sampleLabels.append(label)\n",
    "        \n",
    "    ## Plot lines & set limits\n",
    "    nSets = len(xs)\n",
    "    for setNum in range(nSets):\n",
    "        pylab.semilogy(ys[setNum], xs[setNum], label=labels[setNum], \n",
    "                   color=colors[setNum], linestyle=lines[setNum], marker=markers[setNum], \n",
    "                   linewidth=2)\n",
    "    x, y = [], []\n",
    "    for setNum in range(nSets):\n",
    "        for i in range(len(xs[setNum])): \n",
    "            x.append(ys[setNum][i]); y.append(xs[setNum][i])\n",
    "    y.append(np.min(spectraRhnms[0]/coreRnms[0]))\n",
    "    y.append(np.max(spectraRhnms[-1]/coreRnms[1]))\n",
    "    xLimits = [np.amin(x), np.amax(x)]\n",
    "    yLimits = [np.amin(y), np.amax(y)]\n",
    "    dx, dy = abs(xLimits[1]-xLimits[0]), abs(yLimits[1]-yLimits[0])\n",
    "    xLimits = [np.amin(x)- 0.05*dx, np.amax(x)+ 0.05*dx]\n",
    "    yLimits = [np.amin(y)*.9, np.amax(y)*1.1]\n",
    "    dx, dy = abs(xLimits[1]-xLimits[0]), abs(yLimits[1]-yLimits[0])\n",
    "    \n",
    "    ## Specific format options\n",
    "    pylab.ylabel('Shell-to-core ratio $R_h/R_{\\mathrm{core}}$')\n",
    "    pylab.xlabel(\"$\\gamma_{\\mathrm{scat}}$\")\n",
    "    pylab.legend(loc='upper left', bbox_to_anchor=(1.05,1), fontsize=12)\n",
    "    \n",
    "    ## More general format options\n",
    "    pylab.xlim(xLimits[0], xLimits[1])\n",
    "    pylab.ylim(yLimits[0], yLimits[1])\n",
    "    \n",
    "    ## Save and display\n",
    "    timestamp = ('{:%Y%m%d}'.format(datetime.datetime.now()))\n",
    "    exportFormat = '.svg'\n",
    "    identifier = (\"_Rh-ratio-vs-gamma_powr-corr_all\" )\n",
    "    filename = \"graphics/\" + timestamp + identifier + exportFormat\n",
    "    pylab.savefig(filename); print(\"Exported to:\\n\", filename)\n",
    "    pylab.show()\n",
    "    \n",
    "plotAndSave()"
   ]
  },
  {
   "cell_type": "code",
   "execution_count": 53,
   "metadata": {
    "ExecuteTime": {
     "end_time": "2017-02-22T16:40:27.478768",
     "start_time": "2017-02-22T16:40:26.902126"
    },
    "collapsed": false,
    "format": "tab",
    "hidden": true,
    "scrolled": false
   },
   "outputs": [
    {
     "name": "stdout",
     "output_type": "stream",
     "text": [
      "Exported to:\n",
      " graphics/20170222_Rh-ratio-vs-gamma_powr-corr_all_log-log.svg\n"
     ]
    },
    {
     "data": {
      "image/png": "[encoded data removed]",
      "text/plain": [
       "<matplotlib.figure.Figure at 0x21ccdc96b38>"
      ]
     },
     "metadata": {},
     "output_type": "display_data"
    }
   ],
   "source": [
    "def plotAndSave ():   \n",
    "    \n",
    "    # data sets\n",
    "    sampleLabels = []\n",
    "    xs, ys, labels, colors, markers, lines = [], [], [], [], [], []\n",
    "    for sampleNum in range(6):\n",
    "        rCorenm = coreRnms[0]\n",
    "        if sampleNum > 2: rCorenm = coreRnms[1]\n",
    "        label = (['L1-Thn','L2-Med','L3-Thk','X1-Thn','X2-Med','X3-Thk'][sampleNum])\n",
    "        color = (['#ff0000','#cc0035','#990066','#660099','#3300cc','#0000ff'][sampleNum])\n",
    "        marker = (['o','s','*','o','s','*'][sampleNum])\n",
    "        line = '-'\n",
    "        selection = (np.abs(lsprPowrScatGammaArray[:,-1] - sampleNum) < 0.5)\n",
    "        plotArray = lsprPowrScatGammaArray[selection]\n",
    "        x, y = plotArray[:,-2], plotArray[:,3]\n",
    "        x = x/rCorenm\n",
    "        if (x.size > 0) & (max(y) > 0):\n",
    "            xs.append(x), ys.append(y), labels.append(label), \n",
    "            colors.append(color), markers.append(marker), lines.append(line)\n",
    "            sampleLabels.append(label)\n",
    "        \n",
    "    ## Plot lines & set limits\n",
    "    nSets = len(xs)\n",
    "    for setNum in range(nSets):\n",
    "        pylab.loglog(ys[setNum], xs[setNum], label=labels[setNum], \n",
    "                   color=colors[setNum], linestyle=lines[setNum], marker=markers[setNum], \n",
    "                   linewidth=2)\n",
    "    x, y = [], []\n",
    "    for setNum in range(nSets):\n",
    "        for i in range(len(xs[setNum])): \n",
    "            x.append(ys[setNum][i]); y.append(xs[setNum][i])\n",
    "    y.append(np.min(spectraRhnms[0]/coreRnms[0]))\n",
    "    y.append(np.max(spectraRhnms[-1]/coreRnms[1]))\n",
    "    xLimits = [np.amin(x), np.amax(x)]\n",
    "    yLimits = [np.amin(y), np.amax(y)]\n",
    "    dx, dy = abs(xLimits[1]-xLimits[0]), abs(yLimits[1]-yLimits[0])\n",
    "    xLimits = [(np.amin(x)*.85), (np.amax(x)*1.15)]\n",
    "    yLimits = [np.amin(y)*.9, np.amax(y)*1.1]\n",
    "    dx, dy = abs(xLimits[1]-xLimits[0]), abs(yLimits[1]-yLimits[0])\n",
    "    \n",
    "    ## Specific format options\n",
    "    pylab.ylabel('Shell-to-core ratio $R_h/R_{\\mathrm{core}}$')\n",
    "    pylab.xlabel(\"$\\gamma_{\\mathrm{scat}}$\")\n",
    "    pylab.legend(loc='upper left', bbox_to_anchor=(1.05,1), fontsize=12)\n",
    "    \n",
    "    pylab.xlim(xLimits[0], xLimits[1])\n",
    "    pylab.ylim(yLimits[0], yLimits[1])\n",
    "    \n",
    "    ## Save and display\n",
    "    timestamp = ('{:%Y%m%d}'.format(datetime.datetime.now()))\n",
    "    exportFormat = '.svg'\n",
    "    identifier = (\"_Rh-ratio-vs-gamma_powr-corr_all_log-log\" )\n",
    "    filename = \"graphics/\" + timestamp + identifier + exportFormat\n",
    "    pylab.savefig(filename); print(\"Exported to:\\n\", filename)\n",
    "    pylab.show()\n",
    "    \n",
    "plotAndSave()"
   ]
  },
  {
   "cell_type": "code",
   "execution_count": null,
   "metadata": {
    "collapsed": true,
    "hidden": true
   },
   "outputs": [],
   "source": []
  }
 ],
 "metadata": {
  "anaconda-cloud": {},
  "hide_input": false,
  "kernelspec": {
   "display_name": "Python [default]",
   "language": "python",
   "name": "python3"
  },
  "language_info": {
   "codemirror_mode": {
    "name": "ipython",
    "version": 3
   },
   "file_extension": ".py",
   "mimetype": "text/x-python",
   "name": "python",
   "nbconvert_exporter": "python",
   "pygments_lexer": "ipython3",
   "version": "3.5.2"
  },
  "toc": {
   "colors": {
    "hover_highlight": "#DAA520",
    "running_highlight": "#FF0000",
    "selected_highlight": "#FFD700"
   },
   "moveMenuLeft": true,
   "nav_menu": {
    "height": "512px",
    "width": "252px"
   },
   "navigate_menu": true,
   "number_sections": true,
   "sideBar": false,
   "threshold": "10",
   "toc_cell": true,
   "toc_position": {
    "height": "492px",
    "left": "8px",
    "right": "1700px",
    "top": "423px",
    "width": "212px"
   },
   "toc_section_display": "block",
   "toc_window_display": false
  }
 },
 "nbformat": 4,
 "nbformat_minor": 0
}
