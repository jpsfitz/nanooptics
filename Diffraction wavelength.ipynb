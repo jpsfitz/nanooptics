{
 "cells": [
  {
   "cell_type": "markdown",
   "metadata": {},
   "source": [
    "# Calculation of diffraction wavelength condition"
   ]
  },
  {
   "cell_type": "markdown",
   "metadata": {},
   "source": [
    "- Normal incidence\n",
    "- 2D crystal lattices (gratings)\n",
    "- Monolayer and bilayer (mirror coupling)"
   ]
  },
  {
   "cell_type": "markdown",
   "metadata": {},
   "source": [
    "# Initialize analysis"
   ]
  },
  {
   "cell_type": "code",
   "execution_count": 1,
   "metadata": {
    "ExecuteTime": {
     "end_time": "2017-03-06T18:49:51.751417",
     "start_time": "2017-03-06T18:49:46.510938"
    },
    "collapsed": false
   },
   "outputs": [
    {
     "name": "stdout",
     "output_type": "stream",
     "text": [
      "Loading import modules ...\n",
      "  ... math, cmath (local)\n",
      "  ... os, sys, types, importlib\n",
      "  ... time, datetime\n",
      "  ... ipyparallel as ipp\n",
      "  ... numpy as np\n",
      "  ... scipy as sp\n",
      "      scipy.special (local, for Bessel functions)\n",
      "      scipy.interpolate as interpolate\n",
      "      scipy.signal as signal\n",
      "  ... matplotlib\n",
      "      matplotlib.pyplot as plt\n",
      "      matplotlib.cm as cm\n",
      "      matplotlib.pylab as pylab\n",
      "  ... peakutils\n",
      "Defining fundamental constants ...\n",
      "  ... Avogadro's number: 'AvogadroN'\n",
      "  ... speed of light: 'cumfs','cnmfs'\n",
      "  ... Planck's constant: 'heVfs','hbareVfs'\n",
      "  ... electron rest mass: 'eMass0eVnmfs'\n",
      "  ... permittivity of free space: 'eps0enmV'\n",
      "Loading analysis codes ... \n",
      "  ... refractive index functions loaded:\n",
      "       Au, Ag, SiO2, ITO, ZnO, H2O, \n",
      "       ethanol, CS2, benzene, toluene, \n",
      "       chloroform, methanol, butanol, \n",
      "       propanol\n",
      "  ... Mie functions loaded\n",
      "  ... CDA functions loaded\n",
      "  ... lattice generation functions loaded:\n",
      "       hexagonal 2D\n",
      "Ready player one.\n"
     ]
    }
   ],
   "source": [
    "%run header"
   ]
  },
  {
   "cell_type": "markdown",
   "metadata": {},
   "source": [
    "Symbolic python for algebra"
   ]
  },
  {
   "cell_type": "code",
   "execution_count": 2,
   "metadata": {
    "ExecuteTime": {
     "end_time": "2017-03-06T18:50:27.656847",
     "start_time": "2017-03-06T18:50:26.819154"
    },
    "collapsed": true
   },
   "outputs": [],
   "source": [
    "import sympy"
   ]
  },
  {
   "cell_type": "markdown",
   "metadata": {},
   "source": [
    "# Hexagonal lattice"
   ]
  },
  {
   "cell_type": "markdown",
   "metadata": {},
   "source": [
    "Numerical, setting the thickness$/d_{cc}$ ratio  \n",
    "Multiply result (last column) by $n_{\\mathrm{med}}\\times d_{cc}$"
   ]
  },
  {
   "cell_type": "code",
   "execution_count": 54,
   "metadata": {
    "ExecuteTime": {
     "end_time": "2017-03-06T19:26:01.701785",
     "start_time": "2017-03-06T19:26:01.670778"
    },
    "collapsed": false
   },
   "outputs": [
    {
     "name": "stdout",
     "output_type": "stream",
     "text": [
      "(0, -1, -2) \t [ 0.         -1.15470054 -2.        ] \t 0.43301270189221924\n",
      "(0, -1, -1) \t [ 0.         -1.15470054 -1.        ] \t 0.6546536707079771\n",
      "(0, -1, 0) \t [ 0.         -1.15470054  0.        ] \t 0.8660254037844385\n",
      "(0, -1, 1) \t [ 0.         -1.15470054  1.        ] \t 0.6546536707079771\n",
      "(0, -1, 2) \t [ 0.         -1.15470054  2.        ] \t 0.43301270189221924\n",
      "(0, 1, -2) \t [ 0.          1.15470054 -2.        ] \t 0.43301270189221924\n",
      "(0, 1, -1) \t [ 0.          1.15470054 -1.        ] \t 0.6546536707079771\n",
      "(0, 1, 0) \t [ 0.          1.15470054  0.        ] \t 0.8660254037844385\n",
      "(0, 1, 1) \t [ 0.          1.15470054  1.        ] \t 0.6546536707079771\n",
      "(0, 1, 2) \t [ 0.          1.15470054  2.        ] \t 0.43301270189221924\n",
      "(1, -1, -2) \t [ 1.         -0.57735027 -2.        ] \t 0.43301270189221924\n",
      "(1, -1, -1) \t [ 1.         -0.57735027 -1.        ] \t 0.6546536707079771\n",
      "(1, -1, 0) \t [ 1.         -0.57735027  0.        ] \t 0.8660254037844385\n",
      "(1, -1, 1) \t [ 1.         -0.57735027  1.        ] \t 0.6546536707079771\n",
      "(1, -1, 2) \t [ 1.         -0.57735027  2.        ] \t 0.43301270189221924\n",
      "(1, 0, -2) \t [ 1.          0.57735027 -2.        ] \t 0.43301270189221924\n",
      "(1, 0, -1) \t [ 1.          0.57735027 -1.        ] \t 0.6546536707079771\n",
      "(1, 0, 0) \t [ 1.          0.57735027  0.        ] \t 0.8660254037844385\n",
      "(1, 0, 1) \t [ 1.          0.57735027  1.        ] \t 0.6546536707079771\n",
      "(1, 0, 2) \t [ 1.          0.57735027  2.        ] \t 0.43301270189221924\n",
      "(1, 1, -2) \t [ 1.          1.73205081 -2.        ] \t 0.35355339059327373\n",
      "(1, 1, -1) \t [ 1.          1.73205081 -1.        ] \t 0.4472135954999578\n",
      "(1, 1, 0) \t [ 1.          1.73205081  0.        ] \t 0.4999999999999999\n",
      "(1, 1, 1) \t [ 1.          1.73205081  1.        ] \t 0.4472135954999578\n",
      "(1, 1, 2) \t [ 1.          1.73205081  2.        ] \t 0.35355339059327373\n"
     ]
    }
   ],
   "source": [
    "th_to_dcc = .5\n",
    "dz = 2*th_to_dcc\n",
    "\n",
    "a1 = np.array([1,0,0])\n",
    "a2 = np.array([-1/2, sqrt(3)/2, 0]).real\n",
    "a3 = np.array([0,0, dz])\n",
    "\n",
    "b1 = np.cross(a2,a3)/( np.dot(a1, np.cross(a2,a3) ) )\n",
    "b2 = np.cross(a3,a1)/( np.dot(a2, np.cross(a3,a1) ) )\n",
    "b3 = np.cross(a1,a2)/( np.dot(a3, np.cross(a1,a2) ) )\n",
    "\n",
    "for i in range(0,2):\n",
    "    for j in range(-1,2):\n",
    "        for k in range(-2,3):\n",
    "            b = i*b1 + j*b2 + k*b3\n",
    "            bmag = sqrt(np.dot(b, b)).real\n",
    "            if ((bmag > 0) & ( (i != 0) | (j != 0)) ):\n",
    "                a = 1/bmag\n",
    "                print((i,j,k), '\\t', b, '\\t', a)"
   ]
  },
  {
   "cell_type": "markdown",
   "metadata": {},
   "source": [
    "Symbolic, using $dz = 2\\times$ thickness$/d_{cc}$"
   ]
  },
  {
   "cell_type": "code",
   "execution_count": 55,
   "metadata": {
    "ExecuteTime": {
     "end_time": "2017-03-06T19:29:20.153089",
     "start_time": "2017-03-06T19:29:20.121804"
    },
    "collapsed": false
   },
   "outputs": [
    {
     "data": {
      "text/plain": [
       "1/sqrt(i**2 + (0.333333333333333*sqrt(3)*i + 2*sqrt(3)*j/3)**2 + k**2/dz**2)"
      ]
     },
     "execution_count": 55,
     "metadata": {},
     "output_type": "execute_result"
    }
   ],
   "source": [
    "DZ = sympy.Symbol('dz', real=True)\n",
    "\n",
    "a1 = sympy.Matrix([1,0,0])\n",
    "a2 = sympy.Matrix([-1/2, sympy.sqrt(3)/2,0])\n",
    "a3 = sympy.Matrix([0,0,DZ])\n",
    "\n",
    "b1 = a2.cross(a3)/( a1.dot( a2.cross(a3) ) )\n",
    "b2 = a3.cross(a1)/( a2.dot( a3.cross(a1) ) )\n",
    "b3 = a1.cross(a2)/( a3.dot( a1.cross(a2) ) )\n",
    "\n",
    "I = sympy.Symbol('i', integer=True)\n",
    "J = sympy.Symbol('j', integer=True)\n",
    "K = sympy.Symbol('k', integer=True)\n",
    "\n",
    "b = I*b1 + J*b2 + K*b3\n",
    "1/sympy.sqrt( b.dot(b) )"
   ]
  },
  {
   "cell_type": "code",
   "execution_count": 46,
   "metadata": {
    "ExecuteTime": {
     "end_time": "2017-03-06T19:24:31.931070",
     "start_time": "2017-03-06T19:24:31.915414"
    },
    "collapsed": false
   },
   "outputs": [
    {
     "data": {
      "text/plain": [
       "(1, 1)"
      ]
     },
     "execution_count": 46,
     "metadata": {},
     "output_type": "execute_result"
    }
   ],
   "source": [
    "sympy.fraction(1,2)"
   ]
  },
  {
   "cell_type": "code",
   "execution_count": null,
   "metadata": {
    "collapsed": true
   },
   "outputs": [],
   "source": []
  }
 ],
 "metadata": {
  "anaconda-cloud": {},
  "hide_input": false,
  "kernelspec": {
   "display_name": "Python [default]",
   "language": "python",
   "name": "python3"
  },
  "language_info": {
   "codemirror_mode": {
    "name": "ipython",
    "version": 3
   },
   "file_extension": ".py",
   "mimetype": "text/x-python",
   "name": "python",
   "nbconvert_exporter": "python",
   "pygments_lexer": "ipython3",
   "version": "3.5.2"
  },
  "toc": {
   "nav_menu": {
    "height": "85px",
    "width": "252px"
   },
   "navigate_menu": true,
   "number_sections": true,
   "sideBar": false,
   "threshold": 4,
   "toc_cell": false,
   "toc_section_display": "block",
   "toc_window_display": false
  }
 },
 "nbformat": 4,
 "nbformat_minor": 1
}
