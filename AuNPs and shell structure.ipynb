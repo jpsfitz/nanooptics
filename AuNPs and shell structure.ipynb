{
 "cells": [
  {
   "cell_type": "markdown",
   "metadata": {},
   "source": [
    "# Table of Contents\n",
    "* [1. Abstract](#1.-Abstract)\n",
    "* [2. Introduction](#2.-Introduction)\n",
    "\t* [2.1 Checklist](#2.1-Checklist)\n",
    "* [3. Experimental and computational details](#3.-Experimental-and-computational-details)\n",
    "\t* [3.1 Parameters](#3.1-Parameters)\n",
    "\t* [3.2 Initialize analysis framework](#3.2-Initialize-analysis-framework)\n",
    "* [4. Experimental analysis](#4.-Experimental-analysis)\n",
    "\t* [4.1 Import experimental spectra](#4.1-Import-experimental-spectra)\n",
    "\t* [4.2 Resonance peak wavelength determination](#4.2-Resonance-peak-wavelength-determination)\n"
   ]
  },
  {
   "cell_type": "markdown",
   "metadata": {},
   "source": [
    "The influence of shell structure on plasmonic resonances in core-shell metal-polymer nanoparticles \n",
    "================================="
   ]
  },
  {
   "cell_type": "markdown",
   "metadata": {},
   "source": [
    "# 1. Abstract"
   ]
  },
  {
   "cell_type": "markdown",
   "metadata": {},
   "source": [
    "Plasmonic nanoparticles can be encapsulated in polymer shells with the capability for externally triggered swelling and collapse behaviors. This behavior can cause a shift in the LSPR peak wavelength due to changes in the scattering contribution and the NP near-field refractive index. It has been predicted that the increase in refractive index due to collapse will influence the resonance more than the change in scattering, resulting in a net red shift of the resonance peak position. Here we demonstrate this rule experimentally, while also showing that the structure and thickness of the shell play critical roles in the magnitude of the peak wavelength shift. "
   ]
  },
  {
   "cell_type": "markdown",
   "metadata": {},
   "source": [
    "# 2. Introduction"
   ]
  },
  {
   "cell_type": "markdown",
   "metadata": {},
   "source": [
    "## 2.1 Checklist"
   ]
  },
  {
   "cell_type": "markdown",
   "metadata": {},
   "source": [
    "- Determine peak position of spectra.\n",
    "- Determine the near-field refractive index (NFRI) from a homogeneous medium fit (no shell).\n",
    "  - Use the NFRI to determine the polymer grafting density."
   ]
  },
  {
   "cell_type": "markdown",
   "metadata": {},
   "source": [
    "# 3. Experimental and computational details"
   ]
  },
  {
   "cell_type": "markdown",
   "metadata": {},
   "source": [
    "## 3.1 Parameters"
   ]
  },
  {
   "cell_type": "markdown",
   "metadata": {},
   "source": [
    "- Synthesis protocols and structural analysis available in previous works\n",
    "- Spherical cores and shells\n",
    "- Core diameters $d_{\\text{core}}=$ ? nm\n",
    "- Shell diameters $d_{\\text{shell}}=$ ?0 nm\n",
    "- Au cores, with refractive index (RI) $n_{\\text{Au}}$ from J&C 1972\n",
    "- Relevant LSPR wavelengths $\\lambda=$ 350-750 nm"
   ]
  },
  {
   "cell_type": "markdown",
   "metadata": {},
   "source": [
    "## 3.2 Initialize analysis framework"
   ]
  },
  {
   "cell_type": "markdown",
   "metadata": {},
   "source": [
    "- Mie theory calculations"
   ]
  },
  {
   "cell_type": "code",
   "execution_count": 1,
   "metadata": {
    "collapsed": false,
    "format": "tab"
   },
   "outputs": [
    {
     "name": "stdout",
     "output_type": "stream",
     "text": [
      "Loading import modules ...\n",
      "Loading analysis codes ... \n",
      "  ... refractive index functions loaded:\n",
      "       Au, Ag, SiO2, ITO, ZnO, H2O, \n",
      "       ethanol, CS2, benzene, toluene, \n",
      "       chloroform, methanol, butanol, \n",
      "       propanol\n",
      "  ... Mie functions loaded\n",
      "  ... local Mie functions loaded\n",
      "Ready player one.\n"
     ]
    }
   ],
   "source": [
    "%run \"header.py\""
   ]
  },
  {
   "cell_type": "code",
   "execution_count": 2,
   "metadata": {
    "collapsed": false,
    "format": "tab"
   },
   "outputs": [
    {
     "name": "stdout",
     "output_type": "stream",
     "text": [
      "Initializing cluster ...\n",
      "   Client variable 'kernels'\n",
      "   Cluster Direct View variable 'cluster'\n",
      "   Variable 'nKernels' = 7\n",
      "importing mie on engine(s)\n",
      "importing mie_local on engine(s)\n"
     ]
    }
   ],
   "source": [
    "%run \"header_parallel.py\""
   ]
  },
  {
   "cell_type": "markdown",
   "metadata": {},
   "source": [
    "# 4. Experimental analysis"
   ]
  },
  {
   "cell_type": "markdown",
   "metadata": {},
   "source": [
    "## 4.1 Import experimental spectra"
   ]
  },
  {
   "cell_type": "code",
   "execution_count": 191,
   "metadata": {
    "collapsed": false,
    "format": "tab"
   },
   "outputs": [
    {
     "name": "stdout",
     "output_type": "stream",
     "text": [
      "Import and organize data\n",
      "========================\n",
      "Importing data in folder data_20160905 ...\n",
      "  * Au-linPNIPAM-long-hydr-radius.dat\n",
      "  * Au-linPNIPAM-long.dat\n",
      "  * Au-linPNIPAM-medium-hydr-radius.dat\n",
      "  * Au-linPNIPAM-medium.dat\n",
      "  * Au-linPNIPAM-short-hydr-radius.dat\n",
      "  * Au-linPNIPAM-short.dat\n",
      "  * AW5.txt\n",
      "Oganizing data ...\n",
      "  * organized as [ wl-nm, abs, temp, Rh, sample-# ]\n",
      "  * sample 0 = thick shell, 1 = medium, 2 = thin\n",
      "  * core alone sorted separately\n",
      "Done.\n"
     ]
    }
   ],
   "source": [
    "print(\"Import and organize data\")\n",
    "print(\"========================\")\n",
    "folderName = 'data_20160905'\n",
    "fileNames = []\n",
    "print(\"Importing data in folder\",folderName,\"...\")\n",
    "for file in os.listdir(folderName):\n",
    "    #if file.endswith('.dat'): \n",
    "        fileNames.append(file)\n",
    "spectraNames = []\n",
    "spectraTemps = []\n",
    "def importData(fileName):\n",
    "    print(\"  *\",fileName)\n",
    "    headerLines = 0\n",
    "    if (fileName == 'Au-linPNIPAM-long-hydr-radius.dat'\n",
    "        or fileName == 'Au-linPNIPAM-medium-hydr-radius.dat'\n",
    "        or fileName == 'Au-linPNIPAM-short-hydr-radius.dat'): \n",
    "        headerLines = 3\n",
    "    elif (fileName == 'Au-linPNIPAM-long.dat'\n",
    "          or fileName == 'Au-linPNIPAM-medium.dat'\n",
    "          or fileName == 'Au-linPNIPAM-short.dat'): \n",
    "        headerLines = 2\n",
    "        columnNames = np.genfromtxt(folderName+'/'+fileName, delimiter='\\t', dtype=str, comments='\\\\', skip_header=0, max_rows=1)[1:-1]\n",
    "        spectraNames.append(columnNames.tolist())\n",
    "        temps = []\n",
    "        for name in columnNames:\n",
    "            temps.append(float(name[-5:-3]))\n",
    "        spectraTemps.append(temps)\n",
    "        #print(columnNames)\n",
    "    else: headerLines = 2\n",
    "    tempData = np.genfromtxt(folderName+'/'+fileName, delimiter='\\t', skip_header=headerLines)\n",
    "    return tempData\n",
    "data = list(map(importData,fileNames))\n",
    "\n",
    "# Last column indicates sample shell thickness:\n",
    "# 0 = long (thick)\n",
    "# 1 = medium\n",
    "# 2 = short (thin)\n",
    "print(\"Oganizing data ...\")\n",
    "dataList = []\n",
    "for i in range(3):\n",
    "    dlsData = data[2*i]\n",
    "    spectraData0 = data[2*i+1]\n",
    "    temps = spectraTemps[i]\n",
    "    temps[0] = temps[0] + 1\n",
    "    rh = interpolate.interp1d(dlsData[:,0], dlsData[:,1], kind=\"cubic\")\n",
    "    hydroRs = list(map(rh, temps))\n",
    "    temps[0] = temps[0] - 1\n",
    "    for ii in range(len(temps)):\n",
    "        for iii in range(len(spectraData0)):\n",
    "            dataPoint = [ spectraData0[iii,0], spectraData0[iii,ii+1], temps[ii], hydroRs[ii].tolist(), i ]\n",
    "            dataList.append(dataPoint)\n",
    "dataArray = np.asarray(dataList)\n",
    "print(\"  * organized as [ wl-nm, abs, temp, Rh, sample-# ]\")\n",
    "print(\"  * sample 0 = thick shell, 1 = medium, 2 = thin\")\n",
    "\n",
    "# Au cores only\n",
    "spectrumCore = data[-1]\n",
    "print(\"  * core alone sorted separately\")\n",
    "\n",
    "print(\"Done.\")"
   ]
  },
  {
   "cell_type": "code",
   "execution_count": 192,
   "metadata": {
    "collapsed": false,
    "format": "tab"
   },
   "outputs": [
    {
     "name": "stdout",
     "output_type": "stream",
     "text": [
      "Sample spectrum\n",
      "===============\n",
      "Exported to:\n",
      " graphics_sample-spectrum_20160905.svg\n"
     ]
    },
    {
     "data": {
      "image/png": "[encoded data removed]",
      "text/plain": [
       "<matplotlib.figure.Figure at 0x2330a35ebe0>"
      ]
     },
     "metadata": {},
     "output_type": "display_data"
    }
   ],
   "source": [
    "print('Sample spectrum')\n",
    "print('===============')\n",
    "def plotAndSave ():   \n",
    "    ## Input data\n",
    "    sampleNum = 0\n",
    "    temp = spectraTemps[sampleNum][1]\n",
    "    wlMin, wlMax = 300, 850\n",
    "    \n",
    "    sortByShell = dataArray[:,-1] == sampleNum\n",
    "    plotArray = dataArray[sortByShell]\n",
    "    sortByTemp = plotArray[:,-3] == temp\n",
    "    plotArray = plotArray[sortByTemp]\n",
    "    wlRange = plotArray[:,0] >= wlMin\n",
    "    plotArray = plotArray[wlRange]\n",
    "    wlRange = plotArray[:,0] <= wlMax\n",
    "    plotArray = plotArray[wlRange]\n",
    "    x, y = plotArray[:,0], plotArray[:,1]\n",
    "    y = y/np.amax(y)\n",
    "    xCore, yCore = spectrumCore[100:,0], spectrumCore[100:,1]\n",
    "    yCore = yCore*np.amax(y)/np.amax(yCore)\n",
    "    xLimits = [np.amin(x), np.amax(x)]\n",
    "    yLimits = [np.amin(y)-np.amax(y)*.05, np.amax(y)*1.05]\n",
    "    dx, dy = abs(xLimits[1]-xLimits[0]), abs(yLimits[1]-yLimits[0])\n",
    "    \n",
    "    ## Specific format options\n",
    "    pylab.plot(xCore, yCore, color='red', linewidth=2, label=\"AW5\")\n",
    "    pylab.plot(x, y, color='black', linewidth=2, label=\"+PNIPAM\")\n",
    "    pylab.xlabel(\"Wavelength (nm)\")\n",
    "    pylab.ylabel(\"Absorbance (Normalized)\")\n",
    "    figText = (['Thick','Med.','Thin'][sampleNum]+' shell'+'\\n'\n",
    "        +'$T=$'+str(temp)+'$^{\\circ}$C'+'\\n'\n",
    "        + '$R_h=$'+str(int(plotArray[0][-2]))+' nm')\n",
    "    pylab.text(xLimits[0]+0.025*dx, yLimits[0]+0.025*dy, figText, verticalalignment='bottom', horizontalalignment='left')\n",
    "    pylab.legend(loc='upper right', fontsize=12)\n",
    "    \n",
    "    ## General format options\n",
    "    aspectRatio = dx/dy\n",
    "    figWidthcm = 8.9\n",
    "    figSizein = [figWidthcm/2.54, aspectRatio*figWidthcm/2.54]\n",
    "    fig = pylab.figure(1, figsize=(figSizein[0],figSizein[1]))\n",
    "    pylab.subplot(111)\n",
    "    pylab.rcParams.update({'font.size': 14})\n",
    "    pylab.axes().set_aspect(aspectRatio)\n",
    "    pylab.xlim(xLimits[0], xLimits[1])\n",
    "    pylab.ylim(yLimits[0], yLimits[1])\n",
    "    pylab.locator_params(nbins=7)\n",
    "    \n",
    "    ## Save and display\n",
    "    timestamp = ('{:%Y%m%d}'.format(datetime.datetime.now()))\n",
    "    exportFormat = '.svg'\n",
    "    filename = \"graphics_\"+\"sample-spectrum_\" + timestamp + exportFormat\n",
    "    pylab.savefig(filename, transparent=True)\n",
    "    print(\"Exported to:\\n\", filename)\n",
    "    pylab.show()\n",
    "    \n",
    "plotAndSave() \n"
   ]
  },
  {
   "cell_type": "code",
   "execution_count": 193,
   "metadata": {
    "collapsed": false,
    "format": "tab"
   },
   "outputs": [
    {
     "name": "stdout",
     "output_type": "stream",
     "text": [
      "Sample spectrum\n",
      "===============\n",
      "Exported to:\n",
      " graphics_sample-spectrum_20160905.svg\n"
     ]
    },
    {
     "data": {
      "image/png": "[encoded data removed]",
      "text/plain": [
       "<matplotlib.figure.Figure at 0x2330a397080>"
      ]
     },
     "metadata": {},
     "output_type": "display_data"
    }
   ],
   "source": [
    "print('Sample spectrum')\n",
    "print('===============')\n",
    "def plotAndSave ():   \n",
    "    ## Input data\n",
    "    sampleNum = 2\n",
    "    temp = spectraTemps[sampleNum][-1]\n",
    "    wlMin, wlMax = 500, 550\n",
    "    \n",
    "    sortByShell = dataArray[:,-1] == sampleNum\n",
    "    plotArray = dataArray[sortByShell]\n",
    "    sortByTemp = plotArray[:,-3] == temp\n",
    "    plotArray = plotArray[sortByTemp]\n",
    "    wlRange = plotArray[:,0] >= wlMin\n",
    "    plotArray = plotArray[wlRange]\n",
    "    wlRange = plotArray[:,0] <= wlMax\n",
    "    plotArray = plotArray[wlRange]\n",
    "    x, y = plotArray[:,0], plotArray[:,1]\n",
    "    y = y/np.amax(y)\n",
    "    xCore, yCore = spectrumCore[100:,0], spectrumCore[100:,1]\n",
    "    yCore = yCore*np.amax(y)/np.amax(yCore)\n",
    "    xLimits = [np.amin(x), np.amax(x)]\n",
    "    yLimits = [np.amin(y)-np.amax(y)*.05, np.amax(y)*1.05]\n",
    "    dx, dy = abs(xLimits[1]-xLimits[0]), abs(yLimits[1]-yLimits[0])\n",
    "    \n",
    "    ## Specific format options\n",
    "    pylab.plot(xCore, yCore, color='red', linewidth=2, label=\"AW5\")\n",
    "    pylab.plot(x, y, color='black', linewidth=2, label=\"+PNIPAM\")\n",
    "    pylab.xlabel(\"Wavelength (nm)\")\n",
    "    pylab.ylabel(\"Absorbance (Normalized)\")\n",
    "    figText = (['Thick','Med.','Thin'][sampleNum]+' shell'+'\\n'\n",
    "        +'$T=$'+str(temp)+'$^{\\circ}$C'+'\\n'\n",
    "        + '$R_h=$'+str(int(plotArray[0][-2]))+' nm')\n",
    "    pylab.text(xLimits[0]+0.025*dx, yLimits[0]+0.025*dy, figText, verticalalignment='bottom', horizontalalignment='left')\n",
    "    pylab.legend(loc='lower right', fontsize=12)\n",
    "    \n",
    "    ## General format options\n",
    "    aspectRatio = dx/dy\n",
    "    figWidthcm = 8.9\n",
    "    figSizein = [figWidthcm/2.54, aspectRatio*figWidthcm/2.54]\n",
    "    fig = pylab.figure(1, figsize=(figSizein[0],figSizein[1]))\n",
    "    pylab.subplot(111)\n",
    "    pylab.rcParams.update({'font.size': 14})\n",
    "    pylab.axes().set_aspect(aspectRatio)\n",
    "    pylab.xlim(xLimits[0], xLimits[1])\n",
    "    pylab.ylim(yLimits[0], yLimits[1])\n",
    "    pylab.locator_params(nbins=7)\n",
    "    \n",
    "    ## Save and display\n",
    "    timestamp = ('{:%Y%m%d}'.format(datetime.datetime.now()))\n",
    "    exportFormat = '.svg'\n",
    "    filename = \"graphics_\"+\"sample-spectrum_\" + timestamp + exportFormat\n",
    "    pylab.savefig(filename, transparent=True)\n",
    "    print(\"Exported to:\\n\", filename)\n",
    "    pylab.show()\n",
    "    \n",
    "plotAndSave() \n"
   ]
  },
  {
   "cell_type": "markdown",
   "metadata": {},
   "source": [
    "## 4.2 Resonance peak wavelength determination"
   ]
  },
  {
   "cell_type": "code",
   "execution_count": 201,
   "metadata": {
    "collapsed": false,
    "format": "tab"
   },
   "outputs": [
    {
     "name": "stdout",
     "output_type": "stream",
     "text": [
      "LSPR analysis\n",
      "=============\n",
      "Peak detection\n",
      "Bare core LSPR peak at 519.7  nm\n",
      "Shell peaks\n",
      "  * format: [ wl-nm, temp-C, Rh-nm, sample-# ]\n",
      "  * min LSPR peak at 523.4 nm\n",
      "  * max LSPR peak at 526.3 nm\n"
     ]
    }
   ],
   "source": [
    "print(\"LSPR analysis\")\n",
    "print(\"=============\")\n",
    "print(\"Peak detection\")\n",
    "threshold = 0.25\n",
    "wlMinnm, wlMaxnm = 400, 600\n",
    "\n",
    "# Core only\n",
    "wlPeakCorenm = 0\n",
    "wlRange = spectrumCore[:,0] >= wlMinnm\n",
    "dataSubArray = spectrumCore[wlRange]\n",
    "wlRange = spectrumCore[:,0] <= wlMaxnm\n",
    "dataSubArray = spectrumCore[wlRange]\n",
    "if dataSubArray.size > 0:\n",
    "    x, y = dataSubArray[:,0], dataSubArray[:,1]\n",
    "    base = peakutils.baseline(y,2)\n",
    "    yCorr = y - base\n",
    "    indexes = peakutils.indexes(y, thres=threshold, min_dist=10)\n",
    "    indexesCorr = peakutils.indexes(yCorr, thres=threshold, min_dist=10)\n",
    "    if indexes.size > 0: \n",
    "        if indexes.size > 1: indexes = [indexes[-1]]\n",
    "        wlPeaknm = peakutils.interpolate(x, y, ind=indexes)\n",
    "        wlPeakCorenm = wlPeaknm[0]\n",
    "        print(\"Bare core LSPR peak at\", format(wlPeakCorenm,'.1f'), \" nm\")\n",
    "\n",
    "# Shell\n",
    "lsprPeakList = []\n",
    "for sampleNum in range(3):\n",
    "    for tempC in spectraTemps[sampleNum]:\n",
    "        sortByShell = dataArray[:,-1] == sampleNum\n",
    "        dataSubArray = dataArray[sortByShell]\n",
    "        sortByTemp = dataSubArray[:,-3] == tempC\n",
    "        dataSubArray = dataSubArray[sortByTemp]\n",
    "        wlRange = dataSubArray[:,0] >= wlMinnm\n",
    "        dataSubArray = dataSubArray[wlRange]\n",
    "        wlRange = dataSubArray[:,0] <= wlMaxnm\n",
    "        dataSubArray = dataSubArray[wlRange]\n",
    "        Rh = dataSubArray[0][-2]\n",
    "        if dataSubArray.size > 0:\n",
    "            x, y = dataSubArray[:,0], dataSubArray[:,1]\n",
    "            base = peakutils.baseline(y,2)\n",
    "            yCorr = y - base\n",
    "            indexes = peakutils.indexes(y, thres=threshold, min_dist=10)\n",
    "            indexesCorr = peakutils.indexes(yCorr, thres=threshold, min_dist=10)\n",
    "            if indexes.size > 0: \n",
    "                if indexes.size > 1: indexes = [indexes[-1]]\n",
    "                wlPeaknm = peakutils.interpolate(x, y, ind=indexes)\n",
    "                lsprPeakList.append([wlPeaknm[0], tempC, Rh, sampleNum])\n",
    "lsprPeakArray = np.asarray(lsprPeakList)\n",
    "print(\"Shell peaks\")\n",
    "print(\"  * format: [ wl-nm, temp-C, Rh-nm, sample-# ]\")\n",
    "print(\"  * min LSPR peak at\",format(np.amin(lsprPeakArray[:,0]),'.1f'),\"nm\")\n",
    "print(\"  * max LSPR peak at\",format(np.amax(lsprPeakArray[:,0]),'.1f'),\"nm\")"
   ]
  },
  {
   "cell_type": "code",
   "execution_count": 202,
   "metadata": {
    "collapsed": false,
    "format": "tab"
   },
   "outputs": [
    {
     "name": "stdout",
     "output_type": "stream",
     "text": [
      "LSPR peak wavelength vs hydrodynamic radius\n",
      "===============\n",
      "Exported to:\n",
      " graphics_wl-LSPR-vs-Rh_20160905.svg\n"
     ]
    },
    {
     "data": {
      "image/png": "[encoded data removed]",
      "text/plain": [
       "<matplotlib.figure.Figure at 0x2330a4383c8>"
      ]
     },
     "metadata": {},
     "output_type": "display_data"
    }
   ],
   "source": [
    "print('LSPR peak wavelength vs hydrodynamic radius')\n",
    "print('===============')\n",
    "def plotAndSave ():   \n",
    "    ## Input data\n",
    "    plotArray = lsprPeakArray[:,0:3:2]\n",
    "    x, y = plotArray[:,1], plotArray[:,0]\n",
    "    x0, y0 = [7.5], [wlPeakCorenm]\n",
    "    xLimits = [np.amin(x), np.amax(x)]\n",
    "    xLimits[0] = min([xLimits[0],x0[0]])\n",
    "    yLimits = [np.amin(y), np.amax(y)]\n",
    "    yLimits[0] = min([yLimits[0],y0[0]])\n",
    "    dx, dy = abs(xLimits[1]-xLimits[0]), abs(yLimits[1]-yLimits[0])\n",
    "    x1, y1 = x[:len(spectraTemps[0])], y[:len(spectraTemps[0])]\n",
    "    x2, y2 = x[len(spectraTemps[0])+1:len(spectraTemps[0])+len(spectraTemps[1])], y[len(spectraTemps[0])+1:len(spectraTemps[0])+len(spectraTemps[1])]\n",
    "    x3, y3 = x[len(spectraTemps[0])+len(spectraTemps[1])+1:], y[len(spectraTemps[0])+len(spectraTemps[1])+1:]\n",
    "    \n",
    "    ## Specific format options\n",
    "    pylab.plot(x0, y0, 'o', color='black', label=\"AuNP\")\n",
    "    pylab.plot(x1, y1, 'o', color='red', label=\"Thick\")\n",
    "    pylab.plot(x2, y2, 'o', color='blue', label=\"Med.\")\n",
    "    pylab.plot(x3, y3, 'o', color='green', label=\"Thin\")\n",
    "    pylab.xlabel(\"Hydrodynamic radius (nm)\")\n",
    "    pylab.ylabel(\"LSPR peak wavelength (nm)\")\n",
    "    pylab.legend(loc='lower right', fontsize=12)\n",
    "    \n",
    "    ## General format options\n",
    "    aspectRatio = dx/dy\n",
    "    figWidthcm = 8.9\n",
    "    figSizein = [figWidthcm/2.54, aspectRatio*figWidthcm/2.54]\n",
    "    fig = pylab.figure(1, figsize=(figSizein[0],figSizein[1]))\n",
    "    pylab.subplot(111)\n",
    "    pylab.rcParams.update({'font.size': 14})\n",
    "    pylab.axes().set_aspect(aspectRatio)\n",
    "    pylab.xlim(xLimits[0]-0.05*dx, xLimits[1]+0.05*dx)\n",
    "    pylab.ylim(yLimits[0]-0.05*dy, yLimits[1]+0.05*dy)\n",
    "    pylab.locator_params(nbins=7)\n",
    "    \n",
    "    ## Save and display\n",
    "    timestamp = ('{:%Y%m%d}'.format(datetime.datetime.now()))\n",
    "    exportFormat = '.svg'\n",
    "    filename = \"graphics_\"+\"wl-LSPR-vs-Rh_\" + timestamp + exportFormat\n",
    "    pylab.savefig(filename, transparent=True)\n",
    "    print(\"Exported to:\\n\", filename)\n",
    "    pylab.show()\n",
    "    \n",
    "plotAndSave() \n"
   ]
  },
  {
   "cell_type": "code",
   "execution_count": 199,
   "metadata": {
    "collapsed": false,
    "format": "tab"
   },
   "outputs": [
    {
     "name": "stdout",
     "output_type": "stream",
     "text": [
      "LSPR peak wavelength vs temperature\n",
      "===============\n",
      "Exported to:\n",
      " graphics_wl-LSPR-vs-temp_20160905.svg\n"
     ]
    },
    {
     "data": {
      "image/png": "[encoded data removed]",
      "text/plain": [
       "<matplotlib.figure.Figure at 0x2330787a320>"
      ]
     },
     "metadata": {},
     "output_type": "display_data"
    }
   ],
   "source": [
    "print('LSPR peak wavelength vs temperature')\n",
    "print('===============')\n",
    "def plotAndSave ():   \n",
    "    ## Input data\n",
    "    plotArray = lsprPeakArray[:,0:2]\n",
    "    x, y = plotArray[:,1], plotArray[:,0]\n",
    "    xLimits = [np.amin(x), np.amax(x)]\n",
    "    yLimits = [np.amin(y), np.amax(y)]\n",
    "    dx, dy = abs(xLimits[1]-xLimits[0]), abs(yLimits[1]-yLimits[0])\n",
    "    x1, y1 = x[:len(spectraTemps[0])], y[:len(spectraTemps[0])]\n",
    "    x2, y2 = x[len(spectraTemps[0])+1:len(spectraTemps[0])+len(spectraTemps[1])], y[len(spectraTemps[0])+1:len(spectraTemps[0])+len(spectraTemps[1])]\n",
    "    x3, y3 = x[len(spectraTemps[0])+len(spectraTemps[1])+1:], y[len(spectraTemps[0])+len(spectraTemps[1])+1:]\n",
    "    \n",
    "    ## Specific format options\n",
    "    pylab.plot(x1, y1, 'o', color='red', label=\"Thick\")\n",
    "    pylab.plot(x2, y2, 'o', color='blue', label=\"Med.\")\n",
    "    pylab.plot(x3, y3, 'o', color='green', label=\"Thin\")\n",
    "    pylab.xlabel(\"Temperature ($^{\\circ}$C)\")\n",
    "    pylab.ylabel(\"LSPR peak wavelength (nm)\")\n",
    "    pylab.legend(loc='lower right', fontsize=12)\n",
    "    \n",
    "    ## General format options\n",
    "    aspectRatio = dx/dy\n",
    "    figWidthcm = 8.9\n",
    "    figSizein = [figWidthcm/2.54, aspectRatio*figWidthcm/2.54]\n",
    "    fig = pylab.figure(1, figsize=(figSizein[0],figSizein[1]))\n",
    "    pylab.subplot(111)\n",
    "    pylab.rcParams.update({'font.size': 14})\n",
    "    pylab.axes().set_aspect(aspectRatio)\n",
    "    pylab.xlim(xLimits[0]-0.05*dx, xLimits[1]+0.05*dx)\n",
    "    pylab.ylim(yLimits[0]-0.05*dy, yLimits[1]+0.05*dy)\n",
    "    pylab.locator_params(nbins=7)\n",
    "    \n",
    "    ## Save and display\n",
    "    timestamp = ('{:%Y%m%d}'.format(datetime.datetime.now()))\n",
    "    exportFormat = '.svg'\n",
    "    filename = \"graphics_\"+\"wl-LSPR-vs-temp_\" + timestamp + exportFormat\n",
    "    pylab.savefig(filename, transparent=True)\n",
    "    print(\"Exported to:\\n\", filename)\n",
    "    pylab.show()\n",
    "    \n",
    "plotAndSave() \n"
   ]
  },
  {
   "cell_type": "code",
   "execution_count": 196,
   "metadata": {
    "collapsed": false,
    "format": "tab"
   },
   "outputs": [
    {
     "name": "stdout",
     "output_type": "stream",
     "text": [
      "Temperature vs hydrodynamic radius\n",
      "===============\n",
      "Exported to:\n",
      " graphics_Rh-vs-Temp_20160905.svg\n"
     ]
    },
    {
     "data": {
      "image/png": "[encoded data removed]",
      "text/plain": [
       "<matplotlib.figure.Figure at 0x2330ba2d7b8>"
      ]
     },
     "metadata": {},
     "output_type": "display_data"
    }
   ],
   "source": [
    "print('Temperature vs hydrodynamic radius')\n",
    "print('===============')\n",
    "def plotAndSave ():   \n",
    "    ## Input data\n",
    "    plotArray = lsprPeakArray[:,1:3]\n",
    "    x, y = plotArray[:,0], plotArray[:,1]\n",
    "    xLimits = [np.amin(x), np.amax(x)]\n",
    "    yLimits = [np.amin(y), np.amax(y)]\n",
    "    dx, dy = abs(xLimits[1]-xLimits[0]), abs(yLimits[1]-yLimits[0])\n",
    "    x1, y1 = x[:len(spectraTemps[0])], y[:len(spectraTemps[0])]\n",
    "    x2, y2 = x[len(spectraTemps[0])+1:len(spectraTemps[0])+len(spectraTemps[1])], y[len(spectraTemps[0])+1:len(spectraTemps[0])+len(spectraTemps[1])]\n",
    "    x3, y3 = x[len(spectraTemps[0])+len(spectraTemps[1])+1:], y[len(spectraTemps[0])+len(spectraTemps[1])+1:]\n",
    "    \n",
    "    ## Specific format options\n",
    "    pylab.plot(x1, y1, 'o', color='red', label=\"Thick\")\n",
    "    pylab.plot(x2, y2, 'o', color='blue', label=\"Med.\")\n",
    "    pylab.plot(x3, y3, 'o', color='green', label=\"Thin\")\n",
    "    pylab.xlabel(\"Temperature ($^{\\circ}$C)\")\n",
    "    pylab.ylabel(\"Hydrodynamic radius (nm)\")\n",
    "    pylab.legend(loc='upper right', fontsize=12)\n",
    "    \n",
    "    ## General format options\n",
    "    aspectRatio = dx/dy\n",
    "    figWidthcm = 8.9\n",
    "    figSizein = [figWidthcm/2.54, aspectRatio*figWidthcm/2.54]\n",
    "    fig = pylab.figure(1, figsize=(figSizein[0],figSizein[1]))\n",
    "    pylab.subplot(111)\n",
    "    pylab.rcParams.update({'font.size': 14})\n",
    "    pylab.axes().set_aspect(aspectRatio)\n",
    "    pylab.xlim(xLimits[0]-0.05*dx, xLimits[1]+0.05*dx)\n",
    "    pylab.ylim(yLimits[0]-0.05*dy, yLimits[1]+0.05*dy)\n",
    "    pylab.locator_params(nbins=7)\n",
    "    \n",
    "    ## Save and display\n",
    "    timestamp = ('{:%Y%m%d}'.format(datetime.datetime.now()))\n",
    "    exportFormat = '.svg'\n",
    "    filename = \"graphics_\"+\"Rh-vs-Temp_\" + timestamp + exportFormat\n",
    "    pylab.savefig(filename, transparent=True)\n",
    "    print(\"Exported to:\\n\", filename)\n",
    "    pylab.show()\n",
    "    \n",
    "plotAndSave() \n"
   ]
  },
  {
   "cell_type": "code",
   "execution_count": null,
   "metadata": {
    "collapsed": true
   },
   "outputs": [],
   "source": []
  }
 ],
 "metadata": {
  "anaconda-cloud": {},
  "kernelspec": {
   "display_name": "Python [Root]",
   "language": "python",
   "name": "Python [Root]"
  },
  "language_info": {
   "codemirror_mode": {
    "name": "ipython",
    "version": 3
   },
   "file_extension": ".py",
   "mimetype": "text/x-python",
   "name": "python",
   "nbconvert_exporter": "python",
   "pygments_lexer": "ipython3",
   "version": "3.5.1"
  }
 },
 "nbformat": 4,
 "nbformat_minor": 0
}
