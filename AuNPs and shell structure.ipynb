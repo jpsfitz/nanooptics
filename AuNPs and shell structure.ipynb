{
 "cells": [
  {
   "cell_type": "markdown",
   "metadata": {},
   "source": [
    "# Table of Contents\n",
    "* [1. Abstract](#1.-Abstract)\n",
    "* [2. Introduction](#2.-Introduction)\n",
    "\t* [2.1 Checklist](#2.1-Checklist)\n",
    "* [3. Experimental and computational details](#3.-Experimental-and-computational-details)\n",
    "\t* [3.1 Parameters](#3.1-Parameters)\n",
    "\t* [3.2 Initialize analysis framework](#3.2-Initialize-analysis-framework)\n",
    "* [4. Experimental analysis](#4.-Experimental-analysis)\n",
    "\t* [4.1 Import experimental spectra](#4.1-Import-experimental-spectra)\n",
    "\t\t* [4.1.1 Import data files and organize](#4.1.1-Import-data-files-and-organize)\n",
    "\t\t* [4.1.2 Plot a sample spectrum to make sure import worked](#4.1.2-Plot-a-sample-spectrum-to-make-sure-import-worked)\n",
    "\t* [4.2 Resonance peak wavelength determination](#4.2-Resonance-peak-wavelength-determination)\n",
    "\t\t* [4.2.1 Peak fitting analysis code](#4.2.1-Peak-fitting-analysis-code)\n",
    "\t\t* [4.2.2 Plot of LSPR peak wavelength position vs tempearture](#4.2.2-Plot-of-LSPR-peak-wavelength-position-vs-tempearture)\n",
    "\t\t* [4.2.3 Plot of LSPR peak wavelength shift vs temperature](#4.2.3-Plot-of-LSPR-peak-wavelength-shift-vs-temperature)\n",
    "\t\t* [4.2.4 Plots of hydrodynamic radius and relative hydrodynamics vs temperature](#4.2.4-Plots-of-hydrodynamic-radius-and-relative-hydrodynamics-vs-temperature)\n",
    "\t\t* [4.2.5 Plot of LSPR peak wavelength vs hydrodynamic radius](#4.2.5-Plot-of-LSPR-peak-wavelength-vs-hydrodynamic-radius)\n",
    "\t\t* [4.2.6 Plots of LSPR peak shift vs relative hydrodynamic radius](#4.2.6-Plots-of-LSPR-peak-shift-vs-relative-hydrodynamic-radius)\n",
    "\t* [4.3 Mie theory for peak LSPR of Au NP in homogeneous medium](#4.3-Mie-theory-for-peak-LSPR-of-Au-NP-in-homogeneous-medium)\n"
   ]
  },
  {
   "cell_type": "markdown",
   "metadata": {},
   "source": [
    "The influence of shell structure on plasmonic resonances in core-shell metal-polymer nanoparticles \n",
    "================================="
   ]
  },
  {
   "cell_type": "markdown",
   "metadata": {},
   "source": [
    "# 1. Abstract"
   ]
  },
  {
   "cell_type": "markdown",
   "metadata": {},
   "source": [
    "Plasmonic nanoparticles can be encapsulated in polymer shells with the capability for externally triggered swelling and collapse behaviors. This behavior can cause a shift in the LSPR peak wavelength due to changes in the scattering contribution and the NP near-field refractive index. It has been predicted that the increase in refractive index due to collapse will influence the resonance more than the change in scattering, resulting in a net red shift of the resonance peak position. Here we demonstrate this rule experimentally, while also showing that the structure and thickness of the shell play critical roles in the magnitude of the peak wavelength shift. "
   ]
  },
  {
   "cell_type": "markdown",
   "metadata": {},
   "source": [
    "# 2. Introduction"
   ]
  },
  {
   "cell_type": "markdown",
   "metadata": {},
   "source": [
    "## 2.1 Checklist"
   ]
  },
  {
   "cell_type": "markdown",
   "metadata": {},
   "source": [
    "- Determine peak position of spectra.\n",
    "- Determine the near-field refractive index (NFRI) from a homogeneous medium fit (no shell).\n",
    "  - Use the NFRI to determine the polymer grafting density."
   ]
  },
  {
   "cell_type": "markdown",
   "metadata": {},
   "source": [
    "# 3. Experimental and computational details"
   ]
  },
  {
   "cell_type": "markdown",
   "metadata": {},
   "source": [
    "## 3.1 Parameters"
   ]
  },
  {
   "cell_type": "markdown",
   "metadata": {},
   "source": [
    "- Synthesis protocols and structural analysis available in previous works\n",
    "- Spherical cores and shells\n",
    "- Core diameters $d_{\\text{core}}=$ 18? nm\n",
    "- Shell diameters $d_{\\text{shell}}=$ 20-60 nm\n",
    "- Au cores, with refractive index (RI) $n_{\\text{Au}}$ from J&C 1972\n",
    "- Relevant LSPR peak wavelengths $\\lambda=$ 500-550 nm"
   ]
  },
  {
   "cell_type": "markdown",
   "metadata": {},
   "source": [
    "## 3.2 Initialize analysis framework"
   ]
  },
  {
   "cell_type": "code",
   "execution_count": 1,
   "metadata": {
    "collapsed": false,
    "format": "tab"
   },
   "outputs": [
    {
     "name": "stdout",
     "output_type": "stream",
     "text": [
      "Loading import modules ...\n",
      "Loading analysis codes ... \n",
      "  ... refractive index functions loaded:\n",
      "       Au, Ag, SiO2, ITO, ZnO, H2O, \n",
      "       ethanol, CS2, benzene, toluene, \n",
      "       chloroform, methanol, butanol, \n",
      "       propanol\n",
      "  ... Mie functions loaded\n",
      "  ... local Mie functions loaded\n",
      "Ready player one.\n"
     ]
    }
   ],
   "source": [
    "%run \"header.py\""
   ]
  },
  {
   "cell_type": "code",
   "execution_count": 2,
   "metadata": {
    "collapsed": false,
    "format": "tab"
   },
   "outputs": [
    {
     "name": "stdout",
     "output_type": "stream",
     "text": [
      "Initializing cluster ...\n",
      "   Client variable 'kernels'\n",
      "   Cluster Direct View variable 'cluster'\n",
      "   Variable 'nKernels' = 2\n",
      "importing mie on engine(s)\n",
      "importing mie_local on engine(s)\n"
     ]
    }
   ],
   "source": [
    "%run \"header_parallel.py\""
   ]
  },
  {
   "cell_type": "markdown",
   "metadata": {},
   "source": [
    "# 4. Experimental analysis"
   ]
  },
  {
   "cell_type": "markdown",
   "metadata": {},
   "source": [
    "## 4.1 Import experimental spectra"
   ]
  },
  {
   "cell_type": "markdown",
   "metadata": {},
   "source": [
    "### 4.1.1 Import data files and organize"
   ]
  },
  {
   "cell_type": "code",
   "execution_count": 246,
   "metadata": {
    "collapsed": false,
    "format": "tab"
   },
   "outputs": [
    {
     "name": "stdout",
     "output_type": "stream",
     "text": [
      "Import and organize data\n",
      "========================\n",
      "Importing data in folder data_20160905 ...\n",
      "  * Au-linPNIPAM-long-hydr-radius.dat\n",
      "  * Au-linPNIPAM-long.dat\n",
      "  * Au-linPNIPAM-medium-hydr-radius.dat\n",
      "  * Au-linPNIPAM-medium.dat\n",
      "  * Au-linPNIPAM-short-hydr-radius.dat\n",
      "  * Au-linPNIPAM-short.dat\n",
      "  * AW5.txt\n",
      "Oganizing data ...\n",
      "  * extrapolate hydrodynamic radius from DLS to UV-Vis temps\n",
      "  * organized as [ wl-nm, abs, temp, Rh, sample-# ]\n",
      "  * sample 0 = thick shell, 1 = medium, 2 = thin\n",
      "  * core alone sorted separately\n",
      "Done.\n"
     ]
    }
   ],
   "source": [
    "print(\"Import and organize data\")\n",
    "print(\"========================\")\n",
    "folderName = 'data_20160905'\n",
    "fileNames = []\n",
    "print(\"Importing data in folder\",folderName,\"...\")\n",
    "for file in os.listdir(folderName):\n",
    "    #if file.endswith('.dat'): \n",
    "        fileNames.append(file)\n",
    "spectraNames = []\n",
    "spectraTemps = []\n",
    "def importData(fileName):\n",
    "    print(\"  *\",fileName)\n",
    "    headerLines = 0\n",
    "    if (fileName == 'Au-linPNIPAM-long-hydr-radius.dat'\n",
    "        or fileName == 'Au-linPNIPAM-medium-hydr-radius.dat'\n",
    "        or fileName == 'Au-linPNIPAM-short-hydr-radius.dat'): \n",
    "        headerLines = 3\n",
    "    elif (fileName == 'Au-linPNIPAM-long.dat'\n",
    "          or fileName == 'Au-linPNIPAM-medium.dat'\n",
    "          or fileName == 'Au-linPNIPAM-short.dat'): \n",
    "        headerLines = 2\n",
    "        columnNames = np.genfromtxt(folderName+'/'+fileName, delimiter='\\t', dtype=str, comments='\\\\', skip_header=0, max_rows=1)[1:-1]\n",
    "        spectraNames.append(columnNames.tolist())\n",
    "        temps = []\n",
    "        for name in columnNames:\n",
    "            temps.append(float(name[-5:-3]))\n",
    "        spectraTemps.append(temps)\n",
    "        #print(columnNames)\n",
    "    else: headerLines = 2\n",
    "    tempData = np.genfromtxt(folderName+'/'+fileName, delimiter='\\t', skip_header=headerLines)\n",
    "    return tempData\n",
    "data = list(map(importData,fileNames))\n",
    "\n",
    "# Last column indicates sample shell thickness:\n",
    "# 0 = long (thick)\n",
    "# 1 = medium\n",
    "# 2 = short (thin)\n",
    "print(\"Oganizing data ...\")\n",
    "dataList = []\n",
    "for i in range(3):\n",
    "    dlsData = data[2*i]\n",
    "    spectraData0 = data[2*i+1]\n",
    "    temps = spectraTemps[i]\n",
    "    hydroRs = []\n",
    "    for T in temps:\n",
    "        sortByT = np.abs(dlsData[:,0] - T) < 3\n",
    "        subset = dlsData[sortByT]\n",
    "        if len(subset) == 0:\n",
    "            sortByT = np.abs(dlsData[:,1] - T) < 5\n",
    "            subset = dlsData[sortByT]\n",
    "        rh = np.mean(subset[:,1])\n",
    "        hydroRs.append(rh)\n",
    "    for ii in range(len(temps)):\n",
    "        for iii in range(len(spectraData0)):\n",
    "            dataPoint = [ spectraData0[iii,0], spectraData0[iii,ii+1], temps[ii], hydroRs[ii].tolist(), i ]\n",
    "            dataList.append(dataPoint)\n",
    "dataArray = np.asarray(dataList)\n",
    "print(\"  * extrapolate hydrodynamic radius from DLS to UV-Vis temps\")\n",
    "print(\"  * organized as [ wl-nm, abs, temp, Rh, sample-# ]\")\n",
    "print(\"  * sample 0 = thick shell, 1 = medium, 2 = thin\")\n",
    "\n",
    "# Au cores only\n",
    "spectrumCore = data[-1]\n",
    "print(\"  * core alone sorted separately\")\n",
    "\n",
    "print(\"Done.\")"
   ]
  },
  {
   "cell_type": "markdown",
   "metadata": {},
   "source": [
    "### 4.1.2 Plot a sample spectrum to make sure import worked"
   ]
  },
  {
   "cell_type": "markdown",
   "metadata": {},
   "source": [
    "Also plot a zoomed in spectrum to look at noise."
   ]
  },
  {
   "cell_type": "code",
   "execution_count": 247,
   "metadata": {
    "collapsed": false,
    "format": "tab"
   },
   "outputs": [
    {
     "name": "stdout",
     "output_type": "stream",
     "text": [
      "Sample spectrum\n",
      "===============\n",
      "Exported to:\n",
      " graphics_sample-spectrum_20160906.svg\n"
     ]
    },
    {
     "data": {
      "image/png": "[encoded data removed]",
      "text/plain": [
       "<matplotlib.figure.Figure at 0x183f905fcf8>"
      ]
     },
     "metadata": {},
     "output_type": "display_data"
    }
   ],
   "source": [
    "print('Sample spectrum')\n",
    "print('===============')\n",
    "def plotAndSave ():   \n",
    "    ## Input data\n",
    "    sampleNum = 0\n",
    "    temp = spectraTemps[sampleNum][7]\n",
    "    wlMin, wlMax = 300, 850\n",
    "    \n",
    "    sortByShell = dataArray[:,-1] == sampleNum\n",
    "    plotArray = dataArray[sortByShell]\n",
    "    sortByTemp = plotArray[:,-3] == temp\n",
    "    plotArray = plotArray[sortByTemp]\n",
    "    wlRange = plotArray[:,0] >= wlMin\n",
    "    plotArray = plotArray[wlRange]\n",
    "    wlRange = plotArray[:,0] <= wlMax\n",
    "    plotArray = plotArray[wlRange]\n",
    "    x, y = plotArray[:,0], plotArray[:,1]\n",
    "    y = y/np.amax(y)\n",
    "    xCore, yCore = spectrumCore[100:,0], spectrumCore[100:,1]\n",
    "    yCore = yCore*np.amax(y)/np.amax(yCore)\n",
    "    xLimits = [np.amin(x), np.amax(x)]\n",
    "    yLimits = [np.amin(y)-np.amax(y)*.05, np.amax(y)*1.05]\n",
    "    dx, dy = abs(xLimits[1]-xLimits[0]), abs(yLimits[1]-yLimits[0])\n",
    "    \n",
    "    ## Specific format options\n",
    "    pylab.plot(xCore, yCore, color='red', linewidth=2, label=\"AW5\")\n",
    "    pylab.plot(x, y, color='black', linewidth=2, label=\"+PNIPAM\")\n",
    "    pylab.xlabel(\"Wavelength (nm)\")\n",
    "    pylab.ylabel(\"Absorbance (Normalized)\")\n",
    "    figText = (['Thick','Med.','Thin'][sampleNum]+' shell'+'\\n'\n",
    "        +'$T=$'+str(temp)+'$^{\\circ}$C'+'\\n'\n",
    "        + '$R_h=$'+str(int(plotArray[0][-2]))+' nm')\n",
    "    pylab.text(xLimits[0]+0.025*dx, yLimits[0]+0.025*dy, figText, verticalalignment='bottom', horizontalalignment='left')\n",
    "    pylab.legend(loc='upper right', fontsize=12)\n",
    "    \n",
    "    ## General format options\n",
    "    aspectRatio = dx/dy\n",
    "    figWidthcm = 8.9\n",
    "    figSizein = [figWidthcm/2.54, aspectRatio*figWidthcm/2.54]\n",
    "    fig = pylab.figure(1, figsize=(figSizein[0],figSizein[1]))\n",
    "    pylab.subplot(111)\n",
    "    pylab.rcParams.update({'font.size': 14})\n",
    "    pylab.axes().set_aspect(aspectRatio)\n",
    "    pylab.xlim(xLimits[0], xLimits[1])\n",
    "    pylab.ylim(yLimits[0], yLimits[1])\n",
    "    pylab.locator_params(nbins=7)\n",
    "    \n",
    "    ## Save and display\n",
    "    timestamp = ('{:%Y%m%d}'.format(datetime.datetime.now()))\n",
    "    exportFormat = '.svg'\n",
    "    filename = \"graphics_\"+\"sample-spectrum_\" + timestamp + exportFormat\n",
    "    pylab.savefig(filename, transparent=True)\n",
    "    print(\"Exported to:\\n\", filename)\n",
    "    pylab.show()\n",
    "    \n",
    "plotAndSave() \n"
   ]
  },
  {
   "cell_type": "code",
   "execution_count": 248,
   "metadata": {
    "collapsed": false,
    "format": "tab"
   },
   "outputs": [
    {
     "name": "stdout",
     "output_type": "stream",
     "text": [
      "Sample spectrum\n",
      "===============\n",
      "Exported to:\n",
      " graphics_sample-spectrum-zoom_20160906.svg\n"
     ]
    },
    {
     "data": {
      "image/png": "[encoded data removed]",
      "text/plain": [
       "<matplotlib.figure.Figure at 0x183f7173da0>"
      ]
     },
     "metadata": {},
     "output_type": "display_data"
    }
   ],
   "source": [
    "print('Sample spectrum')\n",
    "print('===============')\n",
    "def plotAndSave ():   \n",
    "    ## Input data\n",
    "    sampleNum = 0\n",
    "    temp = spectraTemps[sampleNum][7]\n",
    "    wlMin, wlMax = 500, 550\n",
    "    \n",
    "    sortByShell = dataArray[:,-1] == sampleNum\n",
    "    plotArray = dataArray[sortByShell]\n",
    "    sortByTemp = plotArray[:,-3] == temp\n",
    "    plotArray = plotArray[sortByTemp]\n",
    "    wlRange = plotArray[:,0] >= wlMin\n",
    "    plotArray = plotArray[wlRange]\n",
    "    wlRange = plotArray[:,0] <= wlMax\n",
    "    plotArray = plotArray[wlRange]\n",
    "    x, y = plotArray[:,0], plotArray[:,1]\n",
    "    y = y/np.amax(y)\n",
    "    xCore, yCore = spectrumCore[100:,0], spectrumCore[100:,1]\n",
    "    yCore = yCore*np.amax(y)/np.amax(yCore)\n",
    "    xLimits = [np.amin(x), np.amax(x)]\n",
    "    yLimits = [np.amin(y)-np.amax(y)*.05, np.amax(y)*1.05]\n",
    "    dx, dy = abs(xLimits[1]-xLimits[0]), abs(yLimits[1]-yLimits[0])\n",
    "    \n",
    "    ## Specific format options\n",
    "    pylab.plot(xCore, yCore, color='red', linewidth=2, label=\"AW5\")\n",
    "    pylab.plot(x, y, color='black', linewidth=2, label=\"+PNIPAM\")\n",
    "    pylab.xlabel(\"Wavelength (nm)\")\n",
    "    pylab.ylabel(\"Absorbance (Normalized)\")\n",
    "    figText = (['Thick','Med.','Thin'][sampleNum]+' shell'+'\\n'\n",
    "        +'$T=$'+str(temp)+'$^{\\circ}$C'+'\\n'\n",
    "        + '$R_h=$'+str(int(plotArray[0][-2]))+' nm')\n",
    "    pylab.text(xLimits[0]+0.025*dx, yLimits[0]+0.025*dy, figText, verticalalignment='bottom', horizontalalignment='left')\n",
    "    pylab.legend(loc='lower right', fontsize=12)\n",
    "    \n",
    "    ## General format options\n",
    "    aspectRatio = dx/dy\n",
    "    figWidthcm = 8.9\n",
    "    figSizein = [figWidthcm/2.54, aspectRatio*figWidthcm/2.54]\n",
    "    fig = pylab.figure(1, figsize=(figSizein[0],figSizein[1]))\n",
    "    pylab.subplot(111)\n",
    "    pylab.rcParams.update({'font.size': 14})\n",
    "    pylab.axes().set_aspect(aspectRatio)\n",
    "    pylab.xlim(xLimits[0], xLimits[1])\n",
    "    pylab.ylim(yLimits[0], yLimits[1])\n",
    "    pylab.locator_params(nbins=7)\n",
    "    \n",
    "    ## Save and display\n",
    "    timestamp = ('{:%Y%m%d}'.format(datetime.datetime.now()))\n",
    "    exportFormat = '.svg'\n",
    "    filename = \"graphics_\"+\"sample-spectrum-zoom_\" + timestamp + exportFormat\n",
    "    pylab.savefig(filename, transparent=True)\n",
    "    print(\"Exported to:\\n\", filename)\n",
    "    pylab.show()\n",
    "    \n",
    "plotAndSave() \n"
   ]
  },
  {
   "cell_type": "markdown",
   "metadata": {},
   "source": [
    "## 4.2 Resonance peak wavelength determination"
   ]
  },
  {
   "cell_type": "markdown",
   "metadata": {},
   "source": [
    "### 4.2.1 Peak fitting analysis code"
   ]
  },
  {
   "cell_type": "code",
   "execution_count": 249,
   "metadata": {
    "collapsed": false,
    "format": "tab"
   },
   "outputs": [
    {
     "name": "stdout",
     "output_type": "stream",
     "text": [
      "LSPR analysis\n",
      "=============\n",
      "Peak detection\n",
      "Bare core LSPR peak at 519.7  nm\n",
      "Shell peaks\n",
      "  * format: [ wl-nm, temp-C, Rh-nm, sample-# ]\n",
      "  * min LSPR peak at 523.4 nm\n",
      "  * max LSPR peak at 526.3 nm\n"
     ]
    }
   ],
   "source": [
    "print(\"LSPR analysis\")\n",
    "print(\"=============\")\n",
    "print(\"Peak detection\")\n",
    "threshold = 0.25\n",
    "wlMinnm, wlMaxnm = 400, 600\n",
    "\n",
    "# Core only\n",
    "wlPeakCorenm = 0\n",
    "wlRange = spectrumCore[:,0] >= wlMinnm\n",
    "dataSubArray = spectrumCore[wlRange]\n",
    "wlRange = spectrumCore[:,0] <= wlMaxnm\n",
    "dataSubArray = spectrumCore[wlRange]\n",
    "if dataSubArray.size > 0:\n",
    "    x, y = dataSubArray[:,0], dataSubArray[:,1]\n",
    "    base = peakutils.baseline(y,2)\n",
    "    yCorr = y - 0*base\n",
    "    indexes = peakutils.indexes(y, thres=threshold, min_dist=10)\n",
    "    indexesCorr = peakutils.indexes(yCorr, thres=threshold, min_dist=10)\n",
    "    if indexesCorr.size > 0: \n",
    "        if indexesCorr.size > 1: indexesCorr = [indexesCorr[-1]]\n",
    "        wlPeaknm = peakutils.interpolate(x, yCorr, ind=indexesCorr)\n",
    "        wlPeakCorenm = wlPeaknm[0]\n",
    "        print(\"Bare core LSPR peak at\", format(wlPeakCorenm,'.1f'), \" nm\")\n",
    "\n",
    "# Shell\n",
    "lsprPeakList = []\n",
    "for sampleNum in range(3):\n",
    "    for tempC in spectraTemps[sampleNum]:\n",
    "        sortByShell = dataArray[:,-1] == sampleNum\n",
    "        dataSubArray = dataArray[sortByShell]\n",
    "        sortByTemp = dataSubArray[:,-3] == tempC\n",
    "        dataSubArray = dataSubArray[sortByTemp]\n",
    "        wlRange = dataSubArray[:,0] >= wlMinnm\n",
    "        dataSubArray = dataSubArray[wlRange]\n",
    "        wlRange = dataSubArray[:,0] <= wlMaxnm\n",
    "        dataSubArray = dataSubArray[wlRange]\n",
    "        Rh = dataSubArray[0][-2]\n",
    "        if dataSubArray.size > 0:\n",
    "            x, y = dataSubArray[:,0], dataSubArray[:,1]\n",
    "            base = peakutils.baseline(y,2)\n",
    "            yCorr = y - 0*base\n",
    "            indexes = peakutils.indexes(y, thres=threshold, min_dist=10)\n",
    "            indexesCorr = peakutils.indexes(yCorr, thres=threshold, min_dist=10)\n",
    "            if indexesCorr.size > 0: \n",
    "                if indexesCorr.size > 1: indexesCorr = [indexesCorr[-1]]\n",
    "                wlPeaknm = peakutils.interpolate(x, yCorr, ind=indexesCorr)\n",
    "                lsprPeakList.append([wlPeaknm[0], tempC, Rh, sampleNum])\n",
    "lsprPeakArray = np.asarray(lsprPeakList)\n",
    "print(\"Shell peaks\")\n",
    "print(\"  * format: [ wl-nm, temp-C, Rh-nm, sample-# ]\")\n",
    "print(\"  * min LSPR peak at\",format(np.amin(lsprPeakArray[:,0]),'.1f'),\"nm\")\n",
    "print(\"  * max LSPR peak at\",format(np.amax(lsprPeakArray[:,0]),'.1f'),\"nm\")"
   ]
  },
  {
   "cell_type": "markdown",
   "metadata": {},
   "source": [
    "### 4.2.2 Plot of LSPR peak wavelength position vs tempearture"
   ]
  },
  {
   "cell_type": "code",
   "execution_count": 250,
   "metadata": {
    "collapsed": false,
    "format": "tab"
   },
   "outputs": [
    {
     "name": "stdout",
     "output_type": "stream",
     "text": [
      "LSPR peak wavelength vs temperature\n",
      "===============\n",
      "Exported to:\n",
      " graphics_wl-LSPR-vs-temp_20160906.svg\n"
     ]
    },
    {
     "data": {
      "image/png": "[encoded data removed]",
      "text/plain": [
       "<matplotlib.figure.Figure at 0x183f8eff7b8>"
      ]
     },
     "metadata": {},
     "output_type": "display_data"
    }
   ],
   "source": [
    "print('LSPR peak wavelength vs temperature')\n",
    "print('===============')\n",
    "def plotAndSave ():   \n",
    "    ## Input data\n",
    "    plotArray = lsprPeakArray[:,0:2]\n",
    "    x, y = plotArray[:,1], plotArray[:,0]\n",
    "    xLimits = [np.amin(x), np.amax(x)]\n",
    "    yLimits = [np.amin(y), np.amax(y)]\n",
    "    dx, dy = abs(xLimits[1]-xLimits[0]), abs(yLimits[1]-yLimits[0])\n",
    "    x1, y1 = x[:len(spectraTemps[0])], y[:len(spectraTemps[0])]\n",
    "    x2, y2 = x[len(spectraTemps[0])+1:len(spectraTemps[0])+len(spectraTemps[1])], y[len(spectraTemps[0])+1:len(spectraTemps[0])+len(spectraTemps[1])]\n",
    "    x3, y3 = x[len(spectraTemps[0])+len(spectraTemps[1])+1:], y[len(spectraTemps[0])+len(spectraTemps[1])+1:]\n",
    "    \n",
    "    ## Specific format options\n",
    "    pylab.plot(x1, y1, 'o', color='red', label=\"Thick\")\n",
    "    pylab.plot(x2, y2, 'o', color='blue', label=\"Med.\")\n",
    "    pylab.plot(x3, y3, 'o', color='green', label=\"Thin\")\n",
    "    pylab.xlabel(\"Temperature ($^{\\circ}$C)\")\n",
    "    pylab.ylabel(\"LSPR peak wavelength (nm)\")\n",
    "    pylab.legend(loc='lower right', fontsize=12)\n",
    "    \n",
    "    ## General format options\n",
    "    aspectRatio = dx/dy\n",
    "    figWidthcm = 8.9\n",
    "    figSizein = [figWidthcm/2.54, aspectRatio*figWidthcm/2.54]\n",
    "    fig = pylab.figure(1, figsize=(figSizein[0],figSizein[1]))\n",
    "    pylab.subplot(111)\n",
    "    pylab.rcParams.update({'font.size': 14})\n",
    "    pylab.axes().set_aspect(aspectRatio)\n",
    "    pylab.xlim(xLimits[0]-0.05*dx, xLimits[1]+0.05*dx)\n",
    "    pylab.ylim(yLimits[0]-0.05*dy, yLimits[1]+0.05*dy)\n",
    "    pylab.locator_params(nbins=7)\n",
    "    \n",
    "    ## Save and display\n",
    "    timestamp = ('{:%Y%m%d}'.format(datetime.datetime.now()))\n",
    "    exportFormat = '.svg'\n",
    "    filename = \"graphics_\"+\"wl-LSPR-vs-temp_\" + timestamp + exportFormat\n",
    "    pylab.savefig(filename, transparent=True)\n",
    "    print(\"Exported to:\\n\", filename)\n",
    "    pylab.show()\n",
    "    \n",
    "plotAndSave() \n"
   ]
  },
  {
   "cell_type": "markdown",
   "metadata": {},
   "source": [
    "Interpretation\n",
    "- The offset between the thick and medium shell curves at low temperatures shows that there is more polymer near the core. \n",
    "- The plateau in the thick shell curve at high temperatures is (probably) due to increased scattering. This limits the maximum LSPR shift.\n",
    "- The thin and medium shell curves are the same at low temperatures, so they have similar amounts of polymer near the core.\n",
    "- The difference between the thin and medium shell curves at high temperatures shows that the collapse of the thin shell brings it inside the near-field zone. Thus, the LSPR is influenced by the pure solvent too at high temperatures with a thin shell, limiting the maximum LSPR shift."
   ]
  },
  {
   "cell_type": "markdown",
   "metadata": {},
   "source": [
    "### 4.2.3 Plot of LSPR peak wavelength shift vs temperature"
   ]
  },
  {
   "cell_type": "code",
   "execution_count": 251,
   "metadata": {
    "collapsed": false,
    "format": "tab"
   },
   "outputs": [
    {
     "name": "stdout",
     "output_type": "stream",
     "text": [
      "LSPR peak wavelength vs temperature\n",
      "===============\n",
      "Exported to:\n",
      " graphics_dwl-LSPR-vs-temp_20160906.svg\n"
     ]
    },
    {
     "data": {
      "image/png": "[encoded data removed]",
      "text/plain": [
       "<matplotlib.figure.Figure at 0x183f887ce80>"
      ]
     },
     "metadata": {},
     "output_type": "display_data"
    }
   ],
   "source": [
    "print('LSPR peak wavelength vs temperature')\n",
    "print('===============')\n",
    "def plotAndSave ():   \n",
    "    ## Input data\n",
    "    plotArray = lsprPeakArray[:,0:2]\n",
    "    x, y = plotArray[:,1], plotArray[:,0]\n",
    "    x1, y1 = x[:len(spectraTemps[0])], y[:len(spectraTemps[0])]\n",
    "    x2, y2 = x[len(spectraTemps[0])+1:len(spectraTemps[0])+len(spectraTemps[1])], y[len(spectraTemps[0])+1:len(spectraTemps[0])+len(spectraTemps[1])]\n",
    "    x3, y3 = x[len(spectraTemps[0])+len(spectraTemps[1])+1:], y[len(spectraTemps[0])+len(spectraTemps[1])+1:]\n",
    "    y1, y2, y3 = y1-y1[1], y2-y2[0], y3-y3[0] # at 20C\n",
    "    y = np.concatenate((y1, y2, y3))\n",
    "    xLimits = [np.amin(x), np.amax(x)]\n",
    "    yLimits = [np.amin(y), np.amax(y)]\n",
    "    dx, dy = abs(xLimits[1]-xLimits[0]), abs(yLimits[1]-yLimits[0])\n",
    "    \n",
    "    ## Specific format options\n",
    "    pylab.plot(x1, y1, 'o', color='red', label=\"Thick\")\n",
    "    pylab.plot(x2, y2, 's', color='blue', label=\"Med.\")\n",
    "    pylab.plot(x3, y3, 'v', color='green', label=\"Thin\")\n",
    "    pylab.xlabel(\"Temperature ($^{\\circ}$C)\")\n",
    "    pylab.ylabel(\"LSPR peak shift (nm)\")\n",
    "    pylab.legend(loc='lower right', fontsize=12)\n",
    "    \n",
    "    ## General format options\n",
    "    aspectRatio = dx/dy\n",
    "    figWidthcm = 8.9\n",
    "    figSizein = [figWidthcm/2.54, aspectRatio*figWidthcm/2.54]\n",
    "    fig = pylab.figure(1, figsize=(figSizein[0],figSizein[1]))\n",
    "    pylab.subplot(111)\n",
    "    pylab.rcParams.update({'font.size': 14})\n",
    "    pylab.axes().set_aspect(aspectRatio)\n",
    "    pylab.xlim(xLimits[0]-0.05*dx, xLimits[1]+0.05*dx)\n",
    "    pylab.ylim(yLimits[0]-0.05*dy, yLimits[1]+0.05*dy)\n",
    "    pylab.locator_params(nbins=7)\n",
    "    \n",
    "    ## Save and display\n",
    "    timestamp = ('{:%Y%m%d}'.format(datetime.datetime.now()))\n",
    "    exportFormat = '.svg'\n",
    "    filename = \"graphics_\"+\"dwl-LSPR-vs-temp_\" + timestamp + exportFormat\n",
    "    pylab.savefig(filename, transparent=True)\n",
    "    print(\"Exported to:\\n\", filename)\n",
    "    pylab.show()\n",
    "    \n",
    "plotAndSave() \n"
   ]
  },
  {
   "cell_type": "markdown",
   "metadata": {},
   "source": [
    "### 4.2.4 Plots of hydrodynamic radius and relative hydrodynamics vs temperature"
   ]
  },
  {
   "cell_type": "markdown",
   "metadata": {},
   "source": [
    "This DLS data is interpolated to determine the hydrodynamic radius of the particles at the temperatures at which the spectra are taken."
   ]
  },
  {
   "cell_type": "code",
   "execution_count": 252,
   "metadata": {
    "collapsed": false,
    "format": "tab"
   },
   "outputs": [
    {
     "name": "stdout",
     "output_type": "stream",
     "text": [
      "Temperature vs hydrodynamic radius\n",
      "===============\n",
      "Exported to:\n",
      " graphics_Rh-vs-Temp_20160906.svg\n"
     ]
    },
    {
     "data": {
      "image/png": "[encoded data removed]",
      "text/plain": [
       "<matplotlib.figure.Figure at 0x183f8537240>"
      ]
     },
     "metadata": {},
     "output_type": "display_data"
    }
   ],
   "source": [
    "print('Temperature vs hydrodynamic radius')\n",
    "print('===============')\n",
    "def plotAndSave ():   \n",
    "    ## Input data\n",
    "    plotArray = lsprPeakArray[:,1:3]\n",
    "    x, y = plotArray[:,0], plotArray[:,1]\n",
    "    xLimits = [np.amin(x), np.amax(x)]\n",
    "    yLimits = [np.amin(y), np.amax(y)]\n",
    "    dx, dy = abs(xLimits[1]-xLimits[0]), abs(yLimits[1]-yLimits[0])\n",
    "    x1, y1 = x[:len(spectraTemps[0])], y[:len(spectraTemps[0])]\n",
    "    x2, y2 = x[len(spectraTemps[0])+1:len(spectraTemps[0])+len(spectraTemps[1])], y[len(spectraTemps[0])+1:len(spectraTemps[0])+len(spectraTemps[1])]\n",
    "    x3, y3 = x[len(spectraTemps[0])+len(spectraTemps[1])+1:], y[len(spectraTemps[0])+len(spectraTemps[1])+1:]\n",
    "    \n",
    "    ## Specific format options\n",
    "    pylab.plot(x1, y1, 'o', color='red', label=\"Thick\")\n",
    "    pylab.plot(x2, y2, 'o', color='blue', label=\"Med.\")\n",
    "    pylab.plot(x3, y3, 'o', color='green', label=\"Thin\")\n",
    "    pylab.xlabel(\"Temperature ($^{\\circ}$C)\")\n",
    "    pylab.ylabel(\"Hydrodynamic radius (nm)\")\n",
    "    pylab.legend(loc='upper right', fontsize=12)\n",
    "    \n",
    "    ## General format options\n",
    "    aspectRatio = dx/dy\n",
    "    figWidthcm = 8.9\n",
    "    figSizein = [figWidthcm/2.54, aspectRatio*figWidthcm/2.54]\n",
    "    fig = pylab.figure(1, figsize=(figSizein[0],figSizein[1]))\n",
    "    pylab.subplot(111)\n",
    "    pylab.rcParams.update({'font.size': 14})\n",
    "    pylab.axes().set_aspect(aspectRatio)\n",
    "    pylab.xlim(xLimits[0]-0.05*dx, xLimits[1]+0.05*dx)\n",
    "    pylab.ylim(yLimits[0]-0.05*dy, yLimits[1]+0.05*dy)\n",
    "    pylab.locator_params(nbins=7)\n",
    "    \n",
    "    ## Save and display\n",
    "    timestamp = ('{:%Y%m%d}'.format(datetime.datetime.now()))\n",
    "    exportFormat = '.svg'\n",
    "    filename = \"graphics_\"+\"Rh-vs-Temp_\" + timestamp + exportFormat\n",
    "    pylab.savefig(filename, transparent=True)\n",
    "    print(\"Exported to:\\n\", filename)\n",
    "    pylab.show()\n",
    "    \n",
    "plotAndSave() \n"
   ]
  },
  {
   "cell_type": "code",
   "execution_count": 253,
   "metadata": {
    "collapsed": false,
    "format": "tab"
   },
   "outputs": [
    {
     "name": "stdout",
     "output_type": "stream",
     "text": [
      "Temperature vs hydrodynamic radius\n",
      "===============\n",
      "Exported to:\n",
      " graphics_Rh-rel-vs-Temp_20160906.svg\n"
     ]
    },
    {
     "data": {
      "image/png": "[encoded data removed]",
      "text/plain": [
       "<matplotlib.figure.Figure at 0x183f8ec96d8>"
      ]
     },
     "metadata": {},
     "output_type": "display_data"
    }
   ],
   "source": [
    "print('Temperature vs hydrodynamic radius')\n",
    "print('===============')\n",
    "def plotAndSave ():   \n",
    "    ## Input data\n",
    "    plotArray = lsprPeakArray[:,1:3]\n",
    "    x, y = plotArray[:,0], plotArray[:,1]\n",
    "    x1, y1 = x[:len(spectraTemps[0])], y[:len(spectraTemps[0])]\n",
    "    x2, y2 = x[len(spectraTemps[0])+1:len(spectraTemps[0])+len(spectraTemps[1])], y[len(spectraTemps[0])+1:len(spectraTemps[0])+len(spectraTemps[1])]\n",
    "    x3, y3 = x[len(spectraTemps[0])+len(spectraTemps[1])+1:], y[len(spectraTemps[0])+len(spectraTemps[1])+1:]\n",
    "    y1, y2, y3 = y1/np.mean(y1[-2:-1]), y2/np.mean(y2[-2:-1]), y3/np.mean(y3[-2:-1])\n",
    "    y = np.concatenate((y1,y2,y3))\n",
    "    xLimits = [np.amin(x), np.amax(x)]\n",
    "    yLimits = [np.amin(y), np.amax(y)]\n",
    "    dx, dy = abs(xLimits[1]-xLimits[0]), abs(yLimits[1]-yLimits[0])\n",
    "    \n",
    "    ## Specific format options\n",
    "    pylab.plot(x1, y1, 'o', color='red', label=\"Thick\")\n",
    "    pylab.plot(x2, y2, 'v', color='blue', label=\"Med.\")\n",
    "    pylab.plot(x3, y3, 's', color='green', label=\"Thin\")\n",
    "    pylab.xlabel(\"Temperature ($^{\\circ}$C)\")\n",
    "    pylab.ylabel(\"$R_h/R_h(60^{\\circ}\\mathrm{C})$\")\n",
    "    pylab.legend(loc='upper right', fontsize=12)\n",
    "    \n",
    "    ## General format options\n",
    "    aspectRatio = dx/dy\n",
    "    figWidthcm = 8.9\n",
    "    figSizein = [figWidthcm/2.54, aspectRatio*figWidthcm/2.54]\n",
    "    fig = pylab.figure(1, figsize=(figSizein[0],figSizein[1]))\n",
    "    pylab.subplot(111)\n",
    "    pylab.rcParams.update({'font.size': 14})\n",
    "    pylab.axes().set_aspect(aspectRatio)\n",
    "    pylab.xlim(xLimits[0]-0.05*dx, xLimits[1]+0.05*dx)\n",
    "    pylab.ylim(yLimits[0]-0.05*dy, yLimits[1]+0.05*dy)\n",
    "    pylab.locator_params(nbins=7)\n",
    "    \n",
    "    ## Save and display\n",
    "    timestamp = ('{:%Y%m%d}'.format(datetime.datetime.now()))\n",
    "    exportFormat = '.svg'\n",
    "    filename = \"graphics_\"+\"Rh-rel-vs-Temp_\" + timestamp + exportFormat\n",
    "    pylab.savefig(filename, transparent=True)\n",
    "    print(\"Exported to:\\n\", filename)\n",
    "    pylab.show()\n",
    "    \n",
    "plotAndSave() \n"
   ]
  },
  {
   "cell_type": "code",
   "execution_count": 266,
   "metadata": {
    "collapsed": false,
    "format": "tab"
   },
   "outputs": [
    {
     "name": "stdout",
     "output_type": "stream",
     "text": [
      "Temperature vs hydrodynamic radius\n",
      "===============\n",
      "Exported to:\n",
      " graphics_Rh-rel-vs-Temp_20160906.svg\n"
     ]
    },
    {
     "data": {
      "image/png": "[encoded data removed]",
      "text/plain": [
       "<matplotlib.figure.Figure at 0x183f887cac8>"
      ]
     },
     "metadata": {},
     "output_type": "display_data"
    }
   ],
   "source": [
    "print('Temperature vs hydrodynamic radius')\n",
    "print('===============')\n",
    "def plotAndSave ():   \n",
    "    ## Input data\n",
    "    plotArray = lsprPeakArray[:,1:3]\n",
    "    x, y = plotArray[:,0], plotArray[:,1]\n",
    "    x1, y1 = x[:len(spectraTemps[0])], y[:len(spectraTemps[0])]\n",
    "    x2, y2 = x[len(spectraTemps[0])+1:len(spectraTemps[0])+len(spectraTemps[1])], y[len(spectraTemps[0])+1:len(spectraTemps[0])+len(spectraTemps[1])]\n",
    "    x3, y3 = x[len(spectraTemps[0])+len(spectraTemps[1])+1:], y[len(spectraTemps[0])+len(spectraTemps[1])+1:]\n",
    "    y1, y2, y3 = y1/y1[0], y2/y2[0], y3/y3[1]\n",
    "    y = np.concatenate((y1,y2,y3))\n",
    "    xLimits = [np.amin(x), np.amax(x)]\n",
    "    yLimits = [np.amin(y), np.amax(y)]\n",
    "    dx, dy = abs(xLimits[1]-xLimits[0]), abs(yLimits[1]-yLimits[0])\n",
    "    \n",
    "    ## Specific format options\n",
    "    pylab.plot(x1, y1, 'o', color='red', label=\"Thick\")\n",
    "    pylab.plot(x2, y2, 'v', color='blue', label=\"Med.\")\n",
    "    pylab.plot(x3, y3, 's', color='green', label=\"Thin\")\n",
    "    pylab.xlabel(\"Temperature ($^{\\circ}$C)\")\n",
    "    pylab.ylabel(\"$R_h/R_h(25^{\\circ}\\mathrm{C})$\")\n",
    "    pylab.legend(loc='upper right', fontsize=12)\n",
    "    \n",
    "    ## General format options\n",
    "    aspectRatio = dx/dy\n",
    "    figWidthcm = 8.9\n",
    "    figSizein = [figWidthcm/2.54, aspectRatio*figWidthcm/2.54]\n",
    "    fig = pylab.figure(1, figsize=(figSizein[0],figSizein[1]))\n",
    "    pylab.subplot(111)\n",
    "    pylab.rcParams.update({'font.size': 14})\n",
    "    pylab.axes().set_aspect(aspectRatio)\n",
    "    pylab.xlim(xLimits[0]-0.05*dx, xLimits[1]+0.05*dx)\n",
    "    pylab.ylim(yLimits[0]-0.05*dy, yLimits[1]+0.05*dy)\n",
    "    pylab.locator_params(nbins=7)\n",
    "    \n",
    "    ## Save and display\n",
    "    timestamp = ('{:%Y%m%d}'.format(datetime.datetime.now()))\n",
    "    exportFormat = '.svg'\n",
    "    filename = \"graphics_\"+\"Rh-rel-vs-Temp_\" + timestamp + exportFormat\n",
    "    pylab.savefig(filename, transparent=True)\n",
    "    print(\"Exported to:\\n\", filename)\n",
    "    pylab.show()\n",
    "    \n",
    "plotAndSave() \n"
   ]
  },
  {
   "cell_type": "markdown",
   "metadata": {},
   "source": [
    "### 4.2.5 Plot of LSPR peak wavelength vs hydrodynamic radius"
   ]
  },
  {
   "cell_type": "code",
   "execution_count": 255,
   "metadata": {
    "collapsed": false,
    "format": "tab"
   },
   "outputs": [
    {
     "name": "stdout",
     "output_type": "stream",
     "text": [
      "LSPR peak wavelength vs hydrodynamic radius\n",
      "===============\n",
      "Exported to:\n",
      " graphics_wl-LSPR-vs-Rh_20160906.svg\n"
     ]
    },
    {
     "data": {
      "image/png": "[encoded data removed]",
      "text/plain": [
       "<matplotlib.figure.Figure at 0x183f881af60>"
      ]
     },
     "metadata": {},
     "output_type": "display_data"
    }
   ],
   "source": [
    "print('LSPR peak wavelength vs hydrodynamic radius')\n",
    "print('===============')\n",
    "def plotAndSave ():   \n",
    "    ## Input data\n",
    "    plotArray = lsprPeakArray[:,0:3:2]\n",
    "    x, y = plotArray[:,1], plotArray[:,0]\n",
    "    x0, y0 = [9.0], [wlPeakCorenm]\n",
    "    xLimits = [np.amin(x), np.amax(x)]\n",
    "    yLimits = [np.amin(y), np.amax(y)]\n",
    "    dx, dy = abs(xLimits[1]-xLimits[0]), abs(yLimits[1]-yLimits[0])\n",
    "    x1, y1 = x[:len(spectraTemps[0])], y[:len(spectraTemps[0])]\n",
    "    x2, y2 = x[len(spectraTemps[0])+1:len(spectraTemps[0])+len(spectraTemps[1])], y[len(spectraTemps[0])+1:len(spectraTemps[0])+len(spectraTemps[1])]\n",
    "    x3, y3 = x[len(spectraTemps[0])+len(spectraTemps[1])+1:], y[len(spectraTemps[0])+len(spectraTemps[1])+1:]\n",
    "    \n",
    "    ## Specific format options\n",
    "    pylab.plot(x1, y1, 'o', color='red', label=\"Thick\")\n",
    "    pylab.plot(x2, y2, 'o', color='blue', label=\"Med.\")\n",
    "    pylab.plot(x3, y3, 'o', color='green', label=\"Thin\")\n",
    "    pylab.xlabel(\"Hydrodynamic radius (nm)\")\n",
    "    pylab.ylabel(\"LSPR peak wavelength (nm)\")\n",
    "    pylab.legend(loc='lower right', fontsize=12)\n",
    "    \n",
    "    ## General format options\n",
    "    aspectRatio = dx/dy\n",
    "    figWidthcm = 8.9\n",
    "    figSizein = [figWidthcm/2.54, aspectRatio*figWidthcm/2.54]\n",
    "    fig = pylab.figure(1, figsize=(figSizein[0],figSizein[1]))\n",
    "    pylab.subplot(111)\n",
    "    pylab.rcParams.update({'font.size': 14})\n",
    "    pylab.axes().set_aspect(aspectRatio)\n",
    "    pylab.xlim(xLimits[0]-0.05*dx, xLimits[1]+0.05*dx)\n",
    "    pylab.ylim(yLimits[0]-0.05*dy, yLimits[1]+0.05*dy)\n",
    "    pylab.locator_params(nbins=7)\n",
    "    \n",
    "    ## Save and display\n",
    "    timestamp = ('{:%Y%m%d}'.format(datetime.datetime.now()))\n",
    "    exportFormat = '.svg'\n",
    "    filename = \"graphics_\"+\"wl-LSPR-vs-Rh_\" + timestamp + exportFormat\n",
    "    pylab.savefig(filename, transparent=True)\n",
    "    print(\"Exported to:\\n\", filename)\n",
    "    pylab.show()\n",
    "    \n",
    "plotAndSave() \n"
   ]
  },
  {
   "cell_type": "markdown",
   "metadata": {},
   "source": [
    "Expanded plot below shows LSPR peak from bare Au NP. Note that it is significantly different."
   ]
  },
  {
   "cell_type": "code",
   "execution_count": 256,
   "metadata": {
    "collapsed": false,
    "format": "tab"
   },
   "outputs": [
    {
     "name": "stdout",
     "output_type": "stream",
     "text": [
      "LSPR peak wavelength vs hydrodynamic radius\n",
      "===============\n",
      "Exported to:\n",
      " graphics_wl-LSPR-vs-Rh_20160906.svg\n"
     ]
    },
    {
     "data": {
      "image/png": "[encoded data removed]",
      "text/plain": [
       "<matplotlib.figure.Figure at 0x183f904e668>"
      ]
     },
     "metadata": {},
     "output_type": "display_data"
    }
   ],
   "source": [
    "print('LSPR peak wavelength vs hydrodynamic radius')\n",
    "print('===============')\n",
    "def plotAndSave ():   \n",
    "    ## Input data\n",
    "    plotArray = lsprPeakArray[:,0:3:2]\n",
    "    x, y = plotArray[:,1], plotArray[:,0]\n",
    "    x0, y0 = [9.0], [wlPeakCorenm]\n",
    "    xLimits = [np.amin(x), np.amax(x)]\n",
    "    xLimits[0] = min([xLimits[0],x0[0]])\n",
    "    yLimits = [np.amin(y), np.amax(y)]\n",
    "    yLimits[0] = min([yLimits[0],y0[0]])\n",
    "    dx, dy = abs(xLimits[1]-xLimits[0]), abs(yLimits[1]-yLimits[0])\n",
    "    x1, y1 = x[:len(spectraTemps[0])], y[:len(spectraTemps[0])]\n",
    "    x2, y2 = x[len(spectraTemps[0])+1:len(spectraTemps[0])+len(spectraTemps[1])], y[len(spectraTemps[0])+1:len(spectraTemps[0])+len(spectraTemps[1])]\n",
    "    x3, y3 = x[len(spectraTemps[0])+len(spectraTemps[1])+1:], y[len(spectraTemps[0])+len(spectraTemps[1])+1:]\n",
    "    \n",
    "    ## Specific format options\n",
    "    pylab.plot(x0, y0, 'o', color='black', label=\"AuNP\")\n",
    "    pylab.plot(x1, y1, 'o', color='red', label=\"Thick\")\n",
    "    pylab.plot(x2, y2, 'o', color='blue', label=\"Med.\")\n",
    "    pylab.plot(x3, y3, 'o', color='green', label=\"Thin\")\n",
    "    pylab.xlabel(\"Hydrodynamic radius (nm)\")\n",
    "    pylab.ylabel(\"LSPR peak wavelength (nm)\")\n",
    "    pylab.legend(loc='lower right', fontsize=12)\n",
    "    \n",
    "    ## General format options\n",
    "    aspectRatio = dx/dy\n",
    "    figWidthcm = 8.9\n",
    "    figSizein = [figWidthcm/2.54, aspectRatio*figWidthcm/2.54]\n",
    "    fig = pylab.figure(1, figsize=(figSizein[0],figSizein[1]))\n",
    "    pylab.subplot(111)\n",
    "    pylab.rcParams.update({'font.size': 14})\n",
    "    pylab.axes().set_aspect(aspectRatio)\n",
    "    pylab.xlim(xLimits[0]-0.05*dx, xLimits[1]+0.05*dx)\n",
    "    pylab.ylim(yLimits[0]-0.05*dy, yLimits[1]+0.05*dy)\n",
    "    pylab.locator_params(nbins=7)\n",
    "    \n",
    "    ## Save and display\n",
    "    timestamp = ('{:%Y%m%d}'.format(datetime.datetime.now()))\n",
    "    exportFormat = '.svg'\n",
    "    filename = \"graphics_\"+\"wl-LSPR-vs-Rh_\" + timestamp + exportFormat\n",
    "    pylab.savefig(filename, transparent=True)\n",
    "    print(\"Exported to:\\n\", filename)\n",
    "    pylab.show()\n",
    "    \n",
    "plotAndSave() \n"
   ]
  },
  {
   "cell_type": "markdown",
   "metadata": {},
   "source": [
    "### 4.2.6 Plots of LSPR peak shift vs relative hydrodynamic radius"
   ]
  },
  {
   "cell_type": "code",
   "execution_count": 295,
   "metadata": {
    "collapsed": false,
    "format": "tab"
   },
   "outputs": [
    {
     "name": "stdout",
     "output_type": "stream",
     "text": [
      "LSPR peak wavelength vs hydrodynamic radius\n",
      "===============\n"
     ]
    },
    {
     "data": {
      "image/png": "[encoded data removed]",
      "text/plain": [
       "<matplotlib.figure.Figure at 0x183f8830470>"
      ]
     },
     "metadata": {},
     "output_type": "display_data"
    }
   ],
   "source": [
    "print('LSPR peak wavelength vs hydrodynamic radius')\n",
    "print('===============')\n",
    "def plotAndSave ():   \n",
    "    ## Input data\n",
    "    plotArray = lsprPeakArray[:,0:3:2]\n",
    "    x, y = plotArray[:,1], plotArray[:,0]\n",
    "    x0, y0 = [9.0], [wlPeakCorenm]\n",
    "    x1, y1 = x[:len(spectraTemps[0])], y[:len(spectraTemps[0])]\n",
    "    x2, y2 = x[len(spectraTemps[0])+1:len(spectraTemps[0])+len(spectraTemps[1])], y[len(spectraTemps[0])+1:len(spectraTemps[0])+len(spectraTemps[1])]\n",
    "    x3, y3 = x[len(spectraTemps[0])+len(spectraTemps[1])+1:], y[len(spectraTemps[0])+len(spectraTemps[1])+1:]\n",
    "    x1, x2, x3 = x1/min(x1), x2/min(x2), x3/min(x3)\n",
    "    x = np.concatenate((x1,x2,x3))\n",
    "    y1, y2, y3 = y1-y1[-1], y2-y2[-1], y3-y3[-1]\n",
    "    y = np.concatenate((y1,y2,y3))\n",
    "    xLimits = [np.amin(x), np.amax(x)]\n",
    "    yLimits = [np.amin(y), np.amax(y)]\n",
    "    dx, dy = abs(xLimits[1]-xLimits[0]), abs(yLimits[1]-yLimits[0])\n",
    "    \n",
    "    ## Specific format options\n",
    "    pylab.plot(x1, y1, 'o', color='red', label=\"Thick\")\n",
    "    pylab.plot(x2, y2, 's', color='blue', label=\"Med.\")\n",
    "    pylab.plot(x3, y3, 'v', color='green', label=\"Thin\")\n",
    "    pylab.xlabel(\"$R_h/\\mathrm{min}(R_h)$\")\n",
    "    pylab.ylabel(\"LSPR peak shift (nm)\")\n",
    "    pylab.legend(loc='lower left', fontsize=12)\n",
    "    \n",
    "    ## General format options\n",
    "    aspectRatio = dx/dy\n",
    "    figWidthcm = 8.9\n",
    "    figSizein = [figWidthcm/2.54, aspectRatio*figWidthcm/2.54]\n",
    "    fig = pylab.figure(1, figsize=(figSizein[0],figSizein[1]))\n",
    "    pylab.subplot(111)\n",
    "    pylab.rcParams.update({'font.size': 14})\n",
    "    pylab.axes().set_aspect(aspectRatio)\n",
    "    pylab.xlim(xLimits[0]-0.05*dx, xLimits[1]+0.05*dx)\n",
    "    pylab.ylim(yLimits[0]-0.05*dy, yLimits[1]+0.05*dy)\n",
    "    pylab.locator_params(nbins=7)\n",
    "    \n",
    "    ## Save and display\n",
    "    timestamp = ('{:%Y%m%d}'.format(datetime.datetime.now()))\n",
    "    exportFormat = '.svg'\n",
    "    filename = \"graphics_\"+\"dwl-LSPR-vs-Rh-rel_\" + timestamp + exportFormat\n",
    "    #pylab.savefig(filename, transparent=True)\n",
    "    #print(\"Exported to:\\n\", filename)\n",
    "    pylab.show()\n",
    "    \n",
    "plotAndSave() \n"
   ]
  },
  {
   "cell_type": "code",
   "execution_count": 274,
   "metadata": {
    "collapsed": false,
    "format": "tab"
   },
   "outputs": [
    {
     "name": "stdout",
     "output_type": "stream",
     "text": [
      "LSPR peak wavelength vs hydrodynamic radius\n",
      "===============\n",
      "Exported to:\n",
      " graphics_dwl-LSPR-vs-Rh-rel_20160906.svg\n"
     ]
    },
    {
     "data": {
      "image/png": "[encoded data removed]",
      "text/plain": [
       "<matplotlib.figure.Figure at 0x183f8ffb978>"
      ]
     },
     "metadata": {},
     "output_type": "display_data"
    }
   ],
   "source": [
    "print('LSPR peak wavelength vs hydrodynamic radius')\n",
    "print('===============')\n",
    "def plotAndSave ():   \n",
    "    ## Input data\n",
    "    plotArray = lsprPeakArray[:,0:3:2]\n",
    "    x, y = plotArray[:,1], plotArray[:,0]\n",
    "    x0, y0 = [9.0], [wlPeakCorenm]\n",
    "    x1, y1 = x[:len(spectraTemps[0])], y[:len(spectraTemps[0])]\n",
    "    x2, y2 = x[len(spectraTemps[0])+1:len(spectraTemps[0])+len(spectraTemps[1])], y[len(spectraTemps[0])+1:len(spectraTemps[0])+len(spectraTemps[1])]\n",
    "    x3, y3 = x[len(spectraTemps[0])+len(spectraTemps[1])+1:], y[len(spectraTemps[0])+len(spectraTemps[1])+1:]\n",
    "    x1, x2, x3 = x1/max(x1), x2/max(x2), x3/max(x3)\n",
    "    x = np.concatenate((x1,x2,x3))\n",
    "    y1, y2, y3 = y1-y1[1], y2-y2[0], y3-y3[1]\n",
    "    y = np.concatenate((y1,y2,y3))\n",
    "    xLimits = [np.amin(x), np.amax(x)]\n",
    "    yLimits = [np.amin(y), np.amax(y)]\n",
    "    dx, dy = abs(xLimits[1]-xLimits[0]), abs(yLimits[1]-yLimits[0])\n",
    "    \n",
    "    ## Specific format options\n",
    "    pylab.plot(x1, y1, 'o', color='red', label=\"Thick\")\n",
    "    pylab.plot(x2, y2, 's', color='blue', label=\"Med.\")\n",
    "    pylab.plot(x3, y3, 'v', color='green', label=\"Thin\")\n",
    "    pylab.xlabel(\"$R_h/\\mathrm{max}(R_h)$\")\n",
    "    pylab.ylabel(\"LSPR peak shift (nm)\")\n",
    "    pylab.legend(loc='lower left', fontsize=12)\n",
    "    \n",
    "    ## General format options\n",
    "    aspectRatio = dx/dy\n",
    "    figWidthcm = 8.9\n",
    "    figSizein = [figWidthcm/2.54, aspectRatio*figWidthcm/2.54]\n",
    "    fig = pylab.figure(1, figsize=(figSizein[0],figSizein[1]))\n",
    "    pylab.subplot(111)\n",
    "    pylab.rcParams.update({'font.size': 14})\n",
    "    pylab.axes().set_aspect(aspectRatio)\n",
    "    pylab.xlim(xLimits[0]-0.05*dx, xLimits[1]+0.05*dx)\n",
    "    pylab.ylim(yLimits[0]-0.05*dy, yLimits[1]+0.05*dy)\n",
    "    pylab.locator_params(nbins=7)\n",
    "    \n",
    "    ## Save and display\n",
    "    timestamp = ('{:%Y%m%d}'.format(datetime.datetime.now()))\n",
    "    exportFormat = '.svg'\n",
    "    filename = \"graphics_\"+\"dwl-LSPR-vs-Rh-rel_\" + timestamp + exportFormat\n",
    "    pylab.savefig(filename, transparent=True)\n",
    "    print(\"Exported to:\\n\", filename)\n",
    "    pylab.show()\n",
    "    \n",
    "plotAndSave() \n"
   ]
  },
  {
   "cell_type": "code",
   "execution_count": 306,
   "metadata": {
    "collapsed": false,
    "format": "tab"
   },
   "outputs": [
    {
     "name": "stdout",
     "output_type": "stream",
     "text": [
      "LSPR peak wavelength vs hydrodynamic radius\n",
      "===============\n",
      "Exported to:\n",
      " graphics_dwl-LSPR-vs-Rh-rel_20160906.svg\n"
     ]
    },
    {
     "data": {
      "image/png": "[encoded data removed]",
      "text/plain": [
       "<matplotlib.figure.Figure at 0x183f8ffe4a8>"
      ]
     },
     "metadata": {},
     "output_type": "display_data"
    }
   ],
   "source": [
    "print('LSPR peak wavelength vs hydrodynamic radius')\n",
    "print('===============')\n",
    "def plotAndSave ():   \n",
    "    ## Input data\n",
    "    plotArray = lsprPeakArray[:,0:3:2]\n",
    "    x, y = plotArray[:,1], plotArray[:,0]\n",
    "    x0, y0 = [9.0], [wlPeakCorenm]\n",
    "    x1, y1 = x[:len(spectraTemps[0])], y[:len(spectraTemps[0])]\n",
    "    x2, y2 = x[len(spectraTemps[0])+1:len(spectraTemps[0])+len(spectraTemps[1])], y[len(spectraTemps[0])+1:len(spectraTemps[0])+len(spectraTemps[1])]\n",
    "    x3, y3 = x[len(spectraTemps[0])+len(spectraTemps[1])+1:], y[len(spectraTemps[0])+len(spectraTemps[1])+1:]\n",
    "    x1, x2, x3 = x1/max(x1), x2/max(x2), x3/max(x3)\n",
    "    x1, x2, x3 = x1**3, x2**3, x3**3\n",
    "    x = np.concatenate((x1,x2,x3))\n",
    "    y1, y2, y3 = y1-y1[1], y2-y2[0], y3-y3[1]\n",
    "    y = np.concatenate((y1,y2,y3))\n",
    "    xLimits = [np.amin(x), np.amax(x)]\n",
    "    yLimits = [np.amin(y), np.amax(y)]\n",
    "    dx, dy = abs(xLimits[1]-xLimits[0]), abs(yLimits[1]-yLimits[0])\n",
    "    \n",
    "    ## Specific format options\n",
    "    pylab.plot(x1, y1, 'o', color='red', label=\"Thick\")\n",
    "    pylab.plot(x2, y2, 's', color='blue', label=\"Med.\")\n",
    "    pylab.plot(x3, y3, 'v', color='green', label=\"Thin\")\n",
    "    pylab.xlabel(\"Relative total volume fraction\")\n",
    "    pylab.ylabel(\"LSPR peak shift (nm)\")\n",
    "    pylab.legend(loc='lower left', fontsize=12)\n",
    "    \n",
    "    ## General format options\n",
    "    aspectRatio = dx/dy\n",
    "    figWidthcm = 8.9\n",
    "    figSizein = [figWidthcm/2.54, aspectRatio*figWidthcm/2.54]\n",
    "    fig = pylab.figure(1, figsize=(figSizein[0],figSizein[1]))\n",
    "    pylab.subplot(111)\n",
    "    pylab.rcParams.update({'font.size': 14})\n",
    "    pylab.axes().set_aspect(aspectRatio)\n",
    "    pylab.xlim(xLimits[0]-0.05*dx, xLimits[1]+0.05*dx)\n",
    "    pylab.ylim(yLimits[0]-0.05*dy, yLimits[1]+0.05*dy)\n",
    "    pylab.locator_params(nbins=7)\n",
    "    \n",
    "    ## Save and display\n",
    "    timestamp = ('{:%Y%m%d}'.format(datetime.datetime.now()))\n",
    "    exportFormat = '.svg'\n",
    "    filename = \"graphics_\"+\"dwl-LSPR-vs-Rh-rel_\" + timestamp + exportFormat\n",
    "    pylab.savefig(filename, transparent=True)\n",
    "    print(\"Exported to:\\n\", filename)\n",
    "    pylab.show()\n",
    "    \n",
    "plotAndSave() \n"
   ]
  },
  {
   "cell_type": "code",
   "execution_count": 294,
   "metadata": {
    "collapsed": false,
    "format": "tab"
   },
   "outputs": [
    {
     "name": "stdout",
     "output_type": "stream",
     "text": [
      "LSPR peak wavelength vs hydrodynamic radius\n",
      "===============\n",
      "using a core radius of 8.5 nm\n"
     ]
    },
    {
     "data": {
      "image/png": "[encoded data removed]",
      "text/plain": [
       "<matplotlib.figure.Figure at 0x183fa9c39b0>"
      ]
     },
     "metadata": {},
     "output_type": "display_data"
    }
   ],
   "source": [
    "print('LSPR peak wavelength vs hydrodynamic radius')\n",
    "print('===============')\n",
    "print('using a core radius of 8.5 nm')\n",
    "rCorenm = 8.5\n",
    "def plotAndSave ():   \n",
    "    ## Input data\n",
    "    plotArray = lsprPeakArray[:,0:3:2]\n",
    "    x, y = plotArray[:,1], plotArray[:,0]\n",
    "    x0, y0 = [9.0], [wlPeakCorenm]\n",
    "    x1, y1 = x[:len(spectraTemps[0])], y[:len(spectraTemps[0])]\n",
    "    x2, y2 = x[len(spectraTemps[0])+1:len(spectraTemps[0])+len(spectraTemps[1])], y[len(spectraTemps[0])+1:len(spectraTemps[0])+len(spectraTemps[1])]\n",
    "    x3, y3 = x[len(spectraTemps[0])+len(spectraTemps[1])+1:], y[len(spectraTemps[0])+len(spectraTemps[1])+1:]\n",
    "    x1, x2, x3 = (x1-rCorenm)/(max(x1)-rCorenm), (x2-rCorenm)/(max(x2)-rCorenm), (x3-rCorenm)/(max(x3)-rCorenm)\n",
    "    x = np.concatenate((x1,x2,x3))\n",
    "    y1, y2, y3 = y1-y1[1], y2-y2[0], y3-y3[1]\n",
    "    y = np.concatenate((y1,y2,y3))\n",
    "    xLimits = [np.amin(x), np.amax(x)]\n",
    "    yLimits = [np.amin(y), np.amax(y)]\n",
    "    dx, dy = abs(xLimits[1]-xLimits[0]), abs(yLimits[1]-yLimits[0])\n",
    "    \n",
    "    ## Specific format options\n",
    "    pylab.plot(x1, y1, 'o', color='red', label=\"Thick\")\n",
    "    pylab.plot(x2, y2, 's', color='blue', label=\"Med.\")\n",
    "    pylab.plot(x3, y3, 'v', color='green', label=\"Thin\")\n",
    "    pylab.xlabel(\"Relative shell thickness\")\n",
    "    pylab.ylabel(\"LSPR peak shift (nm)\")\n",
    "    pylab.legend(loc='lower left', fontsize=12)\n",
    "    \n",
    "    ## General format options\n",
    "    aspectRatio = dx/dy\n",
    "    figWidthcm = 8.9\n",
    "    figSizein = [figWidthcm/2.54, aspectRatio*figWidthcm/2.54]\n",
    "    fig = pylab.figure(1, figsize=(figSizein[0],figSizein[1]))\n",
    "    pylab.subplot(111)\n",
    "    pylab.rcParams.update({'font.size': 14})\n",
    "    pylab.axes().set_aspect(aspectRatio)\n",
    "    pylab.xlim(xLimits[0]-0.05*dx, xLimits[1]+0.05*dx)\n",
    "    pylab.ylim(yLimits[0]-0.05*dy, yLimits[1]+0.05*dy)\n",
    "    pylab.locator_params(nbins=7)\n",
    "    \n",
    "    ## Save and display\n",
    "    timestamp = ('{:%Y%m%d}'.format(datetime.datetime.now()))\n",
    "    exportFormat = '.svg'\n",
    "    filename = \"graphics_\"+\"dwl-LSPR-vs-Rh-rel_\" + timestamp + exportFormat\n",
    "    #pylab.savefig(filename, transparent=True)\n",
    "    #print(\"Exported to:\\n\", filename)\n",
    "    pylab.show()\n",
    "    \n",
    "plotAndSave() \n"
   ]
  },
  {
   "cell_type": "code",
   "execution_count": 287,
   "metadata": {
    "collapsed": false,
    "format": "tab"
   },
   "outputs": [
    {
     "name": "stdout",
     "output_type": "stream",
     "text": [
      "LSPR peak wavelength vs hydrodynamic radius\n",
      "===============\n",
      "using a core radius of 8.5 nm\n"
     ]
    },
    {
     "data": {
      "image/png": "[encoded data removed]",
      "text/plain": [
       "<matplotlib.figure.Figure at 0x183f9059ef0>"
      ]
     },
     "metadata": {},
     "output_type": "display_data"
    }
   ],
   "source": [
    "print('LSPR peak wavelength vs hydrodynamic radius')\n",
    "print('===============')\n",
    "print('using a core radius of 8.5 nm')\n",
    "rCorenm = 8.5\n",
    "def plotAndSave ():   \n",
    "    ## Input data\n",
    "    plotArray = lsprPeakArray[:,0:3:2]\n",
    "    x, y = plotArray[:,1], plotArray[:,0]\n",
    "    x0, y0 = [9.0], [wlPeakCorenm]\n",
    "    x1, y1 = x[:len(spectraTemps[0])], y[:len(spectraTemps[0])]\n",
    "    x2, y2 = x[len(spectraTemps[0])+1:len(spectraTemps[0])+len(spectraTemps[1])], y[len(spectraTemps[0])+1:len(spectraTemps[0])+len(spectraTemps[1])]\n",
    "    x3, y3 = x[len(spectraTemps[0])+len(spectraTemps[1])+1:], y[len(spectraTemps[0])+len(spectraTemps[1])+1:]\n",
    "    x1, x2, x3 = (x1-rCorenm)/(max(x1)-rCorenm), (x2-rCorenm)/(max(x2)-rCorenm), (x3-rCorenm)/(max(x3)-rCorenm)\n",
    "    x1, x2, x3 = x1**3, x2**3, x3**3\n",
    "    x = np.concatenate((x1,x2,x3))\n",
    "    y1, y2, y3 = y1-y1[1], y2-y2[0], y3-y3[1]\n",
    "    y = np.concatenate((y1,y2,y3))\n",
    "    xLimits = [np.amin(x), np.amax(x)]\n",
    "    yLimits = [np.amin(y), np.amax(y)]\n",
    "    dx, dy = abs(xLimits[1]-xLimits[0]), abs(yLimits[1]-yLimits[0])\n",
    "    \n",
    "    ## Specific format options\n",
    "    pylab.plot(x1, y1, 'o', color='red', label=\"Thick\")\n",
    "    pylab.plot(x2, y2, 's', color='blue', label=\"Med.\")\n",
    "    pylab.plot(x3, y3, 'v', color='green', label=\"Thin\")\n",
    "    pylab.xlabel(\"Relative shell volume fraction\")\n",
    "    pylab.ylabel(\"LSPR peak shift (nm)\")\n",
    "    pylab.legend(loc='lower left', fontsize=12)\n",
    "    \n",
    "    ## General format options\n",
    "    aspectRatio = dx/dy\n",
    "    figWidthcm = 8.9\n",
    "    figSizein = [figWidthcm/2.54, aspectRatio*figWidthcm/2.54]\n",
    "    fig = pylab.figure(1, figsize=(figSizein[0],figSizein[1]))\n",
    "    pylab.subplot(111)\n",
    "    pylab.rcParams.update({'font.size': 14})\n",
    "    pylab.axes().set_aspect(aspectRatio)\n",
    "    pylab.xlim(xLimits[0]-0.05*dx, xLimits[1]+0.05*dx)\n",
    "    pylab.ylim(yLimits[0]-0.05*dy, yLimits[1]+0.05*dy)\n",
    "    pylab.locator_params(nbins=7)\n",
    "    \n",
    "    ## Save and display\n",
    "    timestamp = ('{:%Y%m%d}'.format(datetime.datetime.now()))\n",
    "    exportFormat = '.svg'\n",
    "    filename = \"graphics_\"+\"dwl-LSPR-vs-Rh-rel_\" + timestamp + exportFormat\n",
    "    #pylab.savefig(filename, transparent=True)\n",
    "    #print(\"Exported to:\\n\", filename)\n",
    "    pylab.show()\n",
    "    \n",
    "plotAndSave() \n"
   ]
  },
  {
   "cell_type": "markdown",
   "metadata": {},
   "source": [
    "## 4.3 Mie theory for peak LSPR of Au NP in homogeneous medium"
   ]
  },
  {
   "cell_type": "markdown",
   "metadata": {},
   "source": [
    "Medium has refractive index $n_{\\mathrm{med}}$."
   ]
  },
  {
   "cell_type": "code",
   "execution_count": 296,
   "metadata": {
    "collapsed": false,
    "format": "tab"
   },
   "outputs": [
    {
     "name": "stdout",
     "output_type": "stream",
     "text": [
      "Set parameter limits for computation\n",
      "====================================\n",
      "Highest pole = 2 , max est. err. =  0.091 %\n",
      "Actual parameter ranges:\n",
      "  core radius: 8.5 nm\n",
      "  refractive index: [1.3, 1.5500000000000003] x 0.01\n",
      "  vacuum wavelength (nm): [450, 598.5] x 1.5\n",
      "Number of simulation instances =  2600\n",
      "  running on 2 processors\n",
      "  estimated 0.000 ms per instance\n",
      "Estimated run time =  0.000 sec\n"
     ]
    }
   ],
   "source": [
    "print(\"Set parameter limits for computation\")\n",
    "print(\"====================================\")\n",
    "\n",
    "# parameter limits\n",
    "rCorenm = 8.5\n",
    "nmedMin, nmedMax, dnmed = 1.3, 1.555, 0.01\n",
    "wl0Minnm, wl0Maxnm, dwl0nm = 450, 600, 1.5\n",
    "lmax = 2\n",
    "\n",
    "# check for lmax convergence\n",
    "lmaxConvergeTable = []\n",
    "startSec = time.time()\n",
    "for nmed in [nmedMin, nmedMax]:\n",
    "    result = mie_local.CextRelDipEMList(mie_local.CextEMListAu(lmax, rCorenm, nmed, wl0Minnm))\n",
    "    lmaxConvergeTable.append(result[0])\n",
    "    lmaxConvergeTable.append(result[1])\n",
    "endSec = time.time()\n",
    "print(\"Highest pole =\",lmax,\", max est. err. = \", format(100*max(lmaxConvergeTable), '.3f'),\"%\")\n",
    "dtSec = endSec - startSec\n",
    "cpuTimeSec = dtSec/2\n",
    "\n",
    "nmedList = np.arange(nmedMin, nmedMax, dnmed)\n",
    "nmedMax = np.amax(nmedList)\n",
    "wl0Listnm = np.arange(wl0Minnm, wl0Maxnm, dwl0nm)\n",
    "wl0Maxnm = np.amax(wl0Listnm)\n",
    "print(\"Actual parameter ranges:\")\n",
    "print(\"  core radius:\",rCorenm,\"nm\")\n",
    "print(\"  refractive index:\",[nmedMin, nmedMax],\"x\",dnmed)\n",
    "print(\"  vacuum wavelength (nm):\",[wl0Minnm, wl0Maxnm],\"x\",dwl0nm)\n",
    "\n",
    "# contruct parameter list\n",
    "paramList = []\n",
    "for nmed in nmedList:\n",
    "    for wl0nm in wl0Listnm:\n",
    "        paramList.append([nmed, wl0nm])\n",
    "paramArray = np.asarray(paramList)\n",
    "Nsims = paramArray.shape[0]\n",
    "print(\"Number of simulation instances = \", Nsims)\n",
    "nProcs = nKernels\n",
    "if nProcs == 0: nProcs = 1\n",
    "print(\"  running on\",nProcs,\"processors\")\n",
    "print(\"  estimated\",format(cpuTimeSec*1e3, '.3f'),\"ms per instance\")\n",
    "print(\"Estimated run time = \",format(cpuTimeSec*Nsims/nProcs, '.3f'),\"sec\")"
   ]
  },
  {
   "cell_type": "code",
   "execution_count": 297,
   "metadata": {
    "collapsed": false,
    "format": "tab"
   },
   "outputs": [
    {
     "name": "stdout",
     "output_type": "stream",
     "text": [
      "Compute extinction spectra, parallel kernels\n",
      "============================================\n",
      "Computing ... done\n",
      "Run time =  0.547 sec\n",
      "Time per simulation instance =  0.421 ms\n",
      "Return format: [ wl-nm, nmed, CExt-nm2, CAbs-nm2, CSca-nm2 ]\n"
     ]
    }
   ],
   "source": [
    "# Compute extinction cross section\n",
    "print(\"Compute extinction spectra, parallel kernels\")\n",
    "print(\"============================================\")\n",
    "# return: vacuum wavelength (nm), \n",
    "#         refractive index, \n",
    "#         total scattering efficiency\n",
    "#         total absorption efficiency\n",
    "#         total extinction efficiency\n",
    "def calcAtom(params):\n",
    "    [nmed, wl0nm] = params\n",
    "    [Cext,Cabs,Csca] = mie_local.CExtAbsScaAu(lmax, rCorenm, nmed, wl0nm)\n",
    "    return [wl0nm, nmed, Cext,Cabs,Csca]\n",
    "\n",
    "# distribute atom definition to parallel kernels\n",
    "cluster.push(dict(\n",
    "        lmax = lmax,\n",
    "        rCorenm = rCorenm,\n",
    "        calcAtom = calcAtom\n",
    "    ))\n",
    "\n",
    "# Loop over parameters\n",
    "print(\"Computing ... \", end=\"\")\n",
    "startSec = time.time()\n",
    "spectraAuLSPRList = list(cluster.map_sync(calcAtom, paramArray))\n",
    "endSec = time.time()\n",
    "print(\"done\")\n",
    "dtSec = endSec - startSec\n",
    "spectraAuLSPRArray = np.asarray(spectraAuLSPRList)\n",
    "Ncalcs = spectraAuLSPRArray.shape[0]\n",
    "print(\"Run time = \", format(dtSec, '.3f'),\"sec\")\n",
    "print(\"Time per simulation instance = \", format(1000*dtSec*nProcs/Ncalcs, '.3f'),\"ms\")\n",
    "print(\"Return format: [ wl-nm, nmed, CExt-nm2, CAbs-nm2, CSca-nm2 ]\")"
   ]
  },
  {
   "cell_type": "code",
   "execution_count": 298,
   "metadata": {
    "collapsed": false,
    "format": "tab"
   },
   "outputs": [
    {
     "name": "stdout",
     "output_type": "stream",
     "text": [
      "Sample spectrum\n",
      "===============\n"
     ]
    },
    {
     "data": {
      "image/png": "[encoded data removed]",
      "text/plain": [
       "<matplotlib.figure.Figure at 0x183f9053390>"
      ]
     },
     "metadata": {},
     "output_type": "display_data"
    }
   ],
   "source": [
    "print('Sample spectrum')\n",
    "print('===============')\n",
    "def plotAndSave ():   \n",
    "    ## Input data\n",
    "    nmed = nmedList[0]\n",
    "    \n",
    "    sortBynmed = spectraAuLSPRArray[:,1] == nmed\n",
    "    plotArray = spectraAuLSPRArray[sortBynmed]\n",
    "    x, y = plotArray[:,0], plotArray[:,2]\n",
    "    y = y/np.amax(y)\n",
    "    xLimits = [np.amin(x), np.amax(x)]\n",
    "    yLimits = [np.amin(y)-np.amax(y)*.05, np.amax(y)*1.05]\n",
    "    dx, dy = abs(xLimits[1]-xLimits[0]), abs(yLimits[1]-yLimits[0])\n",
    "    \n",
    "    ## Specific format options\n",
    "    pylab.plot(x, y, color='black', linewidth=2, label=\"+PNIPAM\")\n",
    "    pylab.xlabel(\"Wavelength (nm)\")\n",
    "    pylab.ylabel(\"Extinction (Normalized)\")\n",
    "    figText = ('$n_{\\mathrm{med}}=$'+str(format(nmed,'.2f')))\n",
    "    pylab.text(xLimits[0]+0.025*dx, yLimits[0]+0.025*dy, figText, verticalalignment='bottom', horizontalalignment='left')\n",
    "    \n",
    "    ## General format options\n",
    "    aspectRatio = dx/dy\n",
    "    figWidthcm = 8.9\n",
    "    figSizein = [figWidthcm/2.54, aspectRatio*figWidthcm/2.54]\n",
    "    fig = pylab.figure(1, figsize=(figSizein[0],figSizein[1]))\n",
    "    pylab.subplot(111)\n",
    "    pylab.rcParams.update({'font.size': 14})\n",
    "    pylab.axes().set_aspect(aspectRatio)\n",
    "    pylab.xlim(xLimits[0], xLimits[1])\n",
    "    pylab.ylim(yLimits[0], yLimits[1])\n",
    "    pylab.locator_params(nbins=7)\n",
    "    \n",
    "    ## Save and display\n",
    "    timestamp = ('{:%Y%m%d}'.format(datetime.datetime.now()))\n",
    "    exportFormat = '.svg'\n",
    "    filename = \"graphics_\"+\"sample-spectrum_\" + timestamp + exportFormat\n",
    "    #pylab.savefig(filename, transparent=True)\n",
    "    #print(\"Exported to:\\n\", filename)\n",
    "    pylab.show()\n",
    "    \n",
    "plotAndSave() \n"
   ]
  },
  {
   "cell_type": "code",
   "execution_count": 299,
   "metadata": {
    "collapsed": false,
    "format": "tab"
   },
   "outputs": [
    {
     "name": "stdout",
     "output_type": "stream",
     "text": [
      "LSPR analysis\n",
      "=============\n",
      "Peak detection\n",
      "  * output array format: [ nmed, wl-nm ]\n",
      "  * LSPR peak min/max at ( 521.3 nm, 536.7 nm )\n"
     ]
    }
   ],
   "source": [
    "print(\"LSPR analysis\")\n",
    "print(\"=============\")\n",
    "print(\"Peak detection\")\n",
    "threshold = 0.25\n",
    "\n",
    "lsprMiePeakList = []\n",
    "for nmed in nmedList:\n",
    "    sortByRI = spectraAuLSPRArray[:,1] == nmed\n",
    "    dataSubArray = spectraAuLSPRArray[sortByRI]\n",
    "    if dataSubArray.size > 0:\n",
    "        x, y = dataSubArray[:,0], dataSubArray[:,2]\n",
    "        base = peakutils.baseline(y,2)\n",
    "        yCorr = y - base\n",
    "        indexes = peakutils.indexes(y, thres=threshold, min_dist=10)\n",
    "        indexesCorr = peakutils.indexes(yCorr, thres=threshold, min_dist=10)\n",
    "        if indexes.size > 0: \n",
    "            if indexes.size > 1: indexes = [indexes[-1]]\n",
    "            wlPeaknm = peakutils.interpolate(x, y, ind=indexes)\n",
    "            lsprMiePeakList.append([ nmed, wlPeaknm[0] ])\n",
    "lsprMiePeakArray = np.asarray(lsprMiePeakList)\n",
    "print(\"  * output array format: [ nmed, wl-nm ]\")\n",
    "print(\"  * LSPR peak min/max at (\",format(np.amin(lsprMiePeakArray[:,1]),'.1f'),\"nm,\",format(np.amax(lsprMiePeakArray[:,1]),'.1f'),\"nm )\")"
   ]
  },
  {
   "cell_type": "code",
   "execution_count": 300,
   "metadata": {
    "collapsed": false,
    "format": "tab"
   },
   "outputs": [
    {
     "name": "stdout",
     "output_type": "stream",
     "text": [
      "LSPR Peak wavelength\n",
      "====================\n",
      "Core radius = 8 nm\n",
      "Exported to:\n",
      " graphics_lspr-wl-nm-vs-nmed_20160906.svg\n"
     ]
    },
    {
     "data": {
      "image/png": "[encoded data removed]",
      "text/plain": [
       "<matplotlib.figure.Figure at 0x183f90d8dd8>"
      ]
     },
     "metadata": {},
     "output_type": "display_data"
    }
   ],
   "source": [
    "print('LSPR Peak wavelength')\n",
    "print('====================')\n",
    "print('Core radius =',str(int(rCorenm)),\"nm\")\n",
    "def plotAndSave ():   \n",
    "    ## Input data\n",
    "    plotArray = lsprMiePeakArray\n",
    "    x, y = plotArray[:,0], plotArray[:,1]\n",
    "    xLimits = [np.amin(x), np.amax(x)]\n",
    "    yLimits = [np.amin(y), np.amax(y)]\n",
    "    dx, dy = abs(xLimits[1]-xLimits[0]), abs(yLimits[1]-yLimits[0])\n",
    "    \n",
    "    ## Specific format options\n",
    "    pylab.plot(x, y, color='black', linewidth=2, label=\"LSPR\")\n",
    "    pylab.xlabel(\"Medium refractive index\")\n",
    "    pylab.ylabel(\"LSPR peak wavelength (nm)\")\n",
    "    \n",
    "    ## General format options\n",
    "    aspectRatio = dx/dy\n",
    "    figWidthcm = 8.9\n",
    "    figSizein = [figWidthcm/2.54, aspectRatio*figWidthcm/2.54]\n",
    "    fig = pylab.figure(1, figsize=(figSizein[0],figSizein[1]))\n",
    "    pylab.subplot(111)\n",
    "    pylab.rcParams.update({'font.size': 14})\n",
    "    pylab.axes().set_aspect(aspectRatio)\n",
    "    pylab.xlim(xLimits[0]-.05*dx, xLimits[1]+.05*dx)\n",
    "    pylab.ylim(yLimits[0]-.05*dy, yLimits[1]+.05*dy)\n",
    "    pylab.locator_params(nbins=7)\n",
    "    \n",
    "    ## Save and display\n",
    "    timestamp = ('{:%Y%m%d}'.format(datetime.datetime.now()))\n",
    "    exportFormat = '.svg'\n",
    "    filename = \"graphics_\"+\"lspr-wl-nm-vs-nmed_\" + timestamp + exportFormat\n",
    "    pylab.savefig(filename, transparent=True)\n",
    "    print(\"Exported to:\\n\", filename)\n",
    "    pylab.show()\n",
    "    \n",
    "plotAndSave() \n"
   ]
  },
  {
   "cell_type": "code",
   "execution_count": 301,
   "metadata": {
    "collapsed": false,
    "format": "tab"
   },
   "outputs": [
    {
     "name": "stdout",
     "output_type": "stream",
     "text": [
      "Near-field refractive index vs hydrodynamic radius\n",
      "===============\n",
      "Exported to:\n",
      " graphics_wl-LSPR-vs-Rh_20160906.svg\n"
     ]
    },
    {
     "data": {
      "image/png": "[encoded data removed]",
      "text/plain": [
       "<matplotlib.figure.Figure at 0x183fab0d4a8>"
      ]
     },
     "metadata": {},
     "output_type": "display_data"
    }
   ],
   "source": [
    "nmedOfMieLSPRnm = interpolate.interp1d(lsprMiePeakArray[:,1], lsprMiePeakArray[:,0], kind=\"cubic\")\n",
    "lsprPeaknmedArray = np.asarray(list(map(nmedOfMieLSPRnm, lsprPeakArray[:,0])))\n",
    "\n",
    "print('Near-field refractive index vs hydrodynamic radius')\n",
    "print('===============')\n",
    "def plotAndSave ():   \n",
    "    ## Input data\n",
    "    plotArray = lsprPeakArray[:,0:3:2]\n",
    "    x, y = plotArray[:,1], lsprPeaknmedArray\n",
    "    xLimits = [np.amin(x), np.amax(x)]\n",
    "    yLimits = [np.amin(y), np.amax(y)]\n",
    "    dx, dy = abs(xLimits[1]-xLimits[0]), abs(yLimits[1]-yLimits[0])\n",
    "    x1, y1 = x[:len(spectraTemps[0])], y[:len(spectraTemps[0])]\n",
    "    x2, y2 = x[len(spectraTemps[0])+1:len(spectraTemps[0])+len(spectraTemps[1])], y[len(spectraTemps[0])+1:len(spectraTemps[0])+len(spectraTemps[1])]\n",
    "    x3, y3 = x[len(spectraTemps[0])+len(spectraTemps[1])+1:], y[len(spectraTemps[0])+len(spectraTemps[1])+1:]\n",
    "    \n",
    "    ## Specific format options\n",
    "    pylab.plot(x1, y1, 'o', color='red', label=\"Thick\")\n",
    "    pylab.plot(x2, y2, 'o', color='blue', label=\"Med.\")\n",
    "    pylab.plot(x3, y3, 'o', color='green', label=\"Thin\")\n",
    "    pylab.ylabel(\"Effective refractive index\")\n",
    "    pylab.xlabel(\"Hydrodynamic radius (nm)\")\n",
    "    pylab.legend(loc='lower right', fontsize=12)\n",
    "    \n",
    "    ## General format options\n",
    "    aspectRatio = dx/dy\n",
    "    figWidthcm = 8.9\n",
    "    figSizein = [figWidthcm/2.54, aspectRatio*figWidthcm/2.54]\n",
    "    fig = pylab.figure(1, figsize=(figSizein[0],figSizein[1]))\n",
    "    pylab.subplot(111)\n",
    "    pylab.rcParams.update({'font.size': 14})\n",
    "    pylab.axes().set_aspect(aspectRatio)\n",
    "    pylab.xlim(xLimits[0]-0.05*dx, xLimits[1]+0.05*dx)\n",
    "    pylab.ylim(yLimits[0]-0.05*dy, yLimits[1]+0.05*dy)\n",
    "    pylab.locator_params(nbins=7)\n",
    "    \n",
    "    ## Save and display\n",
    "    timestamp = ('{:%Y%m%d}'.format(datetime.datetime.now()))\n",
    "    exportFormat = '.svg'\n",
    "    filename = \"graphics_\"+\"wl-LSPR-vs-Rh_\" + timestamp + exportFormat\n",
    "    pylab.savefig(filename, transparent=True)\n",
    "    print(\"Exported to:\\n\", filename)\n",
    "    pylab.show()\n",
    "    \n",
    "plotAndSave() \n"
   ]
  },
  {
   "cell_type": "code",
   "execution_count": 302,
   "metadata": {
    "collapsed": false,
    "format": "tab"
   },
   "outputs": [
    {
     "name": "stdout",
     "output_type": "stream",
     "text": [
      "Polymer volume fraction vs hydrodynamic radius\n",
      "===============\n",
      "Estimated from effective/near-field refractive index\n",
      "Refractive index converted to volume fraction using simple model from Arago and Biot\n",
      "Using PNIPAM n = 1.51 , and water n = 1.3356706385047694\n",
      "Exported to:\n",
      " graphics_vol-frac-vs-Rh_20160906.svg\n"
     ]
    },
    {
     "data": {
      "image/png": "[encoded data removed]",
      "text/plain": [
       "<matplotlib.figure.Figure at 0x183f734c278>"
      ]
     },
     "metadata": {},
     "output_type": "display_data"
    }
   ],
   "source": [
    "nmedOfMieLSPRnm = interpolate.interp1d(lsprMiePeakArray[:,1], lsprMiePeakArray[:,0], kind=\"cubic\")\n",
    "nPNIPAM = 1.51\n",
    "nSolv = np.real(ri.nH2O(525))\n",
    "lsprPeaknmedArray = np.asarray(list(map(nmedOfMieLSPRnm, lsprPeakArray[:,0])))\n",
    "volFracArray = (lsprPeaknmedArray - nSolv)/(nPNIPAM-nSolv)\n",
    "\n",
    "print('Polymer volume fraction vs hydrodynamic radius')\n",
    "print('===============')\n",
    "print('Estimated from effective/near-field refractive index')\n",
    "print('Refractive index converted to volume fraction using simple model from Arago and Biot')\n",
    "print('Using PNIPAM n =', nPNIPAM, ', and water n =', nSolv)\n",
    "def plotAndSave ():   \n",
    "    ## Input data\n",
    "    plotArray = lsprPeakArray\n",
    "    x, y = plotArray[:,2], 100*volFracArray\n",
    "    xLimits = [np.amin(x), np.amax(x)]\n",
    "    yLimits = [np.amin(y), np.amax(y)]\n",
    "    dx, dy = abs(xLimits[1]-xLimits[0]), abs(yLimits[1]-yLimits[0])\n",
    "    x1, y1 = x[:len(spectraTemps[0])], y[:len(spectraTemps[0])]\n",
    "    x2, y2 = x[len(spectraTemps[0])+1:len(spectraTemps[0])+len(spectraTemps[1])], y[len(spectraTemps[0])+1:len(spectraTemps[0])+len(spectraTemps[1])]\n",
    "    x3, y3 = x[len(spectraTemps[0])+len(spectraTemps[1])+1:], y[len(spectraTemps[0])+len(spectraTemps[1])+1:]\n",
    "    \n",
    "    ## Specific format options\n",
    "    pylab.plot(x1, y1, 'o', color='red', label=\"Thick\")\n",
    "    pylab.plot(x2, y2, 'o', color='blue', label=\"Med.\")\n",
    "    pylab.plot(x3, y3, 'o', color='green', label=\"Thin\")\n",
    "    pylab.ylabel(\"Polymer volume fraction (%)\")\n",
    "    pylab.xlabel(\"Hydrodynamic radius (nm)\")\n",
    "    pylab.legend(loc='lower right', fontsize=12)\n",
    "    \n",
    "    ## General format options\n",
    "    aspectRatio = dx/dy\n",
    "    figWidthcm = 8.9\n",
    "    figSizein = [figWidthcm/2.54, aspectRatio*figWidthcm/2.54]\n",
    "    fig = pylab.figure(1, figsize=(figSizein[0],figSizein[1]))\n",
    "    pylab.subplot(111)\n",
    "    pylab.rcParams.update({'font.size': 14})\n",
    "    pylab.axes().set_aspect(aspectRatio)\n",
    "    pylab.xlim(xLimits[0]-0.05*dx, xLimits[1]+0.05*dx)\n",
    "    pylab.ylim(yLimits[0]-0.05*dy, yLimits[1]+0.05*dy)\n",
    "    pylab.locator_params(nbins=7)\n",
    "    \n",
    "    ## Save and display\n",
    "    timestamp = ('{:%Y%m%d}'.format(datetime.datetime.now()))\n",
    "    exportFormat = '.svg'\n",
    "    filename = \"graphics_\"+\"vol-frac-vs-Rh_\" + timestamp + exportFormat\n",
    "    pylab.savefig(filename, transparent=True)\n",
    "    print(\"Exported to:\\n\", filename)\n",
    "    pylab.show()\n",
    "    \n",
    "plotAndSave() \n"
   ]
  },
  {
   "cell_type": "code",
   "execution_count": 303,
   "metadata": {
    "collapsed": false,
    "format": "tab"
   },
   "outputs": [
    {
     "name": "stdout",
     "output_type": "stream",
     "text": [
      "Grafting density vs hydrodynamic radius\n",
      "===============\n",
      "Estimated from effective/near-field refractive index\n",
      "At the surface the volume fraction = surface area fraction\n",
      "Using PNIPAM n = 1.51 , and water n = 1.3356706385047694\n",
      "Single polymer cross section = 0.19 nm^2\n",
      "Exported to:\n",
      " graphics_vol-frac-vs-Rh_20160906.svg\n"
     ]
    },
    {
     "data": {
      "image/png": "[encoded data removed]",
      "text/plain": [
       "<matplotlib.figure.Figure at 0x183f734cfd0>"
      ]
     },
     "metadata": {},
     "output_type": "display_data"
    }
   ],
   "source": [
    "nmedOfMieLSPRnm = interpolate.interp1d(lsprMiePeakArray[:,1], lsprMiePeakArray[:,0], kind=\"cubic\")\n",
    "nPNIPAM = 1.51\n",
    "nSolv = np.real(ri.nH2O(525))\n",
    "lsprPeaknmedArray = np.asarray(list(map(nmedOfMieLSPRnm, lsprPeakArray[:,0])))\n",
    "volFracArray = (lsprPeaknmedArray - nSolv)/(nPNIPAM-nSolv)\n",
    "segVolnm3, segLnm = 0.095, 0.5 # Taken from Tagliazucchi et al 2012, http://dx.doi.org/10.1021/nn303221y\n",
    "segAnm2 = segVolnm3/segLnm\n",
    "graftingDensityArray = volFracArray/segAnm2\n",
    "\n",
    "print('Grafting density vs hydrodynamic radius')\n",
    "print('===============')\n",
    "print('Estimated from effective/near-field refractive index')\n",
    "print('At the surface the volume fraction = surface area fraction')\n",
    "print('Using PNIPAM n =', nPNIPAM, ', and water n =', nSolv)\n",
    "print('Single polymer cross section =',segAnm2,\"nm^2\")\n",
    "def plotAndSave ():   \n",
    "    ## Input data\n",
    "    plotArray = lsprPeakArray\n",
    "    x, y = plotArray[:,2], graftingDensityArray\n",
    "    xLimits = [np.amin(x), np.amax(x)]\n",
    "    yLimits = [np.amin(y), np.amax(y)]\n",
    "    dx, dy = abs(xLimits[1]-xLimits[0]), abs(yLimits[1]-yLimits[0])\n",
    "    x1, y1 = x[:len(spectraTemps[0])], y[:len(spectraTemps[0])]\n",
    "    x2, y2 = x[len(spectraTemps[0])+1:len(spectraTemps[0])+len(spectraTemps[1])], y[len(spectraTemps[0])+1:len(spectraTemps[0])+len(spectraTemps[1])]\n",
    "    x3, y3 = x[len(spectraTemps[0])+len(spectraTemps[1])+1:], y[len(spectraTemps[0])+len(spectraTemps[1])+1:]\n",
    "    \n",
    "    ## Specific format options\n",
    "    pylab.plot(x1, y1, 'o', color='red', label=\"Thick\")\n",
    "    pylab.plot(x2, y2, 'o', color='blue', label=\"Med.\")\n",
    "    pylab.plot(x3, y3, 'o', color='green', label=\"Thin\")\n",
    "    pylab.ylabel(\"Grafting density (nm$^{-2}$)\")\n",
    "    pylab.xlabel(\"Hydrodynamic radius (nm)\")\n",
    "    pylab.legend(loc='lower right', fontsize=12)\n",
    "    \n",
    "    ## General format options\n",
    "    aspectRatio = dx/dy\n",
    "    figWidthcm = 8.9\n",
    "    figSizein = [figWidthcm/2.54, aspectRatio*figWidthcm/2.54]\n",
    "    fig = pylab.figure(1, figsize=(figSizein[0],figSizein[1]))\n",
    "    pylab.subplot(111)\n",
    "    pylab.rcParams.update({'font.size': 14})\n",
    "    pylab.axes().set_aspect(aspectRatio)\n",
    "    pylab.xlim(xLimits[0]-0.05*dx, xLimits[1]+0.05*dx)\n",
    "    pylab.ylim(yLimits[0]-0.05*dy, yLimits[1]+0.05*dy)\n",
    "    pylab.locator_params(nbins=7)\n",
    "    \n",
    "    ## Save and display\n",
    "    timestamp = ('{:%Y%m%d}'.format(datetime.datetime.now()))\n",
    "    exportFormat = '.svg'\n",
    "    filename = \"graphics_\"+\"vol-frac-vs-Rh_\" + timestamp + exportFormat\n",
    "    pylab.savefig(filename, transparent=True)\n",
    "    print(\"Exported to:\\n\", filename)\n",
    "    pylab.show()\n",
    "    \n",
    "plotAndSave() \n"
   ]
  },
  {
   "cell_type": "markdown",
   "metadata": {},
   "source": [
    "Slightly more complicated model for the grafting density using the DLS shell thickness:  \n",
    "Each polymer chain occupies the volume $v_p = A_p t$, where $A_p$ is the cross sectional area, estimated to be $A_p = 0.19 \\mathrm{nm}^2$ (Tagliazucchi et al, 2012); and $t = R_h - R_{\\mathrm{core}}$ is the shell thickness computed from the DLS data. Then the volume occupied by all polymer chains is $V_p = N A_p t$, where $N$ is the number of chains. The number of chains is related to the grafting density $\\sigma$ by $N = \\sigma\\times 4\\pi R_{\\mathrm{core}}^2$. With a total shell volume $V_{\\mathrm{shell}} = \\frac43 \\pi \\left(R_h^3-R_{\\mathrm{core}}^3\\right)$, the grafting density can be computed from the volume fraction $\\phi$ \n",
    "$$ \\sigma = \\phi \\frac{\\frac43\\pi (R_h^3 - R_{\\mathrm{core}}^3)}{A_p (R_h - R_{\\mathrm{core}})\\,4\\pi R_{\\mathrm{core}}^2}$$"
   ]
  },
  {
   "cell_type": "code",
   "execution_count": 304,
   "metadata": {
    "collapsed": false,
    "format": "tab"
   },
   "outputs": [
    {
     "name": "stdout",
     "output_type": "stream",
     "text": [
      "Grafting density vs hydrodynamic radius\n",
      "===============\n",
      "Estimated from effective/near-field refractive index\n",
      "At the surface the volume fraction = surface area fraction\n",
      "Using PNIPAM n = 1.51 , and water n = 1.3356706385047694\n",
      "Single polymer cross section = 0.19 nm^2\n",
      "Core radius = 8.5 nm\n",
      "Exported to:\n",
      " graphics_vol-frac-vs-Rh_20160906.svg\n"
     ]
    },
    {
     "data": {
      "image/png": "[encoded data removed]",
      "text/plain": [
       "<matplotlib.figure.Figure at 0x183f8d9c0f0>"
      ]
     },
     "metadata": {},
     "output_type": "display_data"
    }
   ],
   "source": [
    "nmedOfMieLSPRnm = interpolate.interp1d(lsprMiePeakArray[:,1], lsprMiePeakArray[:,0], kind=\"cubic\")\n",
    "nPNIPAM = 1.51\n",
    "nSolv = np.real(ri.nH2O(525))\n",
    "lsprPeaknmedArray = np.asarray(list(map(nmedOfMieLSPRnm, lsprPeakArray[:,0])))\n",
    "volFracArray = (lsprPeaknmedArray - nSolv)/(nPNIPAM-nSolv)\n",
    "segVolnm3, segLnm = 0.095, 0.5 # Taken from Tagliazucchi et al 2012, http://dx.doi.org/10.1021/nn303221y\n",
    "segAnm2 = segVolnm3/segLnm\n",
    "RhnmArray = lsprPeakArray[:,2]\n",
    "shellVolnm3Array = (4/3)*pi*(RhnmArray**3-rCorenm**3)\n",
    "graftingDensityArray = volFracArray*shellVolnm3Array/(segAnm2*(RhnmArray-rCorenm)*4*pi*rCorenm**2)\n",
    "\n",
    "print('Grafting density vs hydrodynamic radius')\n",
    "print('===============')\n",
    "print('Estimated from effective/near-field refractive index')\n",
    "print('At the surface the volume fraction = surface area fraction')\n",
    "print('Using PNIPAM n =', nPNIPAM, ', and water n =', nSolv)\n",
    "print('Single polymer cross section =',segAnm2,\"nm^2\")\n",
    "print('Core radius =',rCorenm,\"nm\")\n",
    "def plotAndSave ():   \n",
    "    ## Input data\n",
    "    x, y = RhnmArray, graftingDensityArray\n",
    "    xLimits = [np.amin(x), np.amax(x)]\n",
    "    yLimits = [np.amin(y), np.amax(y)]\n",
    "    dx, dy = abs(xLimits[1]-xLimits[0]), abs(yLimits[1]-yLimits[0])\n",
    "    x1, y1 = x[:len(spectraTemps[0])], y[:len(spectraTemps[0])]\n",
    "    x2, y2 = x[len(spectraTemps[0])+1:len(spectraTemps[0])+len(spectraTemps[1])], y[len(spectraTemps[0])+1:len(spectraTemps[0])+len(spectraTemps[1])]\n",
    "    x3, y3 = x[len(spectraTemps[0])+len(spectraTemps[1])+1:], y[len(spectraTemps[0])+len(spectraTemps[1])+1:]\n",
    "    \n",
    "    ## Specific format options\n",
    "    pylab.plot(x1, y1, 'o', color='red', label=\"Thick\")\n",
    "    pylab.plot(x2, y2, 'o', color='blue', label=\"Med.\")\n",
    "    pylab.plot(x3, y3, 'o', color='green', label=\"Thin\")\n",
    "    pylab.ylabel(\"Grafting density (nm$^{-2}$)\")\n",
    "    pylab.xlabel(\"Hydrodynamic radius (nm)\")\n",
    "    pylab.legend(loc='lower right', fontsize=12)\n",
    "    \n",
    "    ## General format options\n",
    "    aspectRatio = dx/dy\n",
    "    figWidthcm = 8.9\n",
    "    figSizein = [figWidthcm/2.54, aspectRatio*figWidthcm/2.54]\n",
    "    fig = pylab.figure(1, figsize=(figSizein[0],figSizein[1]))\n",
    "    pylab.subplot(111)\n",
    "    pylab.rcParams.update({'font.size': 14})\n",
    "    pylab.axes().set_aspect(aspectRatio)\n",
    "    pylab.xlim(xLimits[0]-0.05*dx, xLimits[1]+0.05*dx)\n",
    "    pylab.ylim(yLimits[0]-0.05*dy, yLimits[1]+0.05*dy)\n",
    "    pylab.locator_params(nbins=7)\n",
    "    \n",
    "    ## Save and display\n",
    "    timestamp = ('{:%Y%m%d}'.format(datetime.datetime.now()))\n",
    "    exportFormat = '.svg'\n",
    "    filename = \"graphics_\"+\"vol-frac-vs-Rh_\" + timestamp + exportFormat\n",
    "    pylab.savefig(filename, transparent=True)\n",
    "    print(\"Exported to:\\n\", filename)\n",
    "    pylab.show()\n",
    "    \n",
    "plotAndSave() \n"
   ]
  },
  {
   "cell_type": "code",
   "execution_count": 305,
   "metadata": {
    "collapsed": false,
    "format": "tab"
   },
   "outputs": [
    {
     "name": "stdout",
     "output_type": "stream",
     "text": [
      "Grafting density vs hydrodynamic radius\n",
      "===============\n",
      "Estimated from effective/near-field refractive index\n",
      "At the surface the volume fraction = surface area fraction\n",
      "Using PNIPAM n = 1.51 , and water n = 1.3356706385047694\n",
      "Single polymer cross section = 0.19 nm^2\n",
      "Core radius = 8.5 nm\n",
      "Exported to:\n",
      " graphics_vol-frac-vs-Rh_20160906.svg\n"
     ]
    },
    {
     "data": {
      "image/png": "[encoded data removed]",
      "text/plain": [
       "<matplotlib.figure.Figure at 0x183f9029a90>"
      ]
     },
     "metadata": {},
     "output_type": "display_data"
    }
   ],
   "source": [
    "nmedOfMieLSPRnm = interpolate.interp1d(lsprMiePeakArray[:,1], lsprMiePeakArray[:,0], kind=\"cubic\")\n",
    "nPNIPAM = 1.51\n",
    "nSolv = np.real(ri.nH2O(525))\n",
    "lsprPeaknmedArray = np.asarray(list(map(nmedOfMieLSPRnm, lsprPeakArray[:,0])))\n",
    "volFracArray = (lsprPeaknmedArray - nSolv)/(nPNIPAM-nSolv)\n",
    "segVolnm3, segLnm = 0.095, 0.5 # Taken from Tagliazucchi et al 2012, http://dx.doi.org/10.1021/nn303221y\n",
    "segAnm2 = segVolnm3/segLnm\n",
    "RhnmArray = lsprPeakArray[:,2]\n",
    "shellVolnm3Array = (4/3)*pi*(RhnmArray**3-rCorenm**3)\n",
    "graftingDensityArray = volFracArray*shellVolnm3Array/(segAnm2*(RhnmArray-rCorenm)*4*pi*rCorenm**2)\n",
    "\n",
    "print('Grafting density vs hydrodynamic radius')\n",
    "print('===============')\n",
    "print('Estimated from effective/near-field refractive index')\n",
    "print('At the surface the volume fraction = surface area fraction')\n",
    "print('Using PNIPAM n =', nPNIPAM, ', and water n =', nSolv)\n",
    "print('Single polymer cross section =',segAnm2,\"nm^2\")\n",
    "print('Core radius =',rCorenm,\"nm\")\n",
    "def plotAndSave ():   \n",
    "    ## Input data\n",
    "    x, y = RhnmArray, graftingDensityArray\n",
    "    xLimits = [np.amin(x), np.amax(x)]\n",
    "    yLimits = [np.amin(y), np.amax(y)]\n",
    "    dx, dy = abs(xLimits[1]-xLimits[0]), abs(yLimits[1]-yLimits[0])\n",
    "    x1, y1 = x[:len(spectraTemps[0])], y[:len(spectraTemps[0])]\n",
    "    x2, y2 = x[len(spectraTemps[0])+1:len(spectraTemps[0])+len(spectraTemps[1])], y[len(spectraTemps[0])+1:len(spectraTemps[0])+len(spectraTemps[1])]\n",
    "    x3, y3 = x[len(spectraTemps[0])+len(spectraTemps[1])+1:], y[len(spectraTemps[0])+len(spectraTemps[1])+1:]\n",
    "    \n",
    "    ## Specific format options\n",
    "    pylab.plot(x1, y1, 'o', color='red', label=\"Thick\")\n",
    "    pylab.plot(x2, y2, 'o', color='blue', label=\"Med.\")\n",
    "    pylab.plot(x3, y3, 'o', color='green', label=\"Thin\")\n",
    "    pylab.ylabel(\"Grafting density (nm$^{-2}$)\")\n",
    "    pylab.yscale('log')\n",
    "    pylab.xlabel(\"Hydrodynamic radius (nm)\")\n",
    "    pylab.legend(loc='lower right', fontsize=12)\n",
    "    \n",
    "    ## General format options\n",
    "    aspectRatio = dx/dy\n",
    "    figWidthcm = 8.9\n",
    "    figSizein = [figWidthcm/2.54, aspectRatio*figWidthcm/2.54]\n",
    "    fig = pylab.figure(1, figsize=(figSizein[0],figSizein[1]))\n",
    "    pylab.subplot(111)\n",
    "    pylab.rcParams.update({'font.size': 14})\n",
    "    #pylab.axes().set_aspect(aspectRatio)\n",
    "    pylab.xlim(xLimits[0]-0.05*dx, xLimits[1]+0.05*dx)\n",
    "    pylab.ylim(yLimits[0]-0.05*dy, yLimits[1]+0.5*dy)\n",
    "    #pylab.locator_params(nbins=7)\n",
    "    \n",
    "    ## Save and display\n",
    "    timestamp = ('{:%Y%m%d}'.format(datetime.datetime.now()))\n",
    "    exportFormat = '.svg'\n",
    "    filename = \"graphics_\"+\"vol-frac-vs-Rh_\" + timestamp + exportFormat\n",
    "    pylab.savefig(filename, transparent=True)\n",
    "    print(\"Exported to:\\n\", filename)\n",
    "    pylab.show()\n",
    "    \n",
    "plotAndSave() \n"
   ]
  },
  {
   "cell_type": "code",
   "execution_count": null,
   "metadata": {
    "collapsed": true,
    "format": "row"
   },
   "outputs": [],
   "source": []
  }
 ],
 "metadata": {
  "anaconda-cloud": {},
  "kernelspec": {
   "display_name": "Python [Root]",
   "language": "python",
   "name": "Python [Root]"
  },
  "language_info": {
   "codemirror_mode": {
    "name": "ipython",
    "version": 3
   },
   "file_extension": ".py",
   "mimetype": "text/x-python",
   "name": "python",
   "nbconvert_exporter": "python",
   "pygments_lexer": "ipython3",
   "version": "3.5.1"
  }
 },
 "nbformat": 4,
 "nbformat_minor": 0
}
